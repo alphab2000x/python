{
 "cells": [
  {
   "cell_type": "markdown",
   "metadata": {},
   "source": [
    "## Import"
   ]
  },
  {
   "cell_type": "code",
   "execution_count": 1,
   "metadata": {},
   "outputs": [],
   "source": [
    "import seaborn as sns;\n",
    "import pandas as pd;\n",
    "import numpy as np;\n",
    "import seaborn as sns;\n",
    "import matplotlib.pyplot as plt\n",
    "from sklearn.model_selection import train_test_split as TTS\n",
    "from sklearn.ensemble import GradientBoostingClassifier\n",
    "from sklearn.preprocessing import StandardScaler\n",
    "\n",
    "# pipeline elements\n",
    "from sklearn.decomposition import PCA # PCA = Principal Component Analysis\n",
    "from sklearn.neighbors import KNeighborsClassifier as KNN \n",
    "\n",
    "# pipeline materiaux\n",
    "from sklearn.pipeline import Pipeline # PCA = Principal Component Analysis\n",
    "from sklearn.model_selection import GridSearchCV"
   ]
  },
  {
   "cell_type": "markdown",
   "metadata": {},
   "source": [
    "## Collecte de données"
   ]
  },
  {
   "cell_type": "code",
   "execution_count": 2,
   "metadata": {},
   "outputs": [],
   "source": [
    "# charger le dataset\n",
    "ibm = pd.read_csv('../../data/IBM_HR_ATTRITION.csv')"
   ]
  },
  {
   "cell_type": "markdown",
   "metadata": {},
   "source": [
    "## Feature Engineer"
   ]
  },
  {
   "cell_type": "code",
   "execution_count": 3,
   "metadata": {
    "scrolled": true
   },
   "outputs": [
    {
     "name": "stdout",
     "output_type": "stream",
     "text": [
      "<class 'pandas.core.frame.DataFrame'>\n",
      "RangeIndex: 1470 entries, 0 to 1469\n",
      "Data columns (total 35 columns):\n",
      " #   Column                    Non-Null Count  Dtype \n",
      "---  ------                    --------------  ----- \n",
      " 0   Age                       1470 non-null   int64 \n",
      " 1   Attrition                 1470 non-null   object\n",
      " 2   BusinessTravel            1470 non-null   object\n",
      " 3   DailyRate                 1470 non-null   int64 \n",
      " 4   Department                1470 non-null   object\n",
      " 5   DistanceFromHome          1470 non-null   int64 \n",
      " 6   Education                 1470 non-null   int64 \n",
      " 7   EducationField            1470 non-null   object\n",
      " 8   EmployeeCount             1470 non-null   int64 \n",
      " 9   EmployeeNumber            1470 non-null   int64 \n",
      " 10  EnvironmentSatisfaction   1470 non-null   int64 \n",
      " 11  Gender                    1470 non-null   object\n",
      " 12  HourlyRate                1470 non-null   int64 \n",
      " 13  JobInvolvement            1470 non-null   int64 \n",
      " 14  JobLevel                  1470 non-null   int64 \n",
      " 15  JobRole                   1470 non-null   object\n",
      " 16  JobSatisfaction           1470 non-null   int64 \n",
      " 17  MaritalStatus             1470 non-null   object\n",
      " 18  MonthlyIncome             1470 non-null   int64 \n",
      " 19  MonthlyRate               1470 non-null   int64 \n",
      " 20  NumCompaniesWorked        1470 non-null   int64 \n",
      " 21  Over18                    1470 non-null   object\n",
      " 22  OverTime                  1470 non-null   object\n",
      " 23  PercentSalaryHike         1470 non-null   int64 \n",
      " 24  PerformanceRating         1470 non-null   int64 \n",
      " 25  RelationshipSatisfaction  1470 non-null   int64 \n",
      " 26  StandardHours             1470 non-null   int64 \n",
      " 27  StockOptionLevel          1470 non-null   int64 \n",
      " 28  TotalWorkingYears         1470 non-null   int64 \n",
      " 29  TrainingTimesLastYear     1470 non-null   int64 \n",
      " 30  WorkLifeBalance           1470 non-null   int64 \n",
      " 31  YearsAtCompany            1470 non-null   int64 \n",
      " 32  YearsInCurrentRole        1470 non-null   int64 \n",
      " 33  YearsSinceLastPromotion   1470 non-null   int64 \n",
      " 34  YearsWithCurrManager      1470 non-null   int64 \n",
      "dtypes: int64(26), object(9)\n",
      "memory usage: 402.1+ KB\n"
     ]
    }
   ],
   "source": [
    "# On va traiter les élements qui ne sont ni des float ni des int (en l'occurence les object et strings)\n",
    "\n",
    "ibm.info()"
   ]
  },
  {
   "cell_type": "code",
   "execution_count": 4,
   "metadata": {},
   "outputs": [
    {
     "name": "stdout",
     "output_type": "stream",
     "text": [
      "<class 'pandas.core.frame.DataFrame'>\n",
      "RangeIndex: 1470 entries, 0 to 1469\n",
      "Data columns (total 28 columns):\n",
      " #   Column                    Non-Null Count  Dtype\n",
      "---  ------                    --------------  -----\n",
      " 0   Age                       1470 non-null   int64\n",
      " 1   Attrition                 1470 non-null   int64\n",
      " 2   DailyRate                 1470 non-null   int64\n",
      " 3   DistanceFromHome          1470 non-null   int64\n",
      " 4   Education                 1470 non-null   int64\n",
      " 5   EmployeeCount             1470 non-null   int64\n",
      " 6   EmployeeNumber            1470 non-null   int64\n",
      " 7   EnvironmentSatisfaction   1470 non-null   int64\n",
      " 8   Gender                    1470 non-null   int64\n",
      " 9   HourlyRate                1470 non-null   int64\n",
      " 10  JobInvolvement            1470 non-null   int64\n",
      " 11  JobLevel                  1470 non-null   int64\n",
      " 12  JobSatisfaction           1470 non-null   int64\n",
      " 13  MonthlyIncome             1470 non-null   int64\n",
      " 14  MonthlyRate               1470 non-null   int64\n",
      " 15  NumCompaniesWorked        1470 non-null   int64\n",
      " 16  PercentSalaryHike         1470 non-null   int64\n",
      " 17  PerformanceRating         1470 non-null   int64\n",
      " 18  RelationshipSatisfaction  1470 non-null   int64\n",
      " 19  StandardHours             1470 non-null   int64\n",
      " 20  StockOptionLevel          1470 non-null   int64\n",
      " 21  TotalWorkingYears         1470 non-null   int64\n",
      " 22  TrainingTimesLastYear     1470 non-null   int64\n",
      " 23  WorkLifeBalance           1470 non-null   int64\n",
      " 24  YearsAtCompany            1470 non-null   int64\n",
      " 25  YearsInCurrentRole        1470 non-null   int64\n",
      " 26  YearsSinceLastPromotion   1470 non-null   int64\n",
      " 27  YearsWithCurrManager      1470 non-null   int64\n",
      "dtypes: int64(28)\n",
      "memory usage: 321.7 KB\n"
     ]
    }
   ],
   "source": [
    "ibm = ibm.drop(['OverTime','Over18','MaritalStatus','JobRole','EducationField','Department','BusinessTravel'],axis=1)\n",
    "attrition = {'Yes': 1, 'No': 0} #On defini les noms des variables qui vont être transformer en bolean\n",
    "ibm['Attrition'] = ibm['Attrition'].map(attrition) #On cast la colonne de notre tableau\n",
    "gender = {'Female': 1, 'Male': 0} #On defini les noms des variables qui vont être transformer en bolean\n",
    "ibm['Gender'] = ibm['Gender'].map(gender) #On cast la colonne de notre tableau\n",
    "ibm.info()"
   ]
  },
  {
   "cell_type": "code",
   "execution_count": 5,
   "metadata": {},
   "outputs": [],
   "source": [
    "Y = ibm['Attrition'].astype('category').cat.codes # On veut afficher le type de fleur\n",
    "X = ibm.drop('Attrition', axis='columns') # On garde que les dimension de la fleur"
   ]
  },
  {
   "cell_type": "markdown",
   "metadata": {},
   "source": [
    "## Entrainer le model"
   ]
  },
  {
   "cell_type": "code",
   "execution_count": 6,
   "metadata": {},
   "outputs": [],
   "source": [
    "X_tr, X_te, Y_tr, Y_te = TTS(X, Y,              # features, target\n",
    "                            stratify = Y,       # Va prendre une proportion aux hasard de valeurs différentes histoire de ne pas avoir des cas où l'on a que des même valeur\n",
    "                            random_state=777,   # Sert à fixer le harsard pour ne pas avoir des résultat différents à chaque tests.\n",
    "                            train_size=0.8)     # 50% de X_train et Y_train et 50% de Y_test et Y_test"
   ]
  },
  {
   "cell_type": "code",
   "execution_count": 7,
   "metadata": {},
   "outputs": [
    {
     "ename": "SyntaxError",
     "evalue": "invalid syntax (<ipython-input-7-0a920df1a291>, line 1)",
     "output_type": "error",
     "traceback": [
      "\u001b[1;36m  File \u001b[1;32m\"<ipython-input-7-0a920df1a291>\"\u001b[1;36m, line \u001b[1;32m1\u001b[0m\n\u001b[1;33m    for each in [X _tr, X_te, Y_tr, Y_te]:\u001b[0m\n\u001b[1;37m                   ^\u001b[0m\n\u001b[1;31mSyntaxError\u001b[0m\u001b[1;31m:\u001b[0m invalid syntax\n"
     ]
    }
   ],
   "source": [
    "for each in [X _tr, X_te, Y_tr, Y_te]:\n",
    "    print(each.shape)"
   ]
  },
  {
   "cell_type": "code",
   "execution_count": 8,
   "metadata": {},
   "outputs": [],
   "source": [
    "# Créer la pipeline\n",
    "#\n",
    "# Enssemble d'algorithme compliqué\n",
    "# Param: Algo pca, permet de connaitre la valeur d'accuracy d'une valeur\n",
    "#              d'un point, il va tester les colonne 1 par 1 afin de savoir\n",
    "#              quelles sont les colonnes qui on le plus d'accuracy pour définir les colonnes \n",
    "#              les plus utile afin de diminué le nombre de features et donc d'augmenter \n",
    "#              les performances de calculs\n",
    "#        Algo knn, de l'anglais k-nearest neighbors.\n",
    "#              Pour estimer la sortie associée à une nouvelle entrée x, \n",
    "#              la méthode des k plus proches voisins consiste à prendre en compte (de façon identique) \n",
    "#              les k échantillons d'apprentissage dont l’entrée est la plus proche de la nouvelle entrée x,\n",
    "#              selon une distance à définir.\n",
    "\n",
    "pipeline_details = [('pca', PCA()),      # Algo de dimension reduction\n",
    "                  ('knn', KNN())]        # Algo de machine learning "
   ]
  },
  {
   "cell_type": "code",
   "execution_count": 9,
   "metadata": {},
   "outputs": [],
   "source": [
    "pipeline = Pipeline(pipeline_details)"
   ]
  },
  {
   "cell_type": "code",
   "execution_count": 10,
   "metadata": {},
   "outputs": [
    {
     "data": {
      "text/plain": [
       "Pipeline(steps=[('pca', PCA()), ('knn', KNeighborsClassifier())])"
      ]
     },
     "execution_count": 10,
     "metadata": {},
     "output_type": "execute_result"
    }
   ],
   "source": [
    "pipeline"
   ]
  },
  {
   "cell_type": "code",
   "execution_count": 11,
   "metadata": {},
   "outputs": [
    {
     "data": {
      "text/plain": [
       "{'pca__n_components': [1, 2, 3, 4, 5, 6, 7, 8, 9, 10],\n",
       " 'knn__n_neighbors': [1, 2, 3, 9, 21]}"
      ]
     },
     "execution_count": 11,
     "metadata": {},
     "output_type": "execute_result"
    }
   ],
   "source": [
    "# Paramètrer la Grid Search\n",
    "hyperparameters = {}\n",
    "hyperparameters['pca__n_components'] = list(range(1, 10+1, 1)) # Il va faire des test de 1 à 64 avec un pas de 3. Il s'agit de la liste des variable qui sera stocker dans n_component. Celle qui aura le meilleurs résultat sera testé.\n",
    "hyperparameters['knn__n_neighbors'] = [1, 2, 3, 9, 21]         # Il va chercher avec 1 voisin jusqu'a 21 et celui qui aura la meilleurs accuracy sera selectionner\n",
    "\n",
    "hyperparameters"
   ]
  },
  {
   "cell_type": "code",
   "execution_count": 12,
   "metadata": {},
   "outputs": [],
   "source": [
    "# Créer la grid search\n",
    "\n",
    "hyperparameter_search = GridSearchCV(pipeline,            # Notre pipeline\n",
    "                                    hyperparameters,      # Notre hyperparametre\n",
    "                                    scoring='accuracy',   # Ce qui nous interesse, c'est l'accuracy\n",
    "                                    cv=5)                 # cv est le nombre de model utilisé"
   ]
  },
  {
   "cell_type": "code",
   "execution_count": 13,
   "metadata": {},
   "outputs": [
    {
     "data": {
      "text/plain": [
       "GridSearchCV(cv=5,\n",
       "             estimator=Pipeline(steps=[('pca', PCA()),\n",
       "                                       ('knn', KNeighborsClassifier())]),\n",
       "             param_grid={'knn__n_neighbors': [1, 2, 3, 9, 21],\n",
       "                         'pca__n_components': [1, 2, 3, 4, 5, 6, 7, 8, 9, 10]},\n",
       "             scoring='accuracy')"
      ]
     },
     "execution_count": 13,
     "metadata": {},
     "output_type": "execute_result"
    }
   ],
   "source": [
    "hyperparameter_search"
   ]
  },
  {
   "cell_type": "code",
   "execution_count": 14,
   "metadata": {},
   "outputs": [
    {
     "data": {
      "text/plain": [
       "GridSearchCV(cv=5,\n",
       "             estimator=Pipeline(steps=[('pca', PCA()),\n",
       "                                       ('knn', KNeighborsClassifier())]),\n",
       "             param_grid={'knn__n_neighbors': [1, 2, 3, 9, 21],\n",
       "                         'pca__n_components': [1, 2, 3, 4, 5, 6, 7, 8, 9, 10]},\n",
       "             scoring='accuracy')"
      ]
     },
     "execution_count": 14,
     "metadata": {},
     "output_type": "execute_result"
    }
   ],
   "source": [
    "hyperparameter_search.fit(X_tr, Y_tr)"
   ]
  },
  {
   "cell_type": "code",
   "execution_count": 15,
   "metadata": {},
   "outputs": [
    {
     "data": {
      "text/plain": [
       "0.838434908041832"
      ]
     },
     "execution_count": 15,
     "metadata": {},
     "output_type": "execute_result"
    }
   ],
   "source": [
    "hyperparameter_search.best_score_"
   ]
  },
  {
   "cell_type": "code",
   "execution_count": 16,
   "metadata": {},
   "outputs": [
    {
     "data": {
      "text/plain": [
       "{'knn__n_neighbors': 21, 'pca__n_components': 1}"
      ]
     },
     "execution_count": 16,
     "metadata": {},
     "output_type": "execute_result"
    }
   ],
   "source": [
    "hyperparameter_search.best_params_"
   ]
  },
  {
   "cell_type": "code",
   "execution_count": 17,
   "metadata": {},
   "outputs": [],
   "source": [
    "pca = PCA(n_components=10)\n",
    "knn = KNN(n_neighbors=3)"
   ]
  },
  {
   "cell_type": "code",
   "execution_count": 18,
   "metadata": {},
   "outputs": [
    {
     "data": {
      "text/plain": [
       "PCA(n_components=10)"
      ]
     },
     "execution_count": 18,
     "metadata": {},
     "output_type": "execute_result"
    }
   ],
   "source": [
    "pca.fit(X_tr)"
   ]
  },
  {
   "cell_type": "code",
   "execution_count": 308,
   "metadata": {},
   "outputs": [],
   "source": [
    "X_tr_PCA = pca.transform(X_tr)  # On utilise en général le pca.transform pour optimiser avant le fit\n",
    "X_te_PCA = pca.transform(X_te)\n",
    "\n",
    "knn.fit(X_tr_PCA, Y_tr)\n",
    "predictions = knn.predict(X_te_PCA) # On veut faire une prédiction par rapport à notre X_te_PCA"
   ]
  },
  {
   "cell_type": "code",
   "execution_count": 309,
   "metadata": {},
   "outputs": [
    {
     "data": {
      "text/plain": [
       "('TEST ACCURACY: ', 0.7891156462585034)"
      ]
     },
     "execution_count": 309,
     "metadata": {},
     "output_type": "execute_result"
    }
   ],
   "source": [
    "# On chercher à prédir X_te_PCA par rapport à Y_te\n",
    "\n",
    "accuracy = lambda p,y: (p==y).sum()/p.shape[0] # Notre fonction de précision\n",
    "\"TEST ACCURACY: \", accuracy(predictions, Y_te)"
   ]
  },
  {
   "cell_type": "code",
   "execution_count": 310,
   "metadata": {},
   "outputs": [
    {
     "data": {
      "text/plain": [
       "('TRAIN ACCURACY: ', 0.8758503401360545)"
      ]
     },
     "execution_count": 310,
     "metadata": {},
     "output_type": "execute_result"
    }
   ],
   "source": [
    "# On cherche à prédir X_tr_PCA par rapport à Y_tr\n",
    "\n",
    "train_preds = knn.predict(X_tr_PCA)\n",
    "\"TRAIN ACCURACY: \", accuracy(train_preds, Y_tr)"
   ]
  },
  {
   "cell_type": "markdown",
   "metadata": {},
   "source": [
    "## Confusion matrix"
   ]
  },
  {
   "cell_type": "code",
   "execution_count": 317,
   "metadata": {},
   "outputs": [
    {
     "data": {
      "text/plain": [
       "array([0, 0, 0, ..., 0, 0, 0], dtype=int8)"
      ]
     },
     "execution_count": 317,
     "metadata": {},
     "output_type": "execute_result"
    }
   ],
   "source": [
    "X.shape, Y.shape"
   ]
  },
  {
   "cell_type": "code",
   "execution_count": null,
   "metadata": {},
   "outputs": [],
   "source": []
  },
  {
   "cell_type": "code",
   "execution_count": 321,
   "metadata": {},
   "outputs": [],
   "source": [
    "# Matrice de confusion \n",
    "#\n",
    "# la matrice de confusion est une matrice qui mesure la qualité d'un système de classification. \n",
    "# Chaque ligne correspond à une classe réelle, chaque colonne correspond à une classe estimée. \n",
    "\n",
    "(train_preds, Y_tr)\n",
    "(predictions, Y_te)\n",
    "\n",
    "from sklearn.metrics import confusion_matrix\n",
    "\n",
    "labels = range(2)                                             # Equivaut aux valeurs que peut retourner la target\n",
    "cm_train = confusion_matrix(train_preds, Y_tr, labels=labels)\n",
    "cm_test = confusion_matrix(predictions, Y_te, labels=labels)"
   ]
  },
  {
   "cell_type": "code",
   "execution_count": 273,
   "metadata": {},
   "outputs": [
    {
     "data": {
      "text/plain": [
       "array([1, 0], dtype=int8)"
      ]
     },
     "execution_count": 273,
     "metadata": {},
     "output_type": "execute_result"
    }
   ],
   "source": [
    "Y.unique()"
   ]
  },
  {
   "cell_type": "code",
   "execution_count": 274,
   "metadata": {},
   "outputs": [
    {
     "data": {
      "text/plain": [
       "range(0, 2)"
      ]
     },
     "execution_count": 274,
     "metadata": {},
     "output_type": "execute_result"
    }
   ],
   "source": [
    "labels"
   ]
  },
  {
   "cell_type": "code",
   "execution_count": 275,
   "metadata": {},
   "outputs": [],
   "source": [
    "def show_cm(cm, labels):\n",
    "    df_cm = pd.DataFrame(cm, labels, labels)\n",
    "    sns.heatmap(df_cm, annot=True)\n",
    "    plt.show()"
   ]
  },
  {
   "cell_type": "code",
   "execution_count": 276,
   "metadata": {},
   "outputs": [
    {
     "data": {
      "image/png": "[encoded data removed]",
      "text/plain": [
       "<Figure size 432x288 with 2 Axes>"
      ]
     },
     "metadata": {
      "needs_background": "light"
     },
     "output_type": "display_data"
    }
   ],
   "source": [
    "show_cm(cm_train, labels)"
   ]
  },
  {
   "cell_type": "code",
   "execution_count": 277,
   "metadata": {},
   "outputs": [
    {
     "data": {
      "text/plain": [
       "array([[952, 112],\n",
       "       [ 34,  78]], dtype=int64)"
      ]
     },
     "execution_count": 277,
     "metadata": {},
     "output_type": "execute_result"
    }
   ],
   "source": [
    "cm_train"
   ]
  },
  {
   "cell_type": "code",
   "execution_count": 278,
   "metadata": {},
   "outputs": [
    {
     "data": {
      "text/plain": [
       "array([[227,  42],\n",
       "       [ 20,   5]], dtype=int64)"
      ]
     },
     "execution_count": 278,
     "metadata": {},
     "output_type": "execute_result"
    }
   ],
   "source": [
    "cm_test"
   ]
  },
  {
   "cell_type": "code",
   "execution_count": 284,
   "metadata": {},
   "outputs": [
    {
     "data": {
      "image/png": "[encoded data removed]",
      "text/plain": [
       "<Figure size 432x288 with 2 Axes>"
      ]
     },
     "metadata": {
      "needs_background": "light"
     },
     "output_type": "display_data"
    }
   ],
   "source": [
    "show_cm(cm_test, labels)"
   ]
  },
  {
   "cell_type": "code",
   "execution_count": 281,
   "metadata": {},
   "outputs": [
    {
     "data": {
      "text/plain": [
       "1172"
      ]
     },
     "execution_count": 281,
     "metadata": {},
     "output_type": "execute_result"
    }
   ],
   "source": [
    "# On souhaite retrouvé nos résultat de départ\n",
    "\n",
    "950 + 110 + 34 +78"
   ]
  },
  {
   "cell_type": "code",
   "execution_count": 282,
   "metadata": {},
   "outputs": [
    {
     "data": {
      "text/plain": [
       "8.13888888888889"
      ]
     },
     "execution_count": 282,
     "metadata": {},
     "output_type": "execute_result"
    }
   ],
   "source": [
    "# On regarde le score obtenu\n",
    "\n",
    "1172 / (110 + 34)"
   ]
  },
  {
   "cell_type": "code",
   "execution_count": 283,
   "metadata": {},
   "outputs": [
    {
     "data": {
      "text/plain": [
       "0.8771331058020477"
      ]
     },
     "execution_count": 283,
     "metadata": {},
     "output_type": "execute_result"
    }
   ],
   "source": [
    "# On regarde si l'on a retrouver le poucentage obtenu lors de l'accuracy\n",
    "\n",
    "(950 + 78) / 1172"
   ]
  },
  {
   "cell_type": "code",
   "execution_count": null,
   "metadata": {},
   "outputs": [],
   "source": []
  }
 ],
 "metadata": {
  "kernelspec": {
   "display_name": "Python 3",
   "language": "python",
   "name": "python3"
  },
  "language_info": {
   "codemirror_mode": {
    "name": "ipython",
    "version": 3
   },
   "file_extension": ".py",
   "mimetype": "text/x-python",
   "name": "python",
   "nbconvert_exporter": "python",
   "pygments_lexer": "ipython3",
   "version": "3.8.1"
  }
 },
 "nbformat": 4,
 "nbformat_minor": 4
}
