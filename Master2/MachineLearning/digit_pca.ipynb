{
 "cells": [
  {
   "cell_type": "code",
   "execution_count": 18,
   "metadata": {
    "id": "KBDjPgI4TbNS"
   },
   "outputs": [],
   "source": [
    "import seaborn as sns; sns.set()\n",
    "from sklearn.datasets import load_digits\n",
    "digits = load_digits()\n",
    "\n",
    "images = digits.images\n",
    "targets = digits.target"
   ]
  },
  {
   "cell_type": "code",
   "execution_count": 19,
   "metadata": {
    "colab": {
     "base_uri": "https://localhost:8080/",
     "height": 34
    },
    "id": "es89RyO2Tj9I",
    "outputId": "07181115-fa33-4a7a-cd6b-8c425d5230dd"
   },
   "outputs": [
    {
     "data": {
      "text/plain": [
       "(1797, 8, 8)"
      ]
     },
     "execution_count": 19,
     "metadata": {
      "tags": []
     },
     "output_type": "execute_result"
    }
   ],
   "source": [
    "images.shape"
   ]
  },
  {
   "cell_type": "markdown",
   "metadata": {
    "id": "yDqw0dhNX1Kk"
   },
   "source": [
    "## Isolation"
   ]
  },
  {
   "cell_type": "code",
   "execution_count": 20,
   "metadata": {
    "id": "Nh_Ri020WbNc"
   },
   "outputs": [],
   "source": [
    "X = images.reshape(-1, 64)"
   ]
  },
  {
   "cell_type": "code",
   "execution_count": 21,
   "metadata": {
    "id": "FX1OXHViWqOB"
   },
   "outputs": [],
   "source": [
    "Y = targets"
   ]
  },
  {
   "cell_type": "code",
   "execution_count": 22,
   "metadata": {
    "id": "YlWvd8HHW1Fd"
   },
   "outputs": [],
   "source": [
    "import matplotlib.pyplot as plt"
   ]
  },
  {
   "cell_type": "code",
   "execution_count": 23,
   "metadata": {
    "id": "r35yWjxmW7Iv"
   },
   "outputs": [],
   "source": [
    "def show_example(index):\n",
    "  print(targets[index])\n",
    "  plt.imshow(images[index], cmap=\"binary\")\n",
    "  plt.show()\n",
    "  print()"
   ]
  },
  {
   "cell_type": "code",
   "execution_count": null,
   "metadata": {
    "id": "eP4YmF-YXkap"
   },
   "outputs": [],
   "source": []
  },
  {
   "cell_type": "markdown",
   "metadata": {
    "id": "3HYdS55CYM4e"
   },
   "source": [
    "## Split"
   ]
  },
  {
   "cell_type": "code",
   "execution_count": 26,
   "metadata": {
    "colab": {
     "base_uri": "https://localhost:8080/",
     "height": 85
    },
    "id": "9fYSl1ehYO0B",
    "outputId": "cfff5eb9-3343-4375-e499-dc817d52e199"
   },
   "outputs": [
    {
     "name": "stdout",
     "output_type": "stream",
     "text": [
      "(1437, 64)\n",
      "(360, 64)\n",
      "(1437,)\n",
      "(360,)\n"
     ]
    }
   ],
   "source": [
    "from sklearn.model_selection import train_test_split as TTS\n",
    "\n",
    "X_tr, X_te, Y_tr, Y_te = TTS(X,Y,\n",
    "                             stratify=Y,\n",
    "                             random_state=777,\n",
    "                             train_size=0.8)\n",
    "for each in [X_tr, X_te, Y_tr, Y_te]:\n",
    "  print(each.shape)"
   ]
  },
  {
   "cell_type": "code",
   "execution_count": null,
   "metadata": {
    "id": "dYDbdxhEY0va"
   },
   "outputs": [],
   "source": []
  },
  {
   "cell_type": "markdown",
   "metadata": {
    "id": "SrrlLtw9ZB5v"
   },
   "source": [
    "## Pipeline - mis en place"
   ]
  },
  {
   "cell_type": "code",
   "execution_count": 29,
   "metadata": {
    "id": "AfCF87ltZE0v"
   },
   "outputs": [],
   "source": [
    "# pipeline éléments \n",
    "from sklearn.decomposition import PCA\n",
    "from sklearn.neighbors import KNeighborsClassifier as KNN\n",
    "\n",
    "# pipeline Matriaux\n",
    "from sklearn.pipeline import Pipeline\n",
    "from sklearn.model_selection import GridSearchCV"
   ]
  },
  {
   "cell_type": "code",
   "execution_count": 31,
   "metadata": {
    "colab": {
     "base_uri": "https://localhost:8080/",
     "height": 204
    },
    "id": "oNdWgvyyZSXH",
    "outputId": "4ad829b7-a1c2-4b91-fa0c-a2c58e399521"
   },
   "outputs": [
    {
     "data": {
      "text/plain": [
       "Pipeline(memory=None,\n",
       "         steps=[('pca',\n",
       "                 PCA(copy=True, iterated_power='auto', n_components=None,\n",
       "                     random_state=42, svd_solver='auto', tol=0.0,\n",
       "                     whiten=False)),\n",
       "                ('knn',\n",
       "                 KNeighborsClassifier(algorithm='auto', leaf_size=30,\n",
       "                                      metric='minkowski', metric_params=None,\n",
       "                                      n_jobs=None, n_neighbors=5, p=2,\n",
       "                                      weights='uniform'))],\n",
       "         verbose=False)"
      ]
     },
     "execution_count": 31,
     "metadata": {
      "tags": []
     },
     "output_type": "execute_result"
    }
   ],
   "source": [
    "# Créer la pipeline\n",
    "pipeline_details = [('pca', PCA(random_state=42)),\n",
    "                    ('knn', KNN())]\n",
    "\n",
    "pipeline = Pipeline(pipeline_details)"
   ]
  },
  {
   "cell_type": "code",
   "execution_count": 36,
   "metadata": {
    "id": "98dieKnhaFX2"
   },
   "outputs": [],
   "source": [
    "# Parametrer la Gris Search\n",
    "hyperparameters = {}\n",
    "hyperparameters['pca__n_components'] = list(range(1, 64+1, 3))\n",
    "hyperparameters['knn__n_neighbors'] = [1,3,5,9,21]"
   ]
  },
  {
   "cell_type": "code",
   "execution_count": 37,
   "metadata": {
    "colab": {
     "base_uri": "https://localhost:8080/",
     "height": 408
    },
    "id": "EgohopOjavZ5",
    "outputId": "1aaaff93-bff4-4d95-d172-84e4a96257bf"
   },
   "outputs": [
    {
     "data": {
      "text/plain": [
       "GridSearchCV(cv=5, error_score=nan,\n",
       "             estimator=Pipeline(memory=None,\n",
       "                                steps=[('pca',\n",
       "                                        PCA(copy=True, iterated_power='auto',\n",
       "                                            n_components=None, random_state=42,\n",
       "                                            svd_solver='auto', tol=0.0,\n",
       "                                            whiten=False)),\n",
       "                                       ('knn',\n",
       "                                        KNeighborsClassifier(algorithm='auto',\n",
       "                                                             leaf_size=30,\n",
       "                                                             metric='minkowski',\n",
       "                                                             metric_params=None,\n",
       "                                                             n_jobs=None,\n",
       "                                                             n_neighbors=5, p=2,\n",
       "                                                             weights='uniform'))],\n",
       "                                verbose=False),\n",
       "             iid='deprecated', n_jobs=None,\n",
       "             param_grid={'knn__n_neighbors': [1, 3, 5, 9, 21],\n",
       "                         'pca__n_components': [1, 4, 7, 10, 13, 16, 19, 22, 25,\n",
       "                                               28, 31, 34, 37, 40, 43, 46, 49,\n",
       "                                               52, 55, 58, 61, 64]},\n",
       "             pre_dispatch='2*n_jobs', refit=True, return_train_score=False,\n",
       "             scoring='accuracy', verbose=0)"
      ]
     },
     "execution_count": 37,
     "metadata": {
      "tags": []
     },
     "output_type": "execute_result"
    }
   ],
   "source": [
    "# Créer la grid search\n",
    "hyperparameters_search = GridSearchCV(pipeline,\n",
    "                                      hyperparameters,\n",
    "                                      scoring='accuracy',\n",
    "                                      cv=5)\n",
    "hyperparameters_search"
   ]
  },
  {
   "cell_type": "markdown",
   "metadata": {
    "id": "-yF5Jjm4chI_"
   },
   "source": [
    "## Lancer la recherche"
   ]
  },
  {
   "cell_type": "code",
   "execution_count": 39,
   "metadata": {
    "colab": {
     "base_uri": "https://localhost:8080/",
     "height": 408
    },
    "id": "vEpDNkCKceAw",
    "outputId": "13413b01-2ac6-4af0-b8ec-ebceb57f9569"
   },
   "outputs": [
    {
     "data": {
      "text/plain": [
       "GridSearchCV(cv=5, error_score=nan,\n",
       "             estimator=Pipeline(memory=None,\n",
       "                                steps=[('pca',\n",
       "                                        PCA(copy=True, iterated_power='auto',\n",
       "                                            n_components=None, random_state=42,\n",
       "                                            svd_solver='auto', tol=0.0,\n",
       "                                            whiten=False)),\n",
       "                                       ('knn',\n",
       "                                        KNeighborsClassifier(algorithm='auto',\n",
       "                                                             leaf_size=30,\n",
       "                                                             metric='minkowski',\n",
       "                                                             metric_params=None,\n",
       "                                                             n_jobs=None,\n",
       "                                                             n_neighbors=5, p=2,\n",
       "                                                             weights='uniform'))],\n",
       "                                verbose=False),\n",
       "             iid='deprecated', n_jobs=None,\n",
       "             param_grid={'knn__n_neighbors': [1, 3, 5, 9, 21],\n",
       "                         'pca__n_components': [1, 4, 7, 10, 13, 16, 19, 22, 25,\n",
       "                                               28, 31, 34, 37, 40, 43, 46, 49,\n",
       "                                               52, 55, 58, 61, 64]},\n",
       "             pre_dispatch='2*n_jobs', refit=True, return_train_score=False,\n",
       "             scoring='accuracy', verbose=0)"
      ]
     },
     "execution_count": 39,
     "metadata": {
      "tags": []
     },
     "output_type": "execute_result"
    }
   ],
   "source": [
    "# go ! \n",
    "hyperparameters_search.fit(X_tr, Y_tr)"
   ]
  },
  {
   "cell_type": "code",
   "execution_count": null,
   "metadata": {
    "id": "LCtKD-Vwclqd"
   },
   "outputs": [],
   "source": []
  },
  {
   "cell_type": "markdown",
   "metadata": {
    "id": "ppeXvLXLc3wu"
   },
   "source": [
    "## Récolter résultats"
   ]
  },
  {
   "cell_type": "code",
   "execution_count": 40,
   "metadata": {
    "colab": {
     "base_uri": "https://localhost:8080/",
     "height": 34
    },
    "id": "Uzl8uQ0zc3TN",
    "outputId": "5a2dcd71-46b4-4f23-89cb-ccf408284064"
   },
   "outputs": [
    {
     "data": {
      "text/plain": [
       "0.985387630662021"
      ]
     },
     "execution_count": 40,
     "metadata": {
      "tags": []
     },
     "output_type": "execute_result"
    }
   ],
   "source": [
    "hyperparameters_search.best_score_"
   ]
  },
  {
   "cell_type": "code",
   "execution_count": 41,
   "metadata": {
    "colab": {
     "base_uri": "https://localhost:8080/",
     "height": 34
    },
    "id": "rZBc2gZKc-el",
    "outputId": "01c8100c-eab1-4db7-c314-f19f6533c458"
   },
   "outputs": [
    {
     "data": {
      "text/plain": [
       "{'knn__n_neighbors': 3, 'pca__n_components': 43}"
      ]
     },
     "execution_count": 41,
     "metadata": {
      "tags": []
     },
     "output_type": "execute_result"
    }
   ],
   "source": [
    "hyperparameters_search.best_params_"
   ]
  },
  {
   "cell_type": "markdown",
   "metadata": {
    "id": "qwtQIyNqdE_t"
   },
   "source": [
    "## Ré-entrainer un modèle avec la meilleur config (estimée) sur la totalité du TrainSet !"
   ]
  },
  {
   "cell_type": "code",
   "execution_count": 42,
   "metadata": {
    "id": "t7axnisYdB8y"
   },
   "outputs": [],
   "source": [
    "pca = PCA(n_components=43)\n",
    "knn = KNN(n_neighbors=3)\n",
    "\n",
    "pca.fit(X_tr)\n",
    "X_tr_PCA = pca.transform(X_tr)\n",
    "X_te_PCA = pca.transform(X_te)\n",
    "\n",
    "knn.fit(X_tr_PCA, Y_tr)\n",
    "predictions = knn.predict(X_te_PCA)"
   ]
  },
  {
   "cell_type": "code",
   "execution_count": 43,
   "metadata": {
    "colab": {
     "base_uri": "https://localhost:8080/",
     "height": 34
    },
    "id": "erHHLvibd_C-",
    "outputId": "cfdb39df-672f-48b0-a53f-b0b1a4cd6c11"
   },
   "outputs": [
    {
     "data": {
      "text/plain": [
       "('TEST ACCURACY: ', 0.9944444444444445)"
      ]
     },
     "execution_count": 43,
     "metadata": {
      "tags": []
     },
     "output_type": "execute_result"
    }
   ],
   "source": [
    "accuracy = lambda p,y: (p==y).sum()/p.shape[0]\n",
    "\"TEST ACCURACY: \", accuracy(predictions, Y_te)"
   ]
  },
  {
   "cell_type": "code",
   "execution_count": 45,
   "metadata": {
    "colab": {
     "base_uri": "https://localhost:8080/",
     "height": 34
    },
    "id": "lSRXIpcBeavZ",
    "outputId": "080ebb18-722d-469b-ced3-65ea6a499cb2"
   },
   "outputs": [
    {
     "data": {
      "text/plain": [
       "('TRAIN ACCURACY: ', 0.9916492693110647)"
      ]
     },
     "execution_count": 45,
     "metadata": {
      "tags": []
     },
     "output_type": "execute_result"
    }
   ],
   "source": [
    "train_preds = knn.predict(X_tr_PCA)\n",
    "\"TRAIN ACCURACY: \", accuracy(train_preds, Y_tr)"
   ]
  },
  {
   "cell_type": "markdown",
   "metadata": {
    "id": "Ta805EfFfJVW"
   },
   "source": [
    "## Confusion Matrix"
   ]
  },
  {
   "cell_type": "code",
   "execution_count": 46,
   "metadata": {
    "id": "fFDdWXJeezPR"
   },
   "outputs": [],
   "source": [
    "(train_preds, Y_tr)\n",
    "(predictions, Y_te)\n",
    "\n",
    "from sklearn.metrics import confusion_matrix\n",
    "\n",
    "labels = range(10)\n",
    "cm_train = confusion_matrix(train_preds, Y_tr, labels=labels)\n",
    "cm_test = confusion_matrix(predictions, Y_te, labels=labels)"
   ]
  },
  {
   "cell_type": "code",
   "execution_count": 47,
   "metadata": {
    "colab": {
     "base_uri": "https://localhost:8080/",
     "height": 187
    },
    "id": "-ahvduWfguOr",
    "outputId": "2c1bf704-d7d2-4f2c-8530-9eae4a9c0f3c"
   },
   "outputs": [
    {
     "data": {
      "text/plain": [
       "array([[142,   0,   0,   0,   0,   0,   0,   0,   0,   0],\n",
       "       [  0, 146,   0,   0,   0,   0,   0,   0,   2,   1],\n",
       "       [  0,   0, 142,   0,   0,   0,   0,   0,   0,   0],\n",
       "       [  0,   0,   0, 145,   0,   0,   0,   0,   0,   2],\n",
       "       [  0,   0,   0,   0, 145,   0,   0,   0,   0,   1],\n",
       "       [  0,   0,   0,   0,   0, 143,   0,   0,   0,   1],\n",
       "       [  0,   0,   0,   0,   0,   1, 145,   0,   0,   0],\n",
       "       [  0,   0,   0,   1,   0,   0,   0, 142,   0,   0],\n",
       "       [  0,   0,   0,   0,   0,   0,   0,   0, 137,   1],\n",
       "       [  0,   0,   0,   0,   0,   1,   0,   1,   0, 138]])"
      ]
     },
     "execution_count": 47,
     "metadata": {
      "tags": []
     },
     "output_type": "execute_result"
    }
   ],
   "source": [
    "cm_train"
   ]
  },
  {
   "cell_type": "code",
   "execution_count": 48,
   "metadata": {
    "colab": {
     "base_uri": "https://localhost:8080/",
     "height": 187
    },
    "id": "lvfX6iqRgxr-",
    "outputId": "3684d5a1-5905-4aec-d316-89188a2f5bb7"
   },
   "outputs": [
    {
     "data": {
      "text/plain": [
       "array([[36,  0,  0,  0,  0,  0,  0,  0,  0,  0],\n",
       "       [ 0, 36,  0,  0,  0,  0,  0,  0,  0,  0],\n",
       "       [ 0,  0, 35,  0,  0,  0,  0,  0,  0,  0],\n",
       "       [ 0,  0,  0, 37,  0,  0,  0,  0,  0,  0],\n",
       "       [ 0,  0,  0,  0, 36,  0,  0,  0,  0,  0],\n",
       "       [ 0,  0,  0,  0,  0, 36,  0,  0,  0,  0],\n",
       "       [ 0,  0,  0,  0,  0,  0, 36,  0,  0,  0],\n",
       "       [ 0,  0,  0,  0,  0,  0,  0, 36,  0,  0],\n",
       "       [ 0,  0,  0,  0,  0,  0,  0,  0, 35,  1],\n",
       "       [ 0,  0,  0,  0,  0,  1,  0,  0,  0, 35]])"
      ]
     },
     "execution_count": 48,
     "metadata": {
      "tags": []
     },
     "output_type": "execute_result"
    }
   ],
   "source": [
    "cm_test"
   ]
  },
  {
   "cell_type": "code",
   "execution_count": 51,
   "metadata": {
    "id": "xEfNc6O-gzQt"
   },
   "outputs": [],
   "source": [
    "import pandas as pd\n",
    "\n",
    "def show_cm(cm, labels):\n",
    "  df_cm = pd.DataFrame(cm,labels, labels)\n",
    "  sns.heatmap(df_cm, annot=True)\n",
    "  plt.show()"
   ]
  },
  {
   "cell_type": "code",
   "execution_count": 52,
   "metadata": {
    "colab": {
     "base_uri": "https://localhost:8080/",
     "height": 268
    },
    "id": "74m10EpkhamN",
    "outputId": "82b2bcd3-ba34-435c-e0f3-3abda5dcb020"
   },
   "outputs": [
    {
     "data": {
      "image/png": "[encoded data removed]",
      "text/plain": [
       "<Figure size 432x288 with 2 Axes>"
      ]
     },
     "metadata": {
      "tags": []
     },
     "output_type": "display_data"
    }
   ],
   "source": [
    "show_cm(cm_train, labels)"
   ]
  },
  {
   "cell_type": "code",
   "execution_count": null,
   "metadata": {
    "id": "0Ccqmt37hg2S"
   },
   "outputs": [],
   "source": []
  }
 ],
 "metadata": {
  "colab": {
   "name": "digit_pca.ipynb",
   "provenance": []
  },
  "kernelspec": {
   "display_name": "Python 3",
   "language": "python",
   "name": "python3"
  },
  "language_info": {
   "codemirror_mode": {
    "name": "ipython",
    "version": 3
   },
   "file_extension": ".py",
   "mimetype": "text/x-python",
   "name": "python",
   "nbconvert_exporter": "python",
   "pygments_lexer": "ipython3",
   "version": "3.8.1"
  }
 },
 "nbformat": 4,
 "nbformat_minor": 1
}
