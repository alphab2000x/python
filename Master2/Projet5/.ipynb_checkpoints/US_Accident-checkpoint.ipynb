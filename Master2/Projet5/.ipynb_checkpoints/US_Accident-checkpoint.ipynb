{
 "cells": [
  {
   "cell_type": "markdown",
   "metadata": {},
   "source": [
    "# US Accident"
   ]
  },
  {
   "cell_type": "markdown",
   "metadata": {},
   "source": [
    "## Contexte"
   ]
  },
  {
   "cell_type": "markdown",
   "metadata": {},
   "source": [
    "Nous constatons qu'il y a beaucoup d'accidents de voiture dans le monde. Les Etats-Unis n'échappe pas à la règle avec plusieurs milliers d'accidents dans le monde. Ainsi, nous allons nous poser 2 questions :\n",
    "    <ul>\n",
    "    <li>Quelles sont les régions les plus touchées par les accidents de voitures</li>\n",
    "    <li>En cas d'accidents, quelles s'étaient les gravitées des accidents</li>\n",
    "    </ul>\n",
    "    \n",
    "Nous allons égalements chercher à comprendre quelles sont les causes de ces accidents."
   ]
  },
  {
   "cell_type": "markdown",
   "metadata": {},
   "source": [
    "## Liens utiles"
   ]
  },
  {
   "cell_type": "markdown",
   "metadata": {},
   "source": [
    "Telechargement de la liste des colonnes du Dataset :\n",
    "   <a href=\"https://github.com/alphab2000x/python/blob/master/Master2/Projet5/Liste_des_colonnes.docx?raw=true\">Liste_des_colonnes.docx</a>\n",
    "    \n",
    "Rapport :"
   ]
  },
  {
   "cell_type": "markdown",
   "metadata": {},
   "source": [
    "## Import"
   ]
  },
  {
   "cell_type": "code",
   "execution_count": 82,
   "metadata": {},
   "outputs": [],
   "source": [
    "import seaborn as sns;\n",
    "import pandas as pd;\n",
    "import numpy as np;\n",
    "import matplotlib.pyplot as plt\n",
    "from sklearn.model_selection import train_test_split as TTS\n",
    "from sklearn.model_selection import cross_val_score;\n",
    "from sklearn.preprocessing import LabelEncoder;\n",
    "from sklearn.ensemble import RandomForestClassifier\n",
    "\n",
    "# pipeline elements\n",
    "from sklearn.decomposition import PCA # PCA = Principal Component Analysis\n",
    "from sklearn.neighbors import KNeighborsClassifier as KNN \n",
    "\n",
    "# pipeline materiaux\n",
    "from sklearn.pipeline import Pipeline # PCA = Principal Component Analysis\n",
    "from sklearn.model_selection import GridSearchCV\n",
    "\n",
    "from sklearn import svm, datasets\n",
    "from sklearn.metrics import roc_curve, auc\n",
    "from sklearn.preprocessing import label_binarize\n",
    "from sklearn.multiclass import OneVsRestClassifier\n",
    "from scipy import interp\n",
    "from sklearn.metrics import roc_auc_score\n",
    "from itertools import cycle\n",
    "from sklearn.ensemble import GradientBoostingClassifier\n"
   ]
  },
  {
   "cell_type": "markdown",
   "metadata": {},
   "source": [
    "## Fonction"
   ]
  },
  {
   "cell_type": "code",
   "execution_count": 83,
   "metadata": {},
   "outputs": [],
   "source": [
    "# Créer une mesure de performance\n",
    "\n",
    "def accuracy(preds, target):\n",
    "    M = target.shape[0] # Nombre d'exemple\n",
    "    total_correctes = (preds == target).sum()\n",
    "    accuracy = total_correctes / M\n",
    "    return accuracy"
   ]
  },
  {
   "cell_type": "code",
   "execution_count": 84,
   "metadata": {},
   "outputs": [],
   "source": [
    "# Afficher la matrice de confusion\n",
    "\n",
    "def show_cm(cm, labels):\n",
    "    df_cm = pd.DataFrame(cm, labels, labels)\n",
    "    sns.heatmap(df_cm, annot=True)\n",
    "    plt.show()"
   ]
  },
  {
   "cell_type": "markdown",
   "metadata": {},
   "source": [
    "## Collecte de données"
   ]
  },
  {
   "cell_type": "markdown",
   "metadata": {},
   "source": [
    "Nous allons étudier un dataset qui regroupent un enssemble d'accidents de voitures ayant eu lieu aux états-unis, soit dans 49 états. Les données ont été récoltées entre 2016 et 2020. Initialement, le dataset faisait environ 3500000 lignes mais étant données sa taille, il a été décider de la réduire afin de ne pas réduire les performances de calculs de nos algorithmes. "
   ]
  },
  {
   "cell_type": "code",
   "execution_count": 85,
   "metadata": {},
   "outputs": [],
   "source": [
    "# On récupère notre Dataset et la stocke dans une variable\n",
    "\n",
    "accident = pd.read_csv('data/US_Accidents_June20_mini.csv')"
   ]
  },
  {
   "cell_type": "code",
   "execution_count": 86,
   "metadata": {},
   "outputs": [
    {
     "name": "stdout",
     "output_type": "stream",
     "text": [
      "<class 'pandas.core.frame.DataFrame'>\n",
      "RangeIndex: 100000 entries, 0 to 99999\n",
      "Data columns (total 50 columns):\n",
      " #   Column                 Non-Null Count   Dtype  \n",
      "---  ------                 --------------   -----  \n",
      " 0   Unnamed: 0             100000 non-null  int64  \n",
      " 1   ID                     100000 non-null  object \n",
      " 2   Source                 100000 non-null  object \n",
      " 3   TMC                    70472 non-null   float64\n",
      " 4   Severity               100000 non-null  int64  \n",
      " 5   Start_Time             100000 non-null  object \n",
      " 6   End_Time               100000 non-null  object \n",
      " 7   Start_Lat              100000 non-null  float64\n",
      " 8   Start_Lng              100000 non-null  float64\n",
      " 9   End_Lat                29528 non-null   float64\n",
      " 10  End_Lng                29528 non-null   float64\n",
      " 11  Distance(mi)           100000 non-null  float64\n",
      " 12  Description            100000 non-null  object \n",
      " 13  Number                 35363 non-null   float64\n",
      " 14  Street                 100000 non-null  object \n",
      " 15  Side                   100000 non-null  object \n",
      " 16  City                   99997 non-null   object \n",
      " 17  County                 100000 non-null  object \n",
      " 18  State                  100000 non-null  object \n",
      " 19  Zipcode                99978 non-null   object \n",
      " 20  Country                100000 non-null  object \n",
      " 21  Timezone               99898 non-null   object \n",
      " 22  Airport_Code           99826 non-null   object \n",
      " 23  Weather_Timestamp      98782 non-null   object \n",
      " 24  Temperature(F)         98127 non-null   float64\n",
      " 25  Wind_Chill(F)          46751 non-null   float64\n",
      " 26  Humidity(%)            98024 non-null   float64\n",
      " 27  Pressure(in)           98400 non-null   float64\n",
      " 28  Visibility(mi)         97847 non-null   float64\n",
      " 29  Wind_Direction         98370 non-null   object \n",
      " 30  Wind_Speed(mph)        87046 non-null   float64\n",
      " 31  Precipitation(in)      42256 non-null   float64\n",
      " 32  Weather_Condition      97823 non-null   object \n",
      " 33  Amenity                100000 non-null  bool   \n",
      " 34  Bump                   100000 non-null  bool   \n",
      " 35  Crossing               100000 non-null  bool   \n",
      " 36  Give_Way               100000 non-null  bool   \n",
      " 37  Junction               100000 non-null  bool   \n",
      " 38  No_Exit                100000 non-null  bool   \n",
      " 39  Railway                100000 non-null  bool   \n",
      " 40  Roundabout             100000 non-null  bool   \n",
      " 41  Station                100000 non-null  bool   \n",
      " 42  Stop                   100000 non-null  bool   \n",
      " 43  Traffic_Calming        100000 non-null  bool   \n",
      " 44  Traffic_Signal         100000 non-null  bool   \n",
      " 45  Turning_Loop           100000 non-null  bool   \n",
      " 46  Sunrise_Sunset         99997 non-null   object \n",
      " 47  Civil_Twilight         99997 non-null   object \n",
      " 48  Nautical_Twilight      99997 non-null   object \n",
      " 49  Astronomical_Twilight  99997 non-null   object \n",
      "dtypes: bool(13), float64(14), int64(2), object(21)\n",
      "memory usage: 29.5+ MB\n"
     ]
    }
   ],
   "source": [
    "accident.info()"
   ]
  },
  {
   "cell_type": "code",
   "execution_count": 87,
   "metadata": {},
   "outputs": [
    {
     "data": {
      "text/html": [
       "<div>\n",
       "<style scoped>\n",
       "    .dataframe tbody tr th:only-of-type {\n",
       "        vertical-align: middle;\n",
       "    }\n",
       "\n",
       "    .dataframe tbody tr th {\n",
       "        vertical-align: top;\n",
       "    }\n",
       "\n",
       "    .dataframe thead th {\n",
       "        text-align: right;\n",
       "    }\n",
       "</style>\n",
       "<table border=\"1\" class=\"dataframe\">\n",
       "  <thead>\n",
       "    <tr style=\"text-align: right;\">\n",
       "      <th></th>\n",
       "      <th>Unnamed: 0</th>\n",
       "      <th>ID</th>\n",
       "      <th>Source</th>\n",
       "      <th>TMC</th>\n",
       "      <th>Severity</th>\n",
       "      <th>Start_Time</th>\n",
       "      <th>End_Time</th>\n",
       "      <th>Start_Lat</th>\n",
       "      <th>Start_Lng</th>\n",
       "      <th>End_Lat</th>\n",
       "      <th>...</th>\n",
       "      <th>Roundabout</th>\n",
       "      <th>Station</th>\n",
       "      <th>Stop</th>\n",
       "      <th>Traffic_Calming</th>\n",
       "      <th>Traffic_Signal</th>\n",
       "      <th>Turning_Loop</th>\n",
       "      <th>Sunrise_Sunset</th>\n",
       "      <th>Civil_Twilight</th>\n",
       "      <th>Nautical_Twilight</th>\n",
       "      <th>Astronomical_Twilight</th>\n",
       "    </tr>\n",
       "  </thead>\n",
       "  <tbody>\n",
       "    <tr>\n",
       "      <th>0</th>\n",
       "      <td>1901733</td>\n",
       "      <td>A-1901773</td>\n",
       "      <td>MapQuest</td>\n",
       "      <td>201.0</td>\n",
       "      <td>3</td>\n",
       "      <td>2018-05-20 12:33:29</td>\n",
       "      <td>2018-05-20 13:03:01</td>\n",
       "      <td>30.266512</td>\n",
       "      <td>-82.753860</td>\n",
       "      <td>NaN</td>\n",
       "      <td>...</td>\n",
       "      <td>False</td>\n",
       "      <td>False</td>\n",
       "      <td>False</td>\n",
       "      <td>False</td>\n",
       "      <td>False</td>\n",
       "      <td>False</td>\n",
       "      <td>Day</td>\n",
       "      <td>Day</td>\n",
       "      <td>Day</td>\n",
       "      <td>Day</td>\n",
       "    </tr>\n",
       "    <tr>\n",
       "      <th>1</th>\n",
       "      <td>2923127</td>\n",
       "      <td>A-2923261</td>\n",
       "      <td>Bing</td>\n",
       "      <td>NaN</td>\n",
       "      <td>3</td>\n",
       "      <td>2020-04-19 01:54:45</td>\n",
       "      <td>2020-04-19 02:24:45</td>\n",
       "      <td>38.367280</td>\n",
       "      <td>-90.384540</td>\n",
       "      <td>38.36728</td>\n",
       "      <td>...</td>\n",
       "      <td>False</td>\n",
       "      <td>False</td>\n",
       "      <td>False</td>\n",
       "      <td>False</td>\n",
       "      <td>False</td>\n",
       "      <td>False</td>\n",
       "      <td>Night</td>\n",
       "      <td>Night</td>\n",
       "      <td>Night</td>\n",
       "      <td>Night</td>\n",
       "    </tr>\n",
       "    <tr>\n",
       "      <th>2</th>\n",
       "      <td>323307</td>\n",
       "      <td>A-323310</td>\n",
       "      <td>MapQuest</td>\n",
       "      <td>201.0</td>\n",
       "      <td>2</td>\n",
       "      <td>2017-02-08 12:29:23</td>\n",
       "      <td>2017-02-08 12:59:01</td>\n",
       "      <td>34.000233</td>\n",
       "      <td>-84.067162</td>\n",
       "      <td>NaN</td>\n",
       "      <td>...</td>\n",
       "      <td>False</td>\n",
       "      <td>False</td>\n",
       "      <td>False</td>\n",
       "      <td>False</td>\n",
       "      <td>False</td>\n",
       "      <td>False</td>\n",
       "      <td>Day</td>\n",
       "      <td>Day</td>\n",
       "      <td>Day</td>\n",
       "      <td>Day</td>\n",
       "    </tr>\n",
       "    <tr>\n",
       "      <th>3</th>\n",
       "      <td>820712</td>\n",
       "      <td>A-820738</td>\n",
       "      <td>MapQuest</td>\n",
       "      <td>201.0</td>\n",
       "      <td>2</td>\n",
       "      <td>2019-10-15 09:28:51</td>\n",
       "      <td>2019-10-15 10:28:40</td>\n",
       "      <td>35.895634</td>\n",
       "      <td>-78.616295</td>\n",
       "      <td>NaN</td>\n",
       "      <td>...</td>\n",
       "      <td>False</td>\n",
       "      <td>False</td>\n",
       "      <td>False</td>\n",
       "      <td>False</td>\n",
       "      <td>False</td>\n",
       "      <td>False</td>\n",
       "      <td>Day</td>\n",
       "      <td>Day</td>\n",
       "      <td>Day</td>\n",
       "      <td>Day</td>\n",
       "    </tr>\n",
       "    <tr>\n",
       "      <th>4</th>\n",
       "      <td>2084795</td>\n",
       "      <td>A-2084835</td>\n",
       "      <td>MapQuest</td>\n",
       "      <td>201.0</td>\n",
       "      <td>2</td>\n",
       "      <td>2018-02-18 11:16:29</td>\n",
       "      <td>2018-02-18 11:45:23</td>\n",
       "      <td>36.679970</td>\n",
       "      <td>-78.176910</td>\n",
       "      <td>NaN</td>\n",
       "      <td>...</td>\n",
       "      <td>False</td>\n",
       "      <td>False</td>\n",
       "      <td>False</td>\n",
       "      <td>False</td>\n",
       "      <td>False</td>\n",
       "      <td>False</td>\n",
       "      <td>Day</td>\n",
       "      <td>Day</td>\n",
       "      <td>Day</td>\n",
       "      <td>Day</td>\n",
       "    </tr>\n",
       "  </tbody>\n",
       "</table>\n",
       "<p>5 rows × 50 columns</p>\n",
       "</div>"
      ],
      "text/plain": [
       "   Unnamed: 0         ID    Source    TMC  Severity           Start_Time  \\\n",
       "0     1901733  A-1901773  MapQuest  201.0         3  2018-05-20 12:33:29   \n",
       "1     2923127  A-2923261      Bing    NaN         3  2020-04-19 01:54:45   \n",
       "2      323307   A-323310  MapQuest  201.0         2  2017-02-08 12:29:23   \n",
       "3      820712   A-820738  MapQuest  201.0         2  2019-10-15 09:28:51   \n",
       "4     2084795  A-2084835  MapQuest  201.0         2  2018-02-18 11:16:29   \n",
       "\n",
       "              End_Time  Start_Lat  Start_Lng   End_Lat  ...  Roundabout  \\\n",
       "0  2018-05-20 13:03:01  30.266512 -82.753860       NaN  ...       False   \n",
       "1  2020-04-19 02:24:45  38.367280 -90.384540  38.36728  ...       False   \n",
       "2  2017-02-08 12:59:01  34.000233 -84.067162       NaN  ...       False   \n",
       "3  2019-10-15 10:28:40  35.895634 -78.616295       NaN  ...       False   \n",
       "4  2018-02-18 11:45:23  36.679970 -78.176910       NaN  ...       False   \n",
       "\n",
       "   Station   Stop  Traffic_Calming Traffic_Signal Turning_Loop Sunrise_Sunset  \\\n",
       "0    False  False            False          False        False            Day   \n",
       "1    False  False            False          False        False          Night   \n",
       "2    False  False            False          False        False            Day   \n",
       "3    False  False            False          False        False            Day   \n",
       "4    False  False            False          False        False            Day   \n",
       "\n",
       "  Civil_Twilight Nautical_Twilight Astronomical_Twilight  \n",
       "0            Day               Day                   Day  \n",
       "1          Night             Night                 Night  \n",
       "2            Day               Day                   Day  \n",
       "3            Day               Day                   Day  \n",
       "4            Day               Day                   Day  \n",
       "\n",
       "[5 rows x 50 columns]"
      ]
     },
     "execution_count": 87,
     "metadata": {},
     "output_type": "execute_result"
    }
   ],
   "source": [
    "accident.head()"
   ]
  },
  {
   "cell_type": "markdown",
   "metadata": {},
   "source": [
    "## Feature Engineering"
   ]
  },
  {
   "cell_type": "markdown",
   "metadata": {},
   "source": [
    "Nous allons dans cette partie définir les colonnes/features et la target puis isoler les features de target."
   ]
  },
  {
   "cell_type": "code",
   "execution_count": 88,
   "metadata": {},
   "outputs": [],
   "source": [
    "# On supprime les colonnes qui nous intéressent pas\n",
    "\n",
    "accident = accident.drop(['ID'],axis=1)\n",
    "accident = accident.drop(['Start_Lat'],axis=1)\n",
    "accident = accident.drop(['Start_Lng'],axis=1)\n",
    "accident = accident.drop(['End_Lat'],axis=1)\n",
    "accident = accident.drop(['End_Lng'],axis=1)\n",
    "accident = accident.drop(['Description'],axis=1)\n",
    "accident = accident.drop(['Number'],axis=1)\n",
    "accident = accident.drop(['Street'],axis=1)\n",
    "accident = accident.drop(['Side'],axis=1)\n",
    "accident = accident.drop(['Zipcode'],axis=1)\n",
    "accident = accident.drop(['Country'],axis=1)\n",
    "accident = accident.drop(['Timezone'],axis=1)\n",
    "accident = accident.drop(['Weather_Timestamp'],axis=1)\n",
    "accident = accident.drop(['Wind_Direction'],axis=1)\n",
    "accident = accident.drop(['Wind_Chill(F)'],axis=1)"
   ]
  },
  {
   "cell_type": "code",
   "execution_count": 89,
   "metadata": {},
   "outputs": [],
   "source": [
    "# On enlève toutes les valeurs NaN\n",
    "\n",
    "accident = accident.dropna(how='any')"
   ]
  },
  {
   "cell_type": "code",
   "execution_count": 90,
   "metadata": {},
   "outputs": [],
   "source": [
    "# On conserve notre Dataset sans transformation\n",
    "\n",
    "accidentNoTransform = accident.copy()"
   ]
  },
  {
   "cell_type": "code",
   "execution_count": 91,
   "metadata": {
    "scrolled": true
   },
   "outputs": [],
   "source": [
    "# On convertie les colonnes dans le type qui nous interessent\n",
    "\n",
    "accident['Source'] = LabelEncoder().fit_transform(accident['Source'])\n",
    "\n",
    "accident.TMC = accident['TMC'].astype('category').cat.codes\n",
    "\n",
    "accident.City = accident['City'].astype('category').cat.codes\n",
    "\n",
    "accident.State = accident['State'].astype('category').cat.codes\n",
    "\n",
    "accident.County = accident['County'].astype('category').cat.codes\n",
    "\n",
    "accident.Airport_Code = accident['Airport_Code'].astype('category').cat.codes\n",
    "\n",
    "accident.Sunrise_Sunset =accident['Sunrise_Sunset'].astype('category').cat.codes \n",
    "\n",
    "accident.Weather_Condition = accident['Weather_Condition'].astype('category').cat.codes\n",
    "\n",
    "accident.Nautical_Twilight = accident['Nautical_Twilight'].astype('category').cat.codes\n",
    "\n",
    "accident.Astronomical_Twilight = accident['Astronomical_Twilight'].astype('category').cat.codes\n",
    "\n",
    "accident.Civil_Twilight = accident['Civil_Twilight'].astype('category').cat.codes\n",
    "\n",
    "accident['Amenity'] = LabelEncoder().fit_transform(accident['Amenity'])\n",
    "accident['Bump'] = LabelEncoder().fit_transform(accident['Bump'])\n",
    "accident['Crossing'] = LabelEncoder().fit_transform(accident['Crossing'])\n",
    "accident['Give_Way'] = LabelEncoder().fit_transform(accident['Give_Way'])\n",
    "accident['Junction'] = LabelEncoder().fit_transform(accident['Junction'])\n",
    "accident['No_Exit'] = LabelEncoder().fit_transform(accident['No_Exit'])\n",
    "accident['Railway'] = LabelEncoder().fit_transform(accident['Railway'])\n",
    "accident['Roundabout'] = LabelEncoder().fit_transform(accident['Roundabout'])\n",
    "accident['Station'] = LabelEncoder().fit_transform(accident['Station'])\n",
    "accident['Stop'] = LabelEncoder().fit_transform(accident['Stop'])\n",
    "accident['Traffic_Calming'] = LabelEncoder().fit_transform(accident['Traffic_Calming'])\n",
    "accident['Traffic_Signal'] = LabelEncoder().fit_transform(accident['Traffic_Signal'])\n",
    "accident['Turning_Loop'] = LabelEncoder().fit_transform(accident['Turning_Loop'])"
   ]
  },
  {
   "cell_type": "code",
   "execution_count": 92,
   "metadata": {},
   "outputs": [],
   "source": [
    "# On va séparer notre target de nos colonnes\n",
    "\n",
    "Y = accident['Severity'].astype('category').cat.codes # La target va être la gravité\n",
    "X = accident.drop('Severity', axis='columns') # En fonction des critère environnant, on va essayer de prédir le niveau de gravité"
   ]
  },
  {
   "cell_type": "code",
   "execution_count": 93,
   "metadata": {},
   "outputs": [
    {
     "name": "stdout",
     "output_type": "stream",
     "text": [
      "<class 'pandas.core.frame.DataFrame'>\n",
      "Int64Index: 25482 entries, 3 to 99994\n",
      "Data columns (total 34 columns):\n",
      " #   Column                 Non-Null Count  Dtype  \n",
      "---  ------                 --------------  -----  \n",
      " 0   Unnamed: 0             25482 non-null  int64  \n",
      " 1   Source                 25482 non-null  int32  \n",
      " 2   TMC                    25482 non-null  int8   \n",
      " 3   Start_Time             25482 non-null  object \n",
      " 4   End_Time               25482 non-null  object \n",
      " 5   Distance(mi)           25482 non-null  float64\n",
      " 6   City                   25482 non-null  int16  \n",
      " 7   County                 25482 non-null  int16  \n",
      " 8   State                  25482 non-null  int8   \n",
      " 9   Airport_Code           25482 non-null  int16  \n",
      " 10  Temperature(F)         25482 non-null  float64\n",
      " 11  Humidity(%)            25482 non-null  float64\n",
      " 12  Pressure(in)           25482 non-null  float64\n",
      " 13  Visibility(mi)         25482 non-null  float64\n",
      " 14  Wind_Speed(mph)        25482 non-null  float64\n",
      " 15  Precipitation(in)      25482 non-null  float64\n",
      " 16  Weather_Condition      25482 non-null  int8   \n",
      " 17  Amenity                25482 non-null  int64  \n",
      " 18  Bump                   25482 non-null  int64  \n",
      " 19  Crossing               25482 non-null  int64  \n",
      " 20  Give_Way               25482 non-null  int64  \n",
      " 21  Junction               25482 non-null  int64  \n",
      " 22  No_Exit                25482 non-null  int64  \n",
      " 23  Railway                25482 non-null  int64  \n",
      " 24  Roundabout             25482 non-null  int64  \n",
      " 25  Station                25482 non-null  int64  \n",
      " 26  Stop                   25482 non-null  int64  \n",
      " 27  Traffic_Calming        25482 non-null  int64  \n",
      " 28  Traffic_Signal         25482 non-null  int64  \n",
      " 29  Turning_Loop           25482 non-null  int64  \n",
      " 30  Sunrise_Sunset         25482 non-null  int8   \n",
      " 31  Civil_Twilight         25482 non-null  int8   \n",
      " 32  Nautical_Twilight      25482 non-null  int8   \n",
      " 33  Astronomical_Twilight  25482 non-null  int8   \n",
      "dtypes: float64(7), int16(3), int32(1), int64(14), int8(7), object(2)\n",
      "memory usage: 5.1+ MB\n"
     ]
    }
   ],
   "source": [
    "X.info()"
   ]
  },
  {
   "cell_type": "code",
   "execution_count": 94,
   "metadata": {},
   "outputs": [],
   "source": [
    "# On convertie nos column date de type object en type date\n",
    "\n",
    "X['Start_Time'] = pd.to_datetime(X['Start_Time'], \n",
    " format = '%Y-%m-%d %H:%M:%S', \n",
    " errors = 'coerce')\n",
    "X['End_Time'] = pd.to_datetime(X['End_Time'], \n",
    " format = '%Y-%m-%d %H:%M:%S', \n",
    " errors = 'coerce')"
   ]
  },
  {
   "cell_type": "code",
   "execution_count": 95,
   "metadata": {},
   "outputs": [],
   "source": [
    "# On créé une colonne pour chaque élément de nos dates de début d'accident\n",
    "\n",
    "X['Start_Time_year'] = X['Start_Time'].dt.year\n",
    "X['Start_Time_month'] = X['Start_Time'].dt.month\n",
    "X['Start_Time_week'] = X['Start_Time'].dt.week\n",
    "X['Start_Time_day'] = X['Start_Time'].dt.day\n",
    "X['Start_Time_hour'] = X['Start_Time'].dt.hour\n",
    "X['Start_Time_minute'] = X['Start_Time'].dt.minute\n",
    "X['Start_Time_dayofweek'] = X['Start_Time'].dt.dayofweek"
   ]
  },
  {
   "cell_type": "code",
   "execution_count": 96,
   "metadata": {},
   "outputs": [],
   "source": [
    "# On créé une colonne pour chaque élément de nos dates de fin d'accident\n",
    "\n",
    "X['End_Time_year'] = X['End_Time'].dt.year\n",
    "X['End_Time_month'] = X['End_Time'].dt.month\n",
    "X['End_Time_week'] = X['End_Time'].dt.week\n",
    "X['End_Time_day'] = X['End_Time'].dt.day\n",
    "X['End_Time_hour'] = X['End_Time'].dt.hour\n",
    "X['End_Time_minute'] = X['End_Time'].dt.minute\n",
    "X['End_Time_dayofweek'] = X['End_Time'].dt.dayofweek"
   ]
  },
  {
   "cell_type": "code",
   "execution_count": 97,
   "metadata": {},
   "outputs": [],
   "source": [
    "# Maintenant que l'on a créé nos colonnes, on supprime nos de base vue que l'on en a plus besoin\n",
    "\n",
    "X = X.drop(['Start_Time'],axis=1)\n",
    "X = X.drop(['End_Time'],axis=1)"
   ]
  },
  {
   "cell_type": "code",
   "execution_count": 98,
   "metadata": {},
   "outputs": [],
   "source": [
    "# On enlève toutes les valeurs NaN\n",
    "\n",
    "X = X.dropna(how='any')"
   ]
  },
  {
   "cell_type": "code",
   "execution_count": 99,
   "metadata": {
    "scrolled": true
   },
   "outputs": [
    {
     "data": {
      "text/plain": [
       "((25482, 46), (25482,))"
      ]
     },
     "execution_count": 99,
     "metadata": {},
     "output_type": "execute_result"
    }
   ],
   "source": [
    "X.shape, Y.shape"
   ]
  },
  {
   "cell_type": "markdown",
   "metadata": {},
   "source": [
    "## Affichage des accidents en fonction des états"
   ]
  },
  {
   "cell_type": "code",
   "execution_count": 100,
   "metadata": {},
   "outputs": [
    {
     "data": {
      "text/plain": [
       "<seaborn.axisgrid.FacetGrid at 0x15f60030af0>"
      ]
     },
     "execution_count": 100,
     "metadata": {},
     "output_type": "execute_result"
    },
    {
     "data": {
      "image/png": "[encoded data removed]",
      "text/plain": [
       "<Figure size 1080x360 with 1 Axes>"
      ]
     },
     "metadata": {
      "needs_background": "light"
     },
     "output_type": "display_data"
    }
   ],
   "source": [
    "sns.catplot(x='State', kind='count',data=accidentNoTransform, height=5, aspect=3) "
   ]
  },
  {
   "cell_type": "markdown",
   "metadata": {},
   "source": [
    "Nous pouvons voir dans le diagramme ci-dessus que certains états on beaucoup plus d'accidents que d'autres. En l'occurence:\n",
    "<ul>\n",
    "    <li>La Californie (CA) avec 3458 accidents</li>\n",
    "    <li>Le Texas (TX) avec 2557 accidents</li>\n",
    "    <li>La Floride (FL) avec 2010 accidents</li>\n",
    "    <li>La Caroline du Sud (SC) avec 2006 accidents</li>\n",
    "    <li>La Caroline du Nord (NC) avec 1555 accidents</li>\n",
    "    <li>New York (NY) avec 1507 accidents</li>\n",
    "</ul>\n",
    "\n",
    "ont beaucoup plus d'accidents que la pluparts des autres pays. Nous allons essayer de savoir la raison de celà."
   ]
  },
  {
   "cell_type": "code",
   "execution_count": 252,
   "metadata": {},
   "outputs": [
    {
     "data": {
      "text/plain": [
       "<seaborn.axisgrid.FacetGrid at 0x15f7830fd90>"
      ]
     },
     "execution_count": 252,
     "metadata": {},
     "output_type": "execute_result"
    },
    {
     "data": {
      "image/png": "[encoded data removed]",
      "text/plain": [
       "<Figure size 1080x360 with 1 Axes>"
      ]
     },
     "metadata": {
      "needs_background": "light"
     },
     "output_type": "display_data"
    }
   ],
   "source": [
    "sns.catplot(x='State',y='Severity',kind=\"box\",data=accidentNoTransform, height=5, aspect=3)"
   ]
  },
  {
   "cell_type": "markdown",
   "metadata": {},
   "source": [
    "Comme on peut voir, la majorité des boites à moustaches on une severity minimal de 2 et maximum de 4. Quelques états ont une severity qui ne varie pas (ex: La caroline du sud (SC)). Enfin, des valeurs abbérantes viennent s'ajouter à notre boite à moustache."
   ]
  },
  {
   "cell_type": "code",
   "execution_count": null,
   "metadata": {},
   "outputs": [],
   "source": [
    "accidentNoTransform.query(\"(State == 'SC')\"),"
   ]
  },
  {
   "cell_type": "markdown",
   "metadata": {},
   "source": [
    "## Affichage des villes avec le plus d'accidents"
   ]
  },
  {
   "cell_type": "markdown",
   "metadata": {},
   "source": [
    "Voir les états les plus touchés par les accidents sont une bonne choses, mais nous voulons désormais voir si les villes les plus touchées par les accidents de voitures sont corrélé aux états les plus touchés."
   ]
  },
  {
   "cell_type": "code",
   "execution_count": 101,
   "metadata": {},
   "outputs": [
    {
     "name": "stdout",
     "output_type": "stream",
     "text": [
      "50 villes les plus accidents par ordre décroissant :\n"
     ]
    },
    {
     "data": {
      "text/html": [
       "<div>\n",
       "<style scoped>\n",
       "    .dataframe tbody tr th:only-of-type {\n",
       "        vertical-align: middle;\n",
       "    }\n",
       "\n",
       "    .dataframe tbody tr th {\n",
       "        vertical-align: top;\n",
       "    }\n",
       "\n",
       "    .dataframe thead th {\n",
       "        text-align: right;\n",
       "    }\n",
       "</style>\n",
       "<table border=\"1\" class=\"dataframe\">\n",
       "  <thead>\n",
       "    <tr style=\"text-align: right;\">\n",
       "      <th></th>\n",
       "      <th>City</th>\n",
       "      <th>Accident</th>\n",
       "    </tr>\n",
       "  </thead>\n",
       "  <tbody>\n",
       "    <tr>\n",
       "      <th>1309</th>\n",
       "      <td>Houston</td>\n",
       "      <td>755</td>\n",
       "    </tr>\n",
       "    <tr>\n",
       "      <th>484</th>\n",
       "      <td>Charlotte</td>\n",
       "      <td>724</td>\n",
       "    </tr>\n",
       "    <tr>\n",
       "      <th>119</th>\n",
       "      <td>Austin</td>\n",
       "      <td>581</td>\n",
       "    </tr>\n",
       "    <tr>\n",
       "      <th>669</th>\n",
       "      <td>Dallas</td>\n",
       "      <td>511</td>\n",
       "    </tr>\n",
       "    <tr>\n",
       "      <th>2332</th>\n",
       "      <td>Raleigh</td>\n",
       "      <td>508</td>\n",
       "    </tr>\n",
       "    <tr>\n",
       "      <th>2090</th>\n",
       "      <td>Oklahoma City</td>\n",
       "      <td>409</td>\n",
       "    </tr>\n",
       "    <tr>\n",
       "      <th>151</th>\n",
       "      <td>Baton Rouge</td>\n",
       "      <td>373</td>\n",
       "    </tr>\n",
       "    <tr>\n",
       "      <th>1929</th>\n",
       "      <td>Nashville</td>\n",
       "      <td>369</td>\n",
       "    </tr>\n",
       "    <tr>\n",
       "      <th>1624</th>\n",
       "      <td>Los Angeles</td>\n",
       "      <td>355</td>\n",
       "    </tr>\n",
       "    <tr>\n",
       "      <th>107</th>\n",
       "      <td>Atlanta</td>\n",
       "      <td>299</td>\n",
       "    </tr>\n",
       "    <tr>\n",
       "      <th>2222</th>\n",
       "      <td>Phoenix</td>\n",
       "      <td>270</td>\n",
       "    </tr>\n",
       "    <tr>\n",
       "      <th>1784</th>\n",
       "      <td>Miami</td>\n",
       "      <td>260</td>\n",
       "    </tr>\n",
       "    <tr>\n",
       "      <th>2509</th>\n",
       "      <td>San Antonio</td>\n",
       "      <td>236</td>\n",
       "    </tr>\n",
       "    <tr>\n",
       "      <th>1131</th>\n",
       "      <td>Greenville</td>\n",
       "      <td>231</td>\n",
       "    </tr>\n",
       "    <tr>\n",
       "      <th>580</th>\n",
       "      <td>Columbia</td>\n",
       "      <td>220</td>\n",
       "    </tr>\n",
       "    <tr>\n",
       "      <th>2375</th>\n",
       "      <td>Richmond</td>\n",
       "      <td>216</td>\n",
       "    </tr>\n",
       "    <tr>\n",
       "      <th>1813</th>\n",
       "      <td>Minneapolis</td>\n",
       "      <td>214</td>\n",
       "    </tr>\n",
       "    <tr>\n",
       "      <th>2399</th>\n",
       "      <td>Rochester</td>\n",
       "      <td>204</td>\n",
       "    </tr>\n",
       "    <tr>\n",
       "      <th>2591</th>\n",
       "      <td>Seattle</td>\n",
       "      <td>199</td>\n",
       "    </tr>\n",
       "    <tr>\n",
       "      <th>2120</th>\n",
       "      <td>Orlando</td>\n",
       "      <td>183</td>\n",
       "    </tr>\n",
       "    <tr>\n",
       "      <th>2903</th>\n",
       "      <td>Tulsa</td>\n",
       "      <td>181</td>\n",
       "    </tr>\n",
       "    <tr>\n",
       "      <th>1367</th>\n",
       "      <td>Jacksonville</td>\n",
       "      <td>170</td>\n",
       "    </tr>\n",
       "    <tr>\n",
       "      <th>716</th>\n",
       "      <td>Denver</td>\n",
       "      <td>168</td>\n",
       "    </tr>\n",
       "    <tr>\n",
       "      <th>2492</th>\n",
       "      <td>Saint Paul</td>\n",
       "      <td>155</td>\n",
       "    </tr>\n",
       "    <tr>\n",
       "      <th>1345</th>\n",
       "      <td>Indianapolis</td>\n",
       "      <td>145</td>\n",
       "    </tr>\n",
       "    <tr>\n",
       "      <th>1629</th>\n",
       "      <td>Louisville</td>\n",
       "      <td>136</td>\n",
       "    </tr>\n",
       "    <tr>\n",
       "      <th>2293</th>\n",
       "      <td>Portland</td>\n",
       "      <td>129</td>\n",
       "    </tr>\n",
       "    <tr>\n",
       "      <th>950</th>\n",
       "      <td>Flint</td>\n",
       "      <td>127</td>\n",
       "    </tr>\n",
       "    <tr>\n",
       "      <th>2899</th>\n",
       "      <td>Tucson</td>\n",
       "      <td>117</td>\n",
       "    </tr>\n",
       "    <tr>\n",
       "      <th>2100</th>\n",
       "      <td>Omaha</td>\n",
       "      <td>116</td>\n",
       "    </tr>\n",
       "    <tr>\n",
       "      <th>1100</th>\n",
       "      <td>Grand Rapids</td>\n",
       "      <td>115</td>\n",
       "    </tr>\n",
       "    <tr>\n",
       "      <th>1569</th>\n",
       "      <td>Lexington</td>\n",
       "      <td>114</td>\n",
       "    </tr>\n",
       "    <tr>\n",
       "      <th>2715</th>\n",
       "      <td>Spartanburg</td>\n",
       "      <td>112</td>\n",
       "    </tr>\n",
       "    <tr>\n",
       "      <th>689</th>\n",
       "      <td>Dayton</td>\n",
       "      <td>112</td>\n",
       "    </tr>\n",
       "    <tr>\n",
       "      <th>581</th>\n",
       "      <td>Columbus</td>\n",
       "      <td>111</td>\n",
       "    </tr>\n",
       "    <tr>\n",
       "      <th>725</th>\n",
       "      <td>Detroit</td>\n",
       "      <td>111</td>\n",
       "    </tr>\n",
       "    <tr>\n",
       "      <th>2514</th>\n",
       "      <td>San Diego</td>\n",
       "      <td>110</td>\n",
       "    </tr>\n",
       "    <tr>\n",
       "      <th>504</th>\n",
       "      <td>Chicago</td>\n",
       "      <td>110</td>\n",
       "    </tr>\n",
       "    <tr>\n",
       "      <th>977</th>\n",
       "      <td>Fort Lauderdale</td>\n",
       "      <td>108</td>\n",
       "    </tr>\n",
       "    <tr>\n",
       "      <th>2824</th>\n",
       "      <td>Tampa</td>\n",
       "      <td>103</td>\n",
       "    </tr>\n",
       "    <tr>\n",
       "      <th>1763</th>\n",
       "      <td>Memphis</td>\n",
       "      <td>102</td>\n",
       "    </tr>\n",
       "    <tr>\n",
       "      <th>2489</th>\n",
       "      <td>Saint Louis</td>\n",
       "      <td>101</td>\n",
       "    </tr>\n",
       "    <tr>\n",
       "      <th>1846</th>\n",
       "      <td>Montgomery</td>\n",
       "      <td>95</td>\n",
       "    </tr>\n",
       "    <tr>\n",
       "      <th>2074</th>\n",
       "      <td>Oakland</td>\n",
       "      <td>92</td>\n",
       "    </tr>\n",
       "    <tr>\n",
       "      <th>116</th>\n",
       "      <td>Augusta</td>\n",
       "      <td>90</td>\n",
       "    </tr>\n",
       "    <tr>\n",
       "      <th>1474</th>\n",
       "      <td>Lafayette</td>\n",
       "      <td>89</td>\n",
       "    </tr>\n",
       "    <tr>\n",
       "      <th>238</th>\n",
       "      <td>Birmingham</td>\n",
       "      <td>88</td>\n",
       "    </tr>\n",
       "    <tr>\n",
       "      <th>1810</th>\n",
       "      <td>Milwaukee</td>\n",
       "      <td>84</td>\n",
       "    </tr>\n",
       "    <tr>\n",
       "      <th>2472</th>\n",
       "      <td>Sacramento</td>\n",
       "      <td>84</td>\n",
       "    </tr>\n",
       "    <tr>\n",
       "      <th>521</th>\n",
       "      <td>Cincinnati</td>\n",
       "      <td>77</td>\n",
       "    </tr>\n",
       "  </tbody>\n",
       "</table>\n",
       "</div>"
      ],
      "text/plain": [
       "                 City  Accident\n",
       "1309          Houston       755\n",
       "484         Charlotte       724\n",
       "119            Austin       581\n",
       "669            Dallas       511\n",
       "2332          Raleigh       508\n",
       "2090    Oklahoma City       409\n",
       "151       Baton Rouge       373\n",
       "1929        Nashville       369\n",
       "1624      Los Angeles       355\n",
       "107           Atlanta       299\n",
       "2222          Phoenix       270\n",
       "1784            Miami       260\n",
       "2509      San Antonio       236\n",
       "1131       Greenville       231\n",
       "580          Columbia       220\n",
       "2375         Richmond       216\n",
       "1813      Minneapolis       214\n",
       "2399        Rochester       204\n",
       "2591          Seattle       199\n",
       "2120          Orlando       183\n",
       "2903            Tulsa       181\n",
       "1367     Jacksonville       170\n",
       "716            Denver       168\n",
       "2492       Saint Paul       155\n",
       "1345     Indianapolis       145\n",
       "1629       Louisville       136\n",
       "2293         Portland       129\n",
       "950             Flint       127\n",
       "2899           Tucson       117\n",
       "2100            Omaha       116\n",
       "1100     Grand Rapids       115\n",
       "1569        Lexington       114\n",
       "2715      Spartanburg       112\n",
       "689            Dayton       112\n",
       "581          Columbus       111\n",
       "725           Detroit       111\n",
       "2514        San Diego       110\n",
       "504           Chicago       110\n",
       "977   Fort Lauderdale       108\n",
       "2824            Tampa       103\n",
       "1763          Memphis       102\n",
       "2489      Saint Louis       101\n",
       "1846       Montgomery        95\n",
       "2074          Oakland        92\n",
       "116           Augusta        90\n",
       "1474        Lafayette        89\n",
       "238        Birmingham        88\n",
       "1810        Milwaukee        84\n",
       "2472       Sacramento        84\n",
       "521        Cincinnati        77"
      ]
     },
     "execution_count": 101,
     "metadata": {},
     "output_type": "execute_result"
    }
   ],
   "source": [
    "# Notre objectif est de créer une colonne qui va nous permettre enssuite de faire un calcul afin d'avoir la somme \n",
    "#   des 10 villes les plus touchées.\n",
    "\n",
    "df = accidentNoTransform\n",
    "df['Accident'] = df['City'] # On créé notre nouvelle colonne\n",
    "df\n",
    "\n",
    "CityAccident = pd.DataFrame()            # On crée un nouveau dataframe\n",
    "CityAccident['City'] = df['City']        # On ajoute à notre dataset la colonne City\n",
    "CityAccident['Accident'] = 1             # On ajoute à notre dataset la valeur 1, cela nous permettra de faire la somme des city\n",
    "total = CityAccident.groupby(by=\"City\",as_index=False).sum().sort_values(by=\"Accident\", ascending=False) # On groupe tout nos country en en fonction de la somme de nos class par ordre décroissant\n",
    "\n",
    "print(\"50 villes les plus accidents par ordre décroissant :\")\n",
    "total.head(50)                                            # On affiche le total"
   ]
  },
  {
   "cell_type": "code",
   "execution_count": 102,
   "metadata": {},
   "outputs": [
    {
     "data": {
      "image/png": "[encoded data removed]",
      "text/plain": [
       "<Figure size 432x288 with 1 Axes>"
      ]
     },
     "metadata": {
      "needs_background": "light"
     },
     "output_type": "display_data"
    }
   ],
   "source": [
    "df = total.head(20)\n",
    "\n",
    "sns.barplot(df['Accident'], df['City']).set_title(\"20 villes avec le plus d'accident\");"
   ]
  },
  {
   "cell_type": "markdown",
   "metadata": {},
   "source": [
    "Comme nous pouvons voir, les états avec le plus d'accidents ne possède pas forcemment les villes avec le plus d'accidents. Pour en citer quelques uns:\n",
    "<ul>\n",
    "    <li>Oklahoma City qui se situe dans l'Oklahoma (OK)</li>\n",
    "    <li>Baton Rouge en Louisiane (LA)</li>\n",
    "    <li>Nashville au Tennessee (TN)</li>\n",
    "    <li>ou encore Atlanta en Georgie (GA)</li>\n",
    "</ul>\n",
    "qui sont des villes situé dans des états avec beaucoup moins d'accidents que les autres états vu au-dessus. \n",
    "\n",
    "Il faudra donc faire attention à ne pas se concentrer uniquement sur les états avec le plus d'accidents car si on s'interesse de plus près, ce n'est pas un facteur sufisant dans le cas où l'on chercherai à diminuer le nombres d'accidents. Il faudra cibler plus précisément les zones à risques."
   ]
  },
  {
   "cell_type": "markdown",
   "metadata": {},
   "source": [
    "## Etude et corrélation\n",
    "\n",
    "Maintenant que l'on a une vision un peu plus précise des lieux le plus accidents, nous voulons voir si les zones les plus accidentés sont les zones avec le plus grands nombres d'accidents graves et quelles sont les causes d'un accidents graves. Pour cela, nous allons tout d'abord essayé de voir si certaines features ne sont pas corrélé avec notre target : \"Severity\"."
   ]
  },
  {
   "cell_type": "code",
   "execution_count": 103,
   "metadata": {
    "scrolled": true
   },
   "outputs": [
    {
     "data": {
      "image/png": "[encoded data removed]",
      "text/plain": [
       "<Figure size 1080x720 with 2 Axes>"
      ]
     },
     "metadata": {
      "needs_background": "light"
     },
     "output_type": "display_data"
    }
   ],
   "source": [
    "plt.figure(figsize=(15,10))\n",
    "corr = sns.heatmap(accident.corr())"
   ]
  },
  {
   "cell_type": "markdown",
   "metadata": {},
   "source": [
    "Nous pouvons voir que Severity est correlé avec 2 features:\n",
    "<ul>\n",
    "    <li>Traffic_Signal</li>\n",
    "    <li>Crossing</li>\n",
    "</ul>\n",
    "\n",
    "Notre objectif est désormais de voir si ces features une belles est bien une incidence sur la severity."
   ]
  },
  {
   "cell_type": "markdown",
   "metadata": {},
   "source": [
    "##  Gravite des accidents en fonction de l'Etat\n",
    "\n",
    "Avant d'étudier la corrélation entre nos features et target, nous allons chercher à savoir quelles sont les zones les plus touchés par les accidents graves."
   ]
  },
  {
   "cell_type": "code",
   "execution_count": 104,
   "metadata": {},
   "outputs": [
    {
     "data": {
      "text/plain": [
       "<seaborn.axisgrid.FacetGrid at 0x15f60013700>"
      ]
     },
     "execution_count": 104,
     "metadata": {},
     "output_type": "execute_result"
    },
    {
     "data": {
      "image/png": "[encoded data removed]",
      "text/plain": [
       "<Figure size 1080x360 with 1 Axes>"
      ]
     },
     "metadata": {
      "needs_background": "light"
     },
     "output_type": "display_data"
    }
   ],
   "source": [
    "sns.catplot(x='State', kind='count',data=accidentNoTransform.query(\"(Severity == 4)\"), height=5, aspect=3) "
   ]
  },
  {
   "cell_type": "markdown",
   "metadata": {},
   "source": [
    "On peut voir que ce graphique est très interessant car certaines zones comme:\n",
    "<ul>\n",
    "    <li>La Georgie (GA) avec 649 accidents</li>\n",
    "    <li>La Virginie (VA) avec 752 accidents</li>\n",
    "</ul>\n",
    "qui on donc moins d'accidents que les d'autres états vu précédemment se retrouve avec beaucoup plus d'accidents graves et donc un impact fort sur le trafic."
   ]
  },
  {
   "cell_type": "markdown",
   "metadata": {},
   "source": [
    "## Entrainer un model"
   ]
  },
  {
   "cell_type": "markdown",
   "metadata": {},
   "source": [
    "Nous souhaitons prédir la gravité d'un accident selon l'environnement qui entoure l'accident. Notre objectif va être de tester plusieurs algorithme afin de voir lequel est le plus efficace quand à l'obtention d'un résultat satisfaisant et accurate."
   ]
  },
  {
   "cell_type": "code",
   "execution_count": 105,
   "metadata": {},
   "outputs": [],
   "source": [
    "X_tr, X_te, Y_tr, Y_te = TTS(X, Y,              # features, target\n",
    "                            stratify = Y,       # Va prendre une proportion aux hasard de valeurs différentes histoire de ne pas avoir des cas où l'on a que des même valeur\n",
    "                            random_state=777,   # Sert à fixer le harsard pour ne pas avoir des résultat différents à chaque tests.\n",
    "                            train_size=0.8)     # 50% de X_train et Y_train et 50% de Y_test et Y_test"
   ]
  },
  {
   "cell_type": "markdown",
   "metadata": {},
   "source": [
    "### k-nearest neighbors"
   ]
  },
  {
   "cell_type": "code",
   "execution_count": 106,
   "metadata": {},
   "outputs": [
    {
     "data": {
      "text/plain": [
       "Pipeline(steps=[('pca', PCA()), ('knn', KNeighborsClassifier())])"
      ]
     },
     "execution_count": 106,
     "metadata": {},
     "output_type": "execute_result"
    }
   ],
   "source": [
    "### Pipeline : Mise en place\n",
    "\n",
    "pipeline_details = [('pca', PCA()),      # Algo de dimension reduction\n",
    "                  ('knn', KNN())]        # Algo de machine learning \n",
    "\n",
    "pipeline = Pipeline(pipeline_details)\n",
    "\n",
    "pipeline"
   ]
  },
  {
   "cell_type": "code",
   "execution_count": 107,
   "metadata": {},
   "outputs": [
    {
     "data": {
      "text/plain": [
       "{'pca__n_components': [1, 2, 3, 4, 5, 6, 7, 8, 9, 10],\n",
       " 'knn__n_neighbors': [1, 2, 3, 9, 21]}"
      ]
     },
     "execution_count": 107,
     "metadata": {},
     "output_type": "execute_result"
    }
   ],
   "source": [
    "# Enssemble d'algorithme compliqué\n",
    "# Param: Algo pca, permet de connaitre la valeur d'accuracy d'une valeur\n",
    "#              d'un point, il va tester les colonne 1 par 1 afin de savoir\n",
    "#              quelles sont les colonnes qui on le plus d'accuracy pour définir les colonnes \n",
    "#              les plus utile afin de diminué le nombre de features et donc d'augmenter \n",
    "#              les performances de calculs\n",
    "#        Algo knn, de l'anglais k-nearest neighbors.\n",
    "#              Pour estimer la sortie associée à une nouvelle entrée x, \n",
    "#              la méthode des k plus proches voisins consiste à prendre en compte (de façon identique) \n",
    "#              les k échantillons d'apprentissage dont l’entrée est la plus proche de la nouvelle entrée x,\n",
    "#              selon une distance à définir.\n",
    "\n",
    "\n",
    "# Paramètrer la Grid Search\n",
    "hyperparameters = {}\n",
    "hyperparameters['pca__n_components'] = list(range(1, 10+1, 1)) # Il va faire des test de 1 à 10 avec un pas de 1. Il s'agit de la liste des variable qui sera stocker dans n_component. Celle qui aura le meilleurs résultat sera testé.\n",
    "hyperparameters['knn__n_neighbors'] = [1, 2, 3, 9, 21]         # Il va chercher avec 1 voisin jusqu'a 21 et celui qui aura la meilleurs accuracy sera selectionner\n",
    "\n",
    "hyperparameters"
   ]
  },
  {
   "cell_type": "code",
   "execution_count": 108,
   "metadata": {},
   "outputs": [],
   "source": [
    "# Créer la grid search\n",
    "\n",
    "hyperparameter_search = GridSearchCV(pipeline,            # Notre pipeline\n",
    "                                    hyperparameters,      # Notre hyperparametre\n",
    "                                    scoring='accuracy',   # Ce qui nous interesse, c'est l'accuracy\n",
    "                                    cv=5)                 # cv est le nombre de model utilisé"
   ]
  },
  {
   "cell_type": "code",
   "execution_count": 109,
   "metadata": {},
   "outputs": [
    {
     "data": {
      "text/plain": [
       "GridSearchCV(cv=5,\n",
       "             estimator=Pipeline(steps=[('pca', PCA()),\n",
       "                                       ('knn', KNeighborsClassifier())]),\n",
       "             param_grid={'knn__n_neighbors': [1, 2, 3, 9, 21],\n",
       "                         'pca__n_components': [1, 2, 3, 4, 5, 6, 7, 8, 9, 10]},\n",
       "             scoring='accuracy')"
      ]
     },
     "execution_count": 109,
     "metadata": {},
     "output_type": "execute_result"
    }
   ],
   "source": [
    "hyperparameter_search"
   ]
  },
  {
   "cell_type": "code",
   "execution_count": 110,
   "metadata": {},
   "outputs": [
    {
     "data": {
      "text/plain": [
       "GridSearchCV(cv=5,\n",
       "             estimator=Pipeline(steps=[('pca', PCA()),\n",
       "                                       ('knn', KNeighborsClassifier())]),\n",
       "             param_grid={'knn__n_neighbors': [1, 2, 3, 9, 21],\n",
       "                         'pca__n_components': [1, 2, 3, 4, 5, 6, 7, 8, 9, 10]},\n",
       "             scoring='accuracy')"
      ]
     },
     "execution_count": 110,
     "metadata": {},
     "output_type": "execute_result"
    }
   ],
   "source": [
    "hyperparameter_search.fit(X_tr, Y_tr)"
   ]
  },
  {
   "cell_type": "markdown",
   "metadata": {},
   "source": [
    "### Recolter les résultats"
   ]
  },
  {
   "cell_type": "code",
   "execution_count": 111,
   "metadata": {},
   "outputs": [
    {
     "data": {
      "text/plain": [
       "0.6785871964679913"
      ]
     },
     "execution_count": 111,
     "metadata": {},
     "output_type": "execute_result"
    }
   ],
   "source": [
    "hyperparameter_search.best_score_"
   ]
  },
  {
   "cell_type": "code",
   "execution_count": 112,
   "metadata": {},
   "outputs": [
    {
     "data": {
      "text/plain": [
       "{'knn__n_neighbors': 21, 'pca__n_components': 1}"
      ]
     },
     "execution_count": 112,
     "metadata": {},
     "output_type": "execute_result"
    }
   ],
   "source": [
    "# On affiche les meilleurs parametrage afin d'obtenir la meilleurs accuracy\n",
    "\n",
    "hyperparameter_search.best_params_"
   ]
  },
  {
   "cell_type": "code",
   "execution_count": 113,
   "metadata": {},
   "outputs": [],
   "source": [
    "# On selectionne les meilleurs parametres\n",
    "\n",
    "pca = PCA(n_components=1)\n",
    "knn = KNN(n_neighbors=21,\n",
    "         weights='uniform',\n",
    "         leaf_size=3)"
   ]
  },
  {
   "cell_type": "code",
   "execution_count": 114,
   "metadata": {},
   "outputs": [
    {
     "data": {
      "text/plain": [
       "PCA(n_components=1)"
      ]
     },
     "execution_count": 114,
     "metadata": {},
     "output_type": "execute_result"
    }
   ],
   "source": [
    "pca.fit(X_tr)"
   ]
  },
  {
   "cell_type": "code",
   "execution_count": 115,
   "metadata": {},
   "outputs": [],
   "source": [
    "X_tr_PCA = pca.transform(X_tr)  # On utilise en général le pca.transform pour optimiser avant le fit\n",
    "X_te_PCA = pca.transform(X_te)\n",
    "\n",
    "knn.fit(X_tr_PCA, Y_tr)\n",
    "predictions = knn.predict(X_te_PCA) # On veut faire une prédiction par rapport à notre X_te_PCA"
   ]
  },
  {
   "cell_type": "code",
   "execution_count": 116,
   "metadata": {},
   "outputs": [
    {
     "data": {
      "text/plain": [
       "('TRAIN ACCURACY: ', 0.7006131959774344)"
      ]
     },
     "execution_count": 116,
     "metadata": {},
     "output_type": "execute_result"
    }
   ],
   "source": [
    "# On cherche à prédir X_tr_PCA par rapport à Y_tr\n",
    "\n",
    "train_preds = knn.predict(X_tr_PCA)\n",
    "\"TRAIN ACCURACY: \", accuracy(train_preds, Y_tr)"
   ]
  },
  {
   "cell_type": "code",
   "execution_count": 117,
   "metadata": {},
   "outputs": [
    {
     "data": {
      "text/plain": [
       "('TEST ACCURACY: ', 0.6764763586423387)"
      ]
     },
     "execution_count": 117,
     "metadata": {},
     "output_type": "execute_result"
    }
   ],
   "source": [
    "# On chercher à prédir X_te_PCA par rapport à Y_te\n",
    "\n",
    "\"TEST ACCURACY: \", accuracy(predictions, Y_te)"
   ]
  },
  {
   "cell_type": "markdown",
   "metadata": {},
   "source": [
    "Nous pouvons voir que nous avons une accuracy de 67 en test. Le résultat est intéressant mais pas satisfaisant car nous voulons pouvoir prédir avec un maximum de précision la gravité d'un accident afin de pouvoir, par la suite mieux cibler les zones qui seront touchées par des cas d'accidents avec une fortes \"gravités\" et donc, un plus fort impact sur la circulation."
   ]
  },
  {
   "cell_type": "markdown",
   "metadata": {},
   "source": [
    "### RandomForestClassifier"
   ]
  },
  {
   "cell_type": "code",
   "execution_count": 118,
   "metadata": {},
   "outputs": [
    {
     "data": {
      "text/plain": [
       "Pipeline(steps=[('rfc', RandomForestClassifier())])"
      ]
     },
     "execution_count": 118,
     "metadata": {},
     "output_type": "execute_result"
    }
   ],
   "source": [
    "### Pipeline : Mise en place\n",
    "\n",
    "pipeline_details = [('rfc', RandomForestClassifier())]        \n",
    "\n",
    "pipeline = Pipeline(pipeline_details)\n",
    "\n",
    "pipeline"
   ]
  },
  {
   "cell_type": "code",
   "execution_count": 119,
   "metadata": {},
   "outputs": [
    {
     "data": {
      "text/plain": [
       "{'rfc__random_state': [0, 60]}"
      ]
     },
     "execution_count": 119,
     "metadata": {},
     "output_type": "execute_result"
    }
   ],
   "source": [
    "hyperparameters = {}\n",
    "hyperparameters['rfc__random_state'] = [0, 60]         # Il va chercher avec 1 voisin jusqu'a 21 et celui qui aura la meilleurs accuracy sera selectionner\n",
    "\n",
    "hyperparameters"
   ]
  },
  {
   "cell_type": "code",
   "execution_count": 120,
   "metadata": {},
   "outputs": [],
   "source": [
    "# Créer la grid search\n",
    "\n",
    "hyperparameter_search = GridSearchCV(pipeline,            # Notre pipeline\n",
    "                                    hyperparameters,      # Notre hyperparametre\n",
    "                                    scoring='accuracy',   # Ce qui nous interesse, c'est l'accuracy\n",
    "                                    cv=5)                 # cv est le nombre de model utilisé"
   ]
  },
  {
   "cell_type": "code",
   "execution_count": 121,
   "metadata": {},
   "outputs": [
    {
     "data": {
      "text/plain": [
       "GridSearchCV(cv=5,\n",
       "             estimator=Pipeline(steps=[('rfc', RandomForestClassifier())]),\n",
       "             param_grid={'rfc__random_state': [0, 60]}, scoring='accuracy')"
      ]
     },
     "execution_count": 121,
     "metadata": {},
     "output_type": "execute_result"
    }
   ],
   "source": [
    "hyperparameter_search"
   ]
  },
  {
   "cell_type": "code",
   "execution_count": 122,
   "metadata": {},
   "outputs": [
    {
     "data": {
      "text/plain": [
       "GridSearchCV(cv=5,\n",
       "             estimator=Pipeline(steps=[('rfc', RandomForestClassifier())]),\n",
       "             param_grid={'rfc__random_state': [0, 60]}, scoring='accuracy')"
      ]
     },
     "execution_count": 122,
     "metadata": {},
     "output_type": "execute_result"
    }
   ],
   "source": [
    "hyperparameter_search.fit(X_tr, Y_tr)"
   ]
  },
  {
   "cell_type": "markdown",
   "metadata": {},
   "source": [
    "### Recolter les résultats"
   ]
  },
  {
   "cell_type": "code",
   "execution_count": 123,
   "metadata": {},
   "outputs": [
    {
     "data": {
      "text/plain": [
       "0.7500122639195487"
      ]
     },
     "execution_count": 123,
     "metadata": {},
     "output_type": "execute_result"
    }
   ],
   "source": [
    "hyperparameter_search.best_score_"
   ]
  },
  {
   "cell_type": "code",
   "execution_count": 124,
   "metadata": {},
   "outputs": [
    {
     "data": {
      "text/plain": [
       "{'rfc__random_state': 0}"
      ]
     },
     "execution_count": 124,
     "metadata": {},
     "output_type": "execute_result"
    }
   ],
   "source": [
    "# On affiche les meilleurs parametrage afin d'obtenir la meilleurs accuracy\n",
    "\n",
    "hyperparameter_search.best_params_"
   ]
  },
  {
   "cell_type": "code",
   "execution_count": 213,
   "metadata": {},
   "outputs": [],
   "source": [
    "# On selectionne les meilleurs parametres\n",
    "\n",
    "clf = RandomForestClassifier(random_state=0,      # Lecture aléatoire des données\n",
    "                            n_estimators=21,      # Il va diviser X_tr en plusieurs arbres\n",
    "                            max_depth=7)          # Il va spliter/augmenter la profondeur des arbres"
   ]
  },
  {
   "cell_type": "code",
   "execution_count": 214,
   "metadata": {},
   "outputs": [
    {
     "data": {
      "text/plain": [
       "RandomForestClassifier(max_depth=7, n_estimators=21, random_state=0)"
      ]
     },
     "execution_count": 214,
     "metadata": {},
     "output_type": "execute_result"
    }
   ],
   "source": [
    "clf.fit(X_tr, Y_tr)"
   ]
  },
  {
   "cell_type": "code",
   "execution_count": 215,
   "metadata": {},
   "outputs": [
    {
     "data": {
      "text/plain": [
       "array([2, 1, 1, ..., 1, 1, 1], dtype=int8)"
      ]
     },
     "execution_count": 215,
     "metadata": {},
     "output_type": "execute_result"
    }
   ],
   "source": [
    "clf.predict(X_te)"
   ]
  },
  {
   "cell_type": "code",
   "execution_count": 216,
   "metadata": {},
   "outputs": [
    {
     "data": {
      "text/plain": [
       "array([[1.40475729e-03, 4.09334534e-01, 5.28600156e-01, 6.06605523e-02],\n",
       "       [7.21589661e-05, 6.50880224e-01, 3.45377419e-01, 3.67019789e-03],\n",
       "       [1.96043038e-04, 7.62088619e-01, 2.35295329e-01, 2.42000891e-03],\n",
       "       ...,\n",
       "       [3.51465958e-04, 5.33079517e-01, 4.62887468e-01, 3.68154951e-03],\n",
       "       [7.56867716e-05, 8.32136472e-01, 1.66195165e-01, 1.59267675e-03],\n",
       "       [2.22589171e-05, 8.18761431e-01, 1.79130849e-01, 2.08546058e-03]])"
      ]
     },
     "execution_count": 216,
     "metadata": {},
     "output_type": "execute_result"
    }
   ],
   "source": [
    "pred_prob = clf.predict_proba(X_te)\n",
    "pred_prob"
   ]
  },
  {
   "cell_type": "code",
   "execution_count": 219,
   "metadata": {},
   "outputs": [
    {
     "data": {
      "text/plain": [
       "('TRAIN ACCURACY: ', 0.7442727495707628)"
      ]
     },
     "execution_count": 219,
     "metadata": {},
     "output_type": "execute_result"
    }
   ],
   "source": [
    "pred_probtr = clf.predict_proba(X_tr)\n",
    "\n",
    "train_preds = clf.predict(X_tr)\n",
    "\n",
    "\"TRAIN ACCURACY: \", accuracy(train_preds, Y_tr)"
   ]
  },
  {
   "cell_type": "code",
   "execution_count": 220,
   "metadata": {},
   "outputs": [
    {
     "data": {
      "text/plain": [
       "('TEST ACCURACY: ', 0.7290563076319404)"
      ]
     },
     "execution_count": 220,
     "metadata": {},
     "output_type": "execute_result"
    }
   ],
   "source": [
    "# On cherche à prédir X_tr par rapport à Y_tr\n",
    "\n",
    "predictions = clf.predict(X_te)\n",
    "\"TEST ACCURACY: \", accuracy(predictions, Y_te)"
   ]
  },
  {
   "cell_type": "markdown",
   "metadata": {},
   "source": [
    "Nous pouvons voir que nous avons une accuracy de 74. Le résultat plus satisfaisant qu'avec le KNN. Afin de pouvoir prédir la gravité d'un accident, cette algorithme sera beaucoup plus intéressant à utiliesr."
   ]
  },
  {
   "cell_type": "markdown",
   "metadata": {},
   "source": [
    "### GradientBoostingClassifier"
   ]
  },
  {
   "cell_type": "code",
   "execution_count": 221,
   "metadata": {},
   "outputs": [
    {
     "data": {
      "text/plain": [
       "Pipeline(steps=[('grad', GradientBoostingClassifier())])"
      ]
     },
     "execution_count": 221,
     "metadata": {},
     "output_type": "execute_result"
    }
   ],
   "source": [
    "### Pipeline : Mise en place\n",
    "#\n",
    "# Gradient Boosting est un algorithme qui va assembler, unir en un tout \n",
    "# des modèles élaborés séquentiellement sur un échantillon d'apprentissage\n",
    "# dont les poids des individus sont corrigés au fur et à mesure. En bref,\n",
    "# il va construire plusieurs modèle et à chaque nouveau modèle,\n",
    "# il va, en cas d'erreur donner un poid supplémentaire à ces\n",
    "# erreurs et se corriger.\n",
    "\n",
    "pipeline_details = [('grad', GradientBoostingClassifier())]        \n",
    "\n",
    "pipeline = Pipeline(pipeline_details)\n",
    "\n",
    "pipeline"
   ]
  },
  {
   "cell_type": "code",
   "execution_count": 222,
   "metadata": {},
   "outputs": [
    {
     "data": {
      "text/plain": [
       "{'grad__random_state': [0, 60]}"
      ]
     },
     "execution_count": 222,
     "metadata": {},
     "output_type": "execute_result"
    }
   ],
   "source": [
    "hyperparameters = {}\n",
    "hyperparameters['grad__random_state'] = [0, 60]          # Il va chercher avec 1 voisin jusqu'a 21 et celui qui aura la meilleurs accuracy sera selectionner\n",
    "\n",
    "hyperparameters"
   ]
  },
  {
   "cell_type": "code",
   "execution_count": 223,
   "metadata": {},
   "outputs": [],
   "source": [
    "# Créer la grid search\n",
    "\n",
    "hyperparameter_search = GridSearchCV(pipeline,            # Notre pipeline\n",
    "                                    hyperparameters,      # Notre hyperparametre\n",
    "                                    scoring='accuracy',   # Ce qui nous interesse, c'est l'accuracy\n",
    "                                    cv=5)                 # cv est le nombre de model utilisé"
   ]
  },
  {
   "cell_type": "code",
   "execution_count": 224,
   "metadata": {},
   "outputs": [
    {
     "data": {
      "text/plain": [
       "GridSearchCV(cv=5,\n",
       "             estimator=Pipeline(steps=[('grad', GradientBoostingClassifier())]),\n",
       "             param_grid={'grad__random_state': [0, 60]}, scoring='accuracy')"
      ]
     },
     "execution_count": 224,
     "metadata": {},
     "output_type": "execute_result"
    }
   ],
   "source": [
    "hyperparameter_search"
   ]
  },
  {
   "cell_type": "code",
   "execution_count": 37,
   "metadata": {},
   "outputs": [
    {
     "data": {
      "text/plain": [
       "GridSearchCV(cv=5,\n",
       "             estimator=Pipeline(steps=[('grad', GradientBoostingClassifier())]),\n",
       "             param_grid={'grad__random_state': [0, 60]}, scoring='accuracy')"
      ]
     },
     "execution_count": 37,
     "metadata": {},
     "output_type": "execute_result"
    }
   ],
   "source": [
    "hyperparameter_search.fit(X_tr, Y_tr)"
   ]
  },
  {
   "cell_type": "markdown",
   "metadata": {},
   "source": [
    "### Recolter les résultats"
   ]
  },
  {
   "cell_type": "code",
   "execution_count": 38,
   "metadata": {},
   "outputs": [
    {
     "data": {
      "text/plain": [
       "0.7551140544518027"
      ]
     },
     "execution_count": 38,
     "metadata": {},
     "output_type": "execute_result"
    }
   ],
   "source": [
    "hyperparameter_search.best_score_"
   ]
  },
  {
   "cell_type": "code",
   "execution_count": 39,
   "metadata": {},
   "outputs": [
    {
     "data": {
      "text/plain": [
       "{'grad__random_state': 60}"
      ]
     },
     "execution_count": 39,
     "metadata": {},
     "output_type": "execute_result"
    }
   ],
   "source": [
    "# On affiche les meilleurs parametrage afin d'obtenir la meilleurs accuracy\n",
    "\n",
    "hyperparameter_search.best_params_"
   ]
  },
  {
   "cell_type": "code",
   "execution_count": 76,
   "metadata": {},
   "outputs": [],
   "source": [
    "grad = GradientBoostingClassifier(random_state=60,        # Lecture aléatoire des données\n",
    "                                 n_estimators=40,         # Nombre d'étape (modèle), plus il y a de modèle, plus il apprendra\n",
    "                                 max_depth=10)            # Profondeur de l'arborescence"
   ]
  },
  {
   "cell_type": "code",
   "execution_count": 77,
   "metadata": {},
   "outputs": [
    {
     "data": {
      "text/plain": [
       "GradientBoostingClassifier(max_depth=10, n_estimators=40, random_state=60)"
      ]
     },
     "execution_count": 77,
     "metadata": {},
     "output_type": "execute_result"
    }
   ],
   "source": [
    "grad.fit(X_tr, Y_tr) # On entraine notre sur le model"
   ]
  },
  {
   "cell_type": "code",
   "execution_count": 78,
   "metadata": {},
   "outputs": [
    {
     "data": {
      "text/plain": [
       "array([2, 1, 1, ..., 1, 1, 1], dtype=int8)"
      ]
     },
     "execution_count": 78,
     "metadata": {},
     "output_type": "execute_result"
    }
   ],
   "source": [
    "grad.predict(X_te)"
   ]
  },
  {
   "cell_type": "code",
   "execution_count": 79,
   "metadata": {},
   "outputs": [
    {
     "data": {
      "text/plain": [
       "array([[1.57596920e-05, 3.93430700e-01, 6.05273720e-01, 1.27982032e-03],\n",
       "       [1.42045523e-05, 5.07438320e-01, 4.92114464e-01, 4.33010883e-04],\n",
       "       [1.13619582e-05, 7.60591258e-01, 2.39043280e-01, 3.54100489e-04],\n",
       "       ...,\n",
       "       [1.31188433e-05, 6.16631646e-01, 3.82767306e-01, 5.87929244e-04],\n",
       "       [4.18073920e-06, 9.79444248e-01, 2.04370565e-02, 1.14515224e-04],\n",
       "       [5.85806535e-06, 9.62266666e-01, 3.75605385e-02, 1.66937666e-04]])"
      ]
     },
     "execution_count": 79,
     "metadata": {},
     "output_type": "execute_result"
    }
   ],
   "source": [
    "pred_prob = grad.predict_proba(X_te)\n",
    "pred_prob"
   ]
  },
  {
   "cell_type": "code",
   "execution_count": 80,
   "metadata": {},
   "outputs": [
    {
     "data": {
      "text/plain": [
       "('TRAIN ACCURACY: ', 0.9251410350748099)"
      ]
     },
     "execution_count": 80,
     "metadata": {},
     "output_type": "execute_result"
    }
   ],
   "source": [
    "train_preds = grad.predict(X_tr)\n",
    "\n",
    "\"TRAIN ACCURACY: \", accuracy(train_preds, Y_tr)"
   ]
  },
  {
   "cell_type": "code",
   "execution_count": 81,
   "metadata": {},
   "outputs": [
    {
     "data": {
      "text/plain": [
       "('TEST ACCURACY: ', 0.7696684324112223)"
      ]
     },
     "execution_count": 81,
     "metadata": {},
     "output_type": "execute_result"
    }
   ],
   "source": [
    "# On cherche à prédir X_tr par rapport à Y_tr\n",
    "\n",
    "predictions = grad.predict(X_te)\n",
    "\"TEST ACCURACY: \", accuracy(predictions, Y_te)"
   ]
  },
  {
   "cell_type": "markdown",
   "metadata": {},
   "source": [
    "Cette fois-ci notre accuracy est de 92. Le résultats dans les tests est très accurate mais on a overfeet car l'accuracy de notre train est bien au-dessus de notre tests qui est de 76. Malgrès tout, l'algorithme est beaucoup plus intéressants que les 2 autres car l'avantage de cette algorithme est qu'il va chercher à corriger ces erreurs et plus il en fera, plus il sera performant."
   ]
  },
  {
   "cell_type": "markdown",
   "metadata": {},
   "source": [
    "## Features Importances"
   ]
  },
  {
   "cell_type": "markdown",
   "metadata": {},
   "source": [
    "Nous allons essayer de detecter les features avec une forte importances afin de pouvoir déterminer quelles sont les features qui sont les plus influente pour l'obtention d'une bonne accuracy."
   ]
  },
  {
   "cell_type": "code",
   "execution_count": 225,
   "metadata": {},
   "outputs": [
    {
     "data": {
      "text/plain": [
       "array([0.00216844, 0.18450154, 0.09939984, 0.01697293, 0.03027319,\n",
       "       0.04515247, 0.01575814, 0.00832191, 0.0104525 , 0.01258967,\n",
       "       0.00827901, 0.00796831, 0.00904256, 0.01541678, 0.00063475,\n",
       "       0.        , 0.06434389, 0.        , 0.02167671, 0.        ,\n",
       "       0.00043282, 0.        , 0.00287184, 0.01114321, 0.        ,\n",
       "       0.1874155 , 0.        , 0.00078743, 0.00122261, 0.00064588,\n",
       "       0.00152319, 0.00659335, 0.00416182, 0.00695838, 0.00532152,\n",
       "       0.02937946, 0.00945122, 0.04675422, 0.01167839, 0.00405005,\n",
       "       0.00525213, 0.00619529, 0.04121834, 0.00828514, 0.05570555])"
      ]
     },
     "execution_count": 225,
     "metadata": {},
     "output_type": "execute_result"
    }
   ],
   "source": [
    "# La  features importances permet de connaitre l'importance d'une colonne\n",
    "# par rapport aux autres colonnes.\n",
    "\n",
    "X_tr_wo_index0 = X_tr.drop(['Unnamed: 0'],axis=1)\n",
    "X_wo_index0 = X.drop(['Unnamed: 0'],axis=1)\n",
    "clf.fit(X_tr_wo_index0, Y_tr)                       # On re-train nos valeurs\n",
    "importance = clf.feature_importances_   \n",
    "importance"
   ]
  },
  {
   "cell_type": "code",
   "execution_count": 226,
   "metadata": {},
   "outputs": [],
   "source": [
    "# On renomme nos colonnes\n",
    "\n",
    "name = X_tr_wo_index0.columns.tolist()\n",
    "colNumberList = list(range(len(X_tr_wo_index0.columns)))"
   ]
  },
  {
   "cell_type": "code",
   "execution_count": 227,
   "metadata": {},
   "outputs": [],
   "source": [
    "# On renomme nos colonnes\n",
    "\n",
    "name = X_tr_wo_index0.columns.tolist()\n",
    "colNumberList = list(range(len(X_tr_wo_index0.columns)))"
   ]
  },
  {
   "cell_type": "code",
   "execution_count": 228,
   "metadata": {},
   "outputs": [
    {
     "name": "stdout",
     "output_type": "stream",
     "text": [
      "Features:\n",
      "\n",
      "0  Source: (18.741550)\n",
      "1  TMC: (18.450154)\n",
      "2  Distance(mi): (9.939984)\n",
      "3  City: (6.434389)\n",
      "4  County: (5.570555)\n",
      "5  State: (4.675422)\n",
      "6  Airport_Code: (4.515247)\n",
      "7  Temperature(F): (4.121834)\n",
      "8  Humidity(%): (3.027319)\n",
      "9  Pressure(in): (2.937946)\n",
      "10  Visibility(mi): (2.167671)\n",
      "11  Wind_Speed(mph): (1.697293)\n",
      "12  Precipitation(in): (1.575814)\n",
      "13  Weather_Condition: (1.541678)\n",
      "14  Amenity: (1.258967)\n",
      "15  Bump: (1.167839)\n",
      "16  Crossing: (1.114321)\n",
      "17  Give_Way: (1.045250)\n",
      "18  Junction: (0.945122)\n",
      "19  No_Exit: (0.904256)\n",
      "20  Railway: (0.832191)\n",
      "21  Roundabout: (0.828514)\n",
      "22  Station: (0.827901)\n",
      "23  Stop: (0.796831)\n",
      "24  Traffic_Calming: (0.695838)\n",
      "25  Traffic_Signal: (0.659335)\n",
      "26  Turning_Loop: (0.619529)\n",
      "27  Sunrise_Sunset: (0.532152)\n",
      "28  Civil_Twilight: (0.525213)\n",
      "29  Nautical_Twilight: (0.416182)\n",
      "30  Astronomical_Twilight: (0.405005)\n",
      "31  Start_Time_year: (0.287184)\n",
      "32  Start_Time_month: (0.216844)\n",
      "33  Start_Time_week: (0.152319)\n",
      "34  Start_Time_day: (0.122261)\n",
      "35  Start_Time_hour: (0.078743)\n",
      "36  Start_Time_minute: (0.064588)\n",
      "37  Start_Time_dayofweek: (0.063475)\n",
      "38  End_Time_year: (0.043282)\n",
      "39  End_Time_month: (0.000000)\n",
      "40  End_Time_week: (0.000000)\n",
      "41  End_Time_day: (0.000000)\n",
      "42  End_Time_hour: (0.000000)\n",
      "43  End_Time_minute: (0.000000)\n",
      "44  End_Time_dayofweek: (0.000000)\n"
     ]
    },
    {
     "data": {
      "text/plain": [
       "<Figure size 432x288 with 0 Axes>"
      ]
     },
     "metadata": {},
     "output_type": "display_data"
    },
    {
     "data": {
      "image/png": "[encoded data removed]",
      "text/plain": [
       "<Figure size 1656x360 with 1 Axes>"
      ]
     },
     "metadata": {
      "needs_background": "light"
     },
     "output_type": "display_data"
    }
   ],
   "source": [
    "# On souhaite Afficher dans un graphique notre importance\n",
    "\n",
    "std = np.std([tree.feature_importances_ for tree in clf.estimators_],\n",
    "             axis=0)\n",
    "indices = np.argsort(importance)[::-1]\n",
    "\n",
    "# Affichage de nos features avec leur pourcentage\n",
    "print(\"Features:\")\n",
    "print()\n",
    "\n",
    "for f in range(X_wo_index0.shape[1]):\n",
    "    print(\"%d  %s: (%f)\" % (f, X_tr_wo_index0.columns[f], importance[indices[f]]*100))\n",
    "\n",
    "# Affichage de notre Features importance\n",
    "plt.figure()\n",
    "plt.subplots(figsize=(23,5))                                              #Taille de la figure\n",
    "plt.title(\"Feature importances\")\n",
    "plt.xlabel('Features')\n",
    "plt.ylabel('Importance')\n",
    "plt.bar(colNumberList, importance[indices]*100, yerr=std[indices], align=\"center\") # Valeur en X, Hauteur, Largeur, alignement\n",
    "plt.xlim([-1, X_wo_index0.shape[1]])                                                # Limite de l'axe X\n",
    "plt.show()"
   ]
  },
  {
   "cell_type": "markdown",
   "metadata": {},
   "source": [
    "Le graphique ci-dessus nous montrent que certaines colonnes sont beaucoup plus importantes que d'autres. En l'occurence, les colonnes qui ont le pourcentage le plus grand sont beaucoup plus nécéssaire que celle qui on un pourcentage bas afin d'avoir un résultat une accuracy précise."
   ]
  },
  {
   "cell_type": "markdown",
   "metadata": {},
   "source": [
    "## Confusion matrix"
   ]
  },
  {
   "cell_type": "code",
   "execution_count": 229,
   "metadata": {},
   "outputs": [
    {
     "data": {
      "text/plain": [
       "((5097, 46), (5097,), (20385, 46), (20385,))"
      ]
     },
     "execution_count": 229,
     "metadata": {},
     "output_type": "execute_result"
    }
   ],
   "source": [
    "X_te.shape, Y_te.shape, X_tr.shape, Y_tr.shape"
   ]
  },
  {
   "cell_type": "code",
   "execution_count": 230,
   "metadata": {},
   "outputs": [],
   "source": [
    "# Matrice de confusion \n",
    "#\n",
    "# la matrice de confusion est une matrice qui mesure la qualité d'un système de classification. \n",
    "# Chaque ligne correspond à une classe réelle, chaque colonne correspond à une classe estimée. \n",
    "\n",
    "(train_preds, Y_tr)\n",
    "(predictions, Y_te)\n",
    "\n",
    "from sklearn.metrics import confusion_matrix\n",
    "\n",
    "labels = range(4)                                             # Equivaut aux valeurs que peut retourner la target\n",
    "cm_train = confusion_matrix(train_preds, Y_tr, labels=labels)\n",
    "cm_test = confusion_matrix(predictions, Y_te, labels=labels)"
   ]
  },
  {
   "cell_type": "code",
   "execution_count": 231,
   "metadata": {},
   "outputs": [
    {
     "data": {
      "text/plain": [
       "array([1, 2, 0, 3], dtype=int8)"
      ]
     },
     "execution_count": 231,
     "metadata": {},
     "output_type": "execute_result"
    }
   ],
   "source": [
    "Y.unique()"
   ]
  },
  {
   "cell_type": "code",
   "execution_count": 232,
   "metadata": {},
   "outputs": [
    {
     "data": {
      "text/plain": [
       "range(0, 4)"
      ]
     },
     "execution_count": 232,
     "metadata": {},
     "output_type": "execute_result"
    }
   ],
   "source": [
    "labels"
   ]
  },
  {
   "cell_type": "code",
   "execution_count": 233,
   "metadata": {},
   "outputs": [
    {
     "data": {
      "image/png": "[encoded data removed]",
      "text/plain": [
       "<Figure size 432x288 with 2 Axes>"
      ]
     },
     "metadata": {
      "needs_background": "light"
     },
     "output_type": "display_data"
    }
   ],
   "source": [
    "show_cm(cm_train, labels)"
   ]
  },
  {
   "cell_type": "code",
   "execution_count": 234,
   "metadata": {},
   "outputs": [
    {
     "data": {
      "text/plain": [
       "array([[    0,     0,     0,     0],\n",
       "       [    4, 13538,  4614,    65],\n",
       "       [    1,   470,  1634,    59],\n",
       "       [    0,     0,     0,     0]], dtype=int64)"
      ]
     },
     "execution_count": 234,
     "metadata": {},
     "output_type": "execute_result"
    }
   ],
   "source": [
    "cm_train"
   ]
  },
  {
   "cell_type": "code",
   "execution_count": 235,
   "metadata": {},
   "outputs": [
    {
     "data": {
      "image/png": "[encoded data removed]",
      "text/plain": [
       "<Figure size 432x288 with 2 Axes>"
      ]
     },
     "metadata": {
      "needs_background": "light"
     },
     "output_type": "display_data"
    }
   ],
   "source": [
    "show_cm(cm_test, labels)"
   ]
  },
  {
   "cell_type": "code",
   "execution_count": 236,
   "metadata": {},
   "outputs": [
    {
     "data": {
      "text/plain": [
       "array([[   0,    0,    0,    0],\n",
       "       [   1, 3355, 1201,   15],\n",
       "       [   0,  148,  361,   16],\n",
       "       [   0,    0,    0,    0]], dtype=int64)"
      ]
     },
     "execution_count": 236,
     "metadata": {},
     "output_type": "execute_result"
    }
   ],
   "source": [
    "cm_test"
   ]
  },
  {
   "cell_type": "markdown",
   "metadata": {},
   "source": [
    "La matrice de confusion nous montrent que certaines données on été bien prédite mais qu'il reste pas mal de fausses gravités (faux positif)"
   ]
  },
  {
   "cell_type": "markdown",
   "metadata": {},
   "source": [
    "# Courbe de ROC"
   ]
  },
  {
   "cell_type": "code",
   "execution_count": 237,
   "metadata": {},
   "outputs": [],
   "source": [
    "n_classes = Y.nunique()\n",
    "fpr = dict()\n",
    "tpr = dict()\n",
    "roc_auc = dict()\n",
    "for i in range(n_classes):\n",
    "    fpr[i], tpr[i], _ = roc_curve(Y_te, pred_prob[:, i], pos_label=1)\n",
    "    roc_auc[i] = auc(fpr[i], tpr[i])"
   ]
  },
  {
   "cell_type": "code",
   "execution_count": 238,
   "metadata": {},
   "outputs": [],
   "source": [
    "fpr[\"micro\"], tpr[\"micro\"], _ = roc_curve(Y_te.ravel(), pred_prob[:, i].ravel(),pos_label=1)\n",
    "roc_auc[\"micro\"] = auc(fpr[\"micro\"], tpr[\"micro\"])"
   ]
  },
  {
   "cell_type": "code",
   "execution_count": 239,
   "metadata": {},
   "outputs": [
    {
     "data": {
      "image/png": "[encoded data removed]",
      "text/plain": [
       "<Figure size 432x288 with 1 Axes>"
      ]
     },
     "metadata": {
      "needs_background": "light"
     },
     "output_type": "display_data"
    }
   ],
   "source": [
    "plt.figure()\n",
    "lw = 2\n",
    "plt.plot(fpr[1], tpr[1], color='darkorange', lw=lw, label='ROC curve (area = %0.2f)' % roc_auc[1])\n",
    "plt.plot([0, 1], [0, 1], color='navy', lw=lw, linestyle='--')\n",
    "plt.xlim([0.0, 1.0])\n",
    "plt.ylim([0.0, 1.05])\n",
    "plt.xlabel('False Positive Rate')\n",
    "plt.ylabel('True Positive Rate')\n",
    "plt.title('Courbe Roc pour test')\n",
    "plt.legend(loc=\"lower right\")\n",
    "plt.show()"
   ]
  },
  {
   "cell_type": "code",
   "execution_count": 240,
   "metadata": {},
   "outputs": [],
   "source": [
    "n_classes = Y.nunique()\n",
    "fpr = dict()\n",
    "tpr = dict()\n",
    "roc_auc = dict()\n",
    "for i in range(n_classes):\n",
    "    fpr[i], tpr[i], _ = roc_curve(Y_tr, pred_probtr[:, i], pos_label=1)\n",
    "    roc_auc[i] = auc(fpr[i], tpr[i])"
   ]
  },
  {
   "cell_type": "code",
   "execution_count": 241,
   "metadata": {},
   "outputs": [],
   "source": [
    "fpr[\"micro\"], tpr[\"micro\"], _ = roc_curve(Y_tr.ravel(), pred_probtr[:, i].ravel(),pos_label=1)\n",
    "roc_auc[\"micro\"] = auc(fpr[\"micro\"], tpr[\"micro\"])"
   ]
  },
  {
   "cell_type": "code",
   "execution_count": 242,
   "metadata": {},
   "outputs": [
    {
     "data": {
      "image/png": "[encoded data removed]",
      "text/plain": [
       "<Figure size 432x288 with 1 Axes>"
      ]
     },
     "metadata": {
      "needs_background": "light"
     },
     "output_type": "display_data"
    }
   ],
   "source": [
    "plt.figure()\n",
    "lw = 2\n",
    "plt.plot(fpr[1], tpr[1], color='darkorange', lw=lw, label='ROC curve (area = %0.2f)' % roc_auc[1])\n",
    "plt.plot([0, 1], [0, 1], color='navy', lw=lw, linestyle='--')\n",
    "plt.xlim([0.0, 1.0])\n",
    "plt.ylim([0.0, 1.05])\n",
    "plt.xlabel('False Positive Rate')\n",
    "plt.ylabel('True Positive Rate')\n",
    "plt.title('Courbe Roc pour train')\n",
    "plt.legend(loc=\"lower right\")\n",
    "plt.show()"
   ]
  },
  {
   "cell_type": "markdown",
   "metadata": {},
   "source": [
    "D'après les diagrammes ci-dessus, la courbe ROC pour les tests et pour les trains sont peu différentes. Il n'y a donc pas d'Overfitting. L'air sous la courbe est de 80% ce qui veut dire qu'on a 80% de true positif. "
   ]
  }
 ],
 "metadata": {
  "kernelspec": {
   "display_name": "Python 3",
   "language": "python",
   "name": "python3"
  },
  "language_info": {
   "codemirror_mode": {
    "name": "ipython",
    "version": 3
   },
   "file_extension": ".py",
   "mimetype": "text/x-python",
   "name": "python",
   "nbconvert_exporter": "python",
   "pygments_lexer": "ipython3",
   "version": "3.8.1"
  }
 },
 "nbformat": 4,
 "nbformat_minor": 4
}
