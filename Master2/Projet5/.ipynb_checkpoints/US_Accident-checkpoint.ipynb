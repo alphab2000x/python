{
 "cells": [
  {
   "cell_type": "markdown",
   "metadata": {},
   "source": [
    "# US Accident"
   ]
  },
  {
   "cell_type": "markdown",
   "metadata": {},
   "source": [
    "## Contexte"
   ]
  },
  {
   "cell_type": "markdown",
   "metadata": {},
   "source": [
    "Nous constatons qu'il y a beaucoup d'accidents de voiture dans le monde. Les Etats-Unis n'échappe pas à la règle avec plusieurs milliers d'accidents dans le monde. Ainsi, nous allons nous poser 2 questions :\n",
    "    <ul>\n",
    "    <li>Quelles sont les régions les plus touchées par les accidents de voitures</li>\n",
    "    <li>En cas d'accidents, quelles s'étaient les gravitées des accidents</li>\n",
    "    </ul>\n",
    "    \n",
    "Nous allons égalements chercher à comprendre quelles sont les causes de ces accidents."
   ]
  },
  {
   "cell_type": "markdown",
   "metadata": {},
   "source": [
    "## Liens utiles"
   ]
  },
  {
   "cell_type": "markdown",
   "metadata": {},
   "source": [
    "Telechargement de la liste des colonnes du Dataset :\n",
    "   <a href=\"https://github.com/alphab2000x/python/blob/master/Master2/Projet5/Liste_des_colonnes.docx?raw=true\">Liste_des_colonnes.docx</a>\n",
    "    \n",
    "Rapport :"
   ]
  },
  {
   "cell_type": "markdown",
   "metadata": {},
   "source": [
    "## Import"
   ]
  },
  {
   "cell_type": "code",
   "execution_count": 48,
   "metadata": {},
   "outputs": [],
   "source": [
    "import seaborn as sns;\n",
    "import pandas as pd;\n",
    "import numpy as np;\n",
    "import matplotlib.pyplot as plt\n",
    "from sklearn.model_selection import train_test_split as TTS\n",
    "from sklearn.model_selection import cross_val_score;\n",
    "from sklearn.preprocessing import LabelEncoder;\n",
    "from sklearn.ensemble import RandomForestClassifier\n",
    "\n",
    "# pipeline elements\n",
    "from sklearn.decomposition import PCA # PCA = Principal Component Analysis\n",
    "from sklearn.neighbors import KNeighborsClassifier as KNN \n",
    "\n",
    "# pipeline materiaux\n",
    "from sklearn.pipeline import Pipeline # PCA = Principal Component Analysis\n",
    "from sklearn.model_selection import GridSearchCV\n",
    "\n",
    "from sklearn import svm, datasets\n",
    "from sklearn.metrics import roc_curve, auc\n",
    "from sklearn.preprocessing import label_binarize\n",
    "from sklearn.multiclass import OneVsRestClassifier\n",
    "from scipy import interp\n",
    "from sklearn.metrics import roc_auc_score\n",
    "from itertools import cycle\n"
   ]
  },
  {
   "cell_type": "markdown",
   "metadata": {},
   "source": [
    "## Fonction"
   ]
  },
  {
   "cell_type": "code",
   "execution_count": 49,
   "metadata": {},
   "outputs": [],
   "source": [
    "# Créer une mesure de performance\n",
    "\n",
    "def accuracy(preds, target):\n",
    "    M = target.shape[0] # Nombre d'exemple\n",
    "    total_correctes = (preds == target).sum()\n",
    "    accuracy = total_correctes / M\n",
    "    return accuracy"
   ]
  },
  {
   "cell_type": "code",
   "execution_count": 50,
   "metadata": {},
   "outputs": [],
   "source": [
    "# Afficher la matrice de confusion\n",
    "\n",
    "def show_cm(cm, labels):\n",
    "    df_cm = pd.DataFrame(cm, labels, labels)\n",
    "    sns.heatmap(df_cm, annot=True)\n",
    "    plt.show()"
   ]
  },
  {
   "cell_type": "markdown",
   "metadata": {},
   "source": [
    "## Collecte de données"
   ]
  },
  {
   "cell_type": "markdown",
   "metadata": {},
   "source": [
    "Nous allons étudier un dataset qui regroupent un enssemble d'accidents de voitures ayant eu lieu aux états-unis, soit dans 49 états. Les données ont été récoltées entre 2016 et 2020. Initialement, le dataset faisait environ 3500000 lignes mais étant données sa taille, il a été décider de la réduire afin de ne pas réduire les performances de calculs de nos algorithmes. "
   ]
  },
  {
   "cell_type": "code",
   "execution_count": 51,
   "metadata": {},
   "outputs": [],
   "source": [
    "# On récupère notre Dataset et la stocke dans une variable\n",
    "\n",
    "accident = pd.read_csv('data/US_Accidents_June20_mini.csv')"
   ]
  },
  {
   "cell_type": "code",
   "execution_count": 52,
   "metadata": {},
   "outputs": [
    {
     "name": "stdout",
     "output_type": "stream",
     "text": [
      "<class 'pandas.core.frame.DataFrame'>\n",
      "RangeIndex: 100000 entries, 0 to 99999\n",
      "Data columns (total 50 columns):\n",
      " #   Column                 Non-Null Count   Dtype  \n",
      "---  ------                 --------------   -----  \n",
      " 0   Unnamed: 0             100000 non-null  int64  \n",
      " 1   ID                     100000 non-null  object \n",
      " 2   Source                 100000 non-null  object \n",
      " 3   TMC                    70472 non-null   float64\n",
      " 4   Severity               100000 non-null  int64  \n",
      " 5   Start_Time             100000 non-null  object \n",
      " 6   End_Time               100000 non-null  object \n",
      " 7   Start_Lat              100000 non-null  float64\n",
      " 8   Start_Lng              100000 non-null  float64\n",
      " 9   End_Lat                29528 non-null   float64\n",
      " 10  End_Lng                29528 non-null   float64\n",
      " 11  Distance(mi)           100000 non-null  float64\n",
      " 12  Description            100000 non-null  object \n",
      " 13  Number                 35363 non-null   float64\n",
      " 14  Street                 100000 non-null  object \n",
      " 15  Side                   100000 non-null  object \n",
      " 16  City                   99997 non-null   object \n",
      " 17  County                 100000 non-null  object \n",
      " 18  State                  100000 non-null  object \n",
      " 19  Zipcode                99978 non-null   object \n",
      " 20  Country                100000 non-null  object \n",
      " 21  Timezone               99898 non-null   object \n",
      " 22  Airport_Code           99826 non-null   object \n",
      " 23  Weather_Timestamp      98782 non-null   object \n",
      " 24  Temperature(F)         98127 non-null   float64\n",
      " 25  Wind_Chill(F)          46751 non-null   float64\n",
      " 26  Humidity(%)            98024 non-null   float64\n",
      " 27  Pressure(in)           98400 non-null   float64\n",
      " 28  Visibility(mi)         97847 non-null   float64\n",
      " 29  Wind_Direction         98370 non-null   object \n",
      " 30  Wind_Speed(mph)        87046 non-null   float64\n",
      " 31  Precipitation(in)      42256 non-null   float64\n",
      " 32  Weather_Condition      97823 non-null   object \n",
      " 33  Amenity                100000 non-null  bool   \n",
      " 34  Bump                   100000 non-null  bool   \n",
      " 35  Crossing               100000 non-null  bool   \n",
      " 36  Give_Way               100000 non-null  bool   \n",
      " 37  Junction               100000 non-null  bool   \n",
      " 38  No_Exit                100000 non-null  bool   \n",
      " 39  Railway                100000 non-null  bool   \n",
      " 40  Roundabout             100000 non-null  bool   \n",
      " 41  Station                100000 non-null  bool   \n",
      " 42  Stop                   100000 non-null  bool   \n",
      " 43  Traffic_Calming        100000 non-null  bool   \n",
      " 44  Traffic_Signal         100000 non-null  bool   \n",
      " 45  Turning_Loop           100000 non-null  bool   \n",
      " 46  Sunrise_Sunset         99997 non-null   object \n",
      " 47  Civil_Twilight         99997 non-null   object \n",
      " 48  Nautical_Twilight      99997 non-null   object \n",
      " 49  Astronomical_Twilight  99997 non-null   object \n",
      "dtypes: bool(13), float64(14), int64(2), object(21)\n",
      "memory usage: 29.5+ MB\n"
     ]
    }
   ],
   "source": [
    "accident.info()"
   ]
  },
  {
   "cell_type": "code",
   "execution_count": 53,
   "metadata": {},
   "outputs": [
    {
     "data": {
      "text/html": [
       "<div>\n",
       "<style scoped>\n",
       "    .dataframe tbody tr th:only-of-type {\n",
       "        vertical-align: middle;\n",
       "    }\n",
       "\n",
       "    .dataframe tbody tr th {\n",
       "        vertical-align: top;\n",
       "    }\n",
       "\n",
       "    .dataframe thead th {\n",
       "        text-align: right;\n",
       "    }\n",
       "</style>\n",
       "<table border=\"1\" class=\"dataframe\">\n",
       "  <thead>\n",
       "    <tr style=\"text-align: right;\">\n",
       "      <th></th>\n",
       "      <th>Unnamed: 0</th>\n",
       "      <th>ID</th>\n",
       "      <th>Source</th>\n",
       "      <th>TMC</th>\n",
       "      <th>Severity</th>\n",
       "      <th>Start_Time</th>\n",
       "      <th>End_Time</th>\n",
       "      <th>Start_Lat</th>\n",
       "      <th>Start_Lng</th>\n",
       "      <th>End_Lat</th>\n",
       "      <th>...</th>\n",
       "      <th>Roundabout</th>\n",
       "      <th>Station</th>\n",
       "      <th>Stop</th>\n",
       "      <th>Traffic_Calming</th>\n",
       "      <th>Traffic_Signal</th>\n",
       "      <th>Turning_Loop</th>\n",
       "      <th>Sunrise_Sunset</th>\n",
       "      <th>Civil_Twilight</th>\n",
       "      <th>Nautical_Twilight</th>\n",
       "      <th>Astronomical_Twilight</th>\n",
       "    </tr>\n",
       "  </thead>\n",
       "  <tbody>\n",
       "    <tr>\n",
       "      <th>0</th>\n",
       "      <td>1901733</td>\n",
       "      <td>A-1901773</td>\n",
       "      <td>MapQuest</td>\n",
       "      <td>201.0</td>\n",
       "      <td>3</td>\n",
       "      <td>2018-05-20 12:33:29</td>\n",
       "      <td>2018-05-20 13:03:01</td>\n",
       "      <td>30.266512</td>\n",
       "      <td>-82.753860</td>\n",
       "      <td>NaN</td>\n",
       "      <td>...</td>\n",
       "      <td>False</td>\n",
       "      <td>False</td>\n",
       "      <td>False</td>\n",
       "      <td>False</td>\n",
       "      <td>False</td>\n",
       "      <td>False</td>\n",
       "      <td>Day</td>\n",
       "      <td>Day</td>\n",
       "      <td>Day</td>\n",
       "      <td>Day</td>\n",
       "    </tr>\n",
       "    <tr>\n",
       "      <th>1</th>\n",
       "      <td>2923127</td>\n",
       "      <td>A-2923261</td>\n",
       "      <td>Bing</td>\n",
       "      <td>NaN</td>\n",
       "      <td>3</td>\n",
       "      <td>2020-04-19 01:54:45</td>\n",
       "      <td>2020-04-19 02:24:45</td>\n",
       "      <td>38.367280</td>\n",
       "      <td>-90.384540</td>\n",
       "      <td>38.36728</td>\n",
       "      <td>...</td>\n",
       "      <td>False</td>\n",
       "      <td>False</td>\n",
       "      <td>False</td>\n",
       "      <td>False</td>\n",
       "      <td>False</td>\n",
       "      <td>False</td>\n",
       "      <td>Night</td>\n",
       "      <td>Night</td>\n",
       "      <td>Night</td>\n",
       "      <td>Night</td>\n",
       "    </tr>\n",
       "    <tr>\n",
       "      <th>2</th>\n",
       "      <td>323307</td>\n",
       "      <td>A-323310</td>\n",
       "      <td>MapQuest</td>\n",
       "      <td>201.0</td>\n",
       "      <td>2</td>\n",
       "      <td>2017-02-08 12:29:23</td>\n",
       "      <td>2017-02-08 12:59:01</td>\n",
       "      <td>34.000233</td>\n",
       "      <td>-84.067162</td>\n",
       "      <td>NaN</td>\n",
       "      <td>...</td>\n",
       "      <td>False</td>\n",
       "      <td>False</td>\n",
       "      <td>False</td>\n",
       "      <td>False</td>\n",
       "      <td>False</td>\n",
       "      <td>False</td>\n",
       "      <td>Day</td>\n",
       "      <td>Day</td>\n",
       "      <td>Day</td>\n",
       "      <td>Day</td>\n",
       "    </tr>\n",
       "    <tr>\n",
       "      <th>3</th>\n",
       "      <td>820712</td>\n",
       "      <td>A-820738</td>\n",
       "      <td>MapQuest</td>\n",
       "      <td>201.0</td>\n",
       "      <td>2</td>\n",
       "      <td>2019-10-15 09:28:51</td>\n",
       "      <td>2019-10-15 10:28:40</td>\n",
       "      <td>35.895634</td>\n",
       "      <td>-78.616295</td>\n",
       "      <td>NaN</td>\n",
       "      <td>...</td>\n",
       "      <td>False</td>\n",
       "      <td>False</td>\n",
       "      <td>False</td>\n",
       "      <td>False</td>\n",
       "      <td>False</td>\n",
       "      <td>False</td>\n",
       "      <td>Day</td>\n",
       "      <td>Day</td>\n",
       "      <td>Day</td>\n",
       "      <td>Day</td>\n",
       "    </tr>\n",
       "    <tr>\n",
       "      <th>4</th>\n",
       "      <td>2084795</td>\n",
       "      <td>A-2084835</td>\n",
       "      <td>MapQuest</td>\n",
       "      <td>201.0</td>\n",
       "      <td>2</td>\n",
       "      <td>2018-02-18 11:16:29</td>\n",
       "      <td>2018-02-18 11:45:23</td>\n",
       "      <td>36.679970</td>\n",
       "      <td>-78.176910</td>\n",
       "      <td>NaN</td>\n",
       "      <td>...</td>\n",
       "      <td>False</td>\n",
       "      <td>False</td>\n",
       "      <td>False</td>\n",
       "      <td>False</td>\n",
       "      <td>False</td>\n",
       "      <td>False</td>\n",
       "      <td>Day</td>\n",
       "      <td>Day</td>\n",
       "      <td>Day</td>\n",
       "      <td>Day</td>\n",
       "    </tr>\n",
       "  </tbody>\n",
       "</table>\n",
       "<p>5 rows × 50 columns</p>\n",
       "</div>"
      ],
      "text/plain": [
       "   Unnamed: 0         ID    Source    TMC  Severity           Start_Time  \\\n",
       "0     1901733  A-1901773  MapQuest  201.0         3  2018-05-20 12:33:29   \n",
       "1     2923127  A-2923261      Bing    NaN         3  2020-04-19 01:54:45   \n",
       "2      323307   A-323310  MapQuest  201.0         2  2017-02-08 12:29:23   \n",
       "3      820712   A-820738  MapQuest  201.0         2  2019-10-15 09:28:51   \n",
       "4     2084795  A-2084835  MapQuest  201.0         2  2018-02-18 11:16:29   \n",
       "\n",
       "              End_Time  Start_Lat  Start_Lng   End_Lat  ...  Roundabout  \\\n",
       "0  2018-05-20 13:03:01  30.266512 -82.753860       NaN  ...       False   \n",
       "1  2020-04-19 02:24:45  38.367280 -90.384540  38.36728  ...       False   \n",
       "2  2017-02-08 12:59:01  34.000233 -84.067162       NaN  ...       False   \n",
       "3  2019-10-15 10:28:40  35.895634 -78.616295       NaN  ...       False   \n",
       "4  2018-02-18 11:45:23  36.679970 -78.176910       NaN  ...       False   \n",
       "\n",
       "   Station   Stop  Traffic_Calming Traffic_Signal Turning_Loop Sunrise_Sunset  \\\n",
       "0    False  False            False          False        False            Day   \n",
       "1    False  False            False          False        False          Night   \n",
       "2    False  False            False          False        False            Day   \n",
       "3    False  False            False          False        False            Day   \n",
       "4    False  False            False          False        False            Day   \n",
       "\n",
       "  Civil_Twilight Nautical_Twilight Astronomical_Twilight  \n",
       "0            Day               Day                   Day  \n",
       "1          Night             Night                 Night  \n",
       "2            Day               Day                   Day  \n",
       "3            Day               Day                   Day  \n",
       "4            Day               Day                   Day  \n",
       "\n",
       "[5 rows x 50 columns]"
      ]
     },
     "execution_count": 53,
     "metadata": {},
     "output_type": "execute_result"
    }
   ],
   "source": [
    "accident.head()"
   ]
  },
  {
   "cell_type": "markdown",
   "metadata": {},
   "source": [
    "## Feature Engineering"
   ]
  },
  {
   "cell_type": "markdown",
   "metadata": {},
   "source": [
    "Nous allons dans cette partie définir les colonnes/features et la target puis isoler les features de target."
   ]
  },
  {
   "cell_type": "code",
   "execution_count": 54,
   "metadata": {},
   "outputs": [],
   "source": [
    "# On supprime les colonnes qui nous intéressent pas\n",
    "\n",
    "accident = accident.drop(['ID'],axis=1)\n",
    "accident = accident.drop(['Start_Lat'],axis=1)\n",
    "accident = accident.drop(['Start_Lng'],axis=1)\n",
    "accident = accident.drop(['End_Lat'],axis=1)\n",
    "accident = accident.drop(['End_Lng'],axis=1)\n",
    "accident = accident.drop(['Description'],axis=1)\n",
    "accident = accident.drop(['Number'],axis=1)\n",
    "accident = accident.drop(['Street'],axis=1)\n",
    "accident = accident.drop(['Side'],axis=1)\n",
    "accident = accident.drop(['Zipcode'],axis=1)\n",
    "accident = accident.drop(['Country'],axis=1)\n",
    "accident = accident.drop(['Timezone'],axis=1)\n",
    "accident = accident.drop(['Weather_Timestamp'],axis=1)\n",
    "accident = accident.drop(['Wind_Direction'],axis=1)\n",
    "accident = accident.drop(['Wind_Chill(F)'],axis=1)"
   ]
  },
  {
   "cell_type": "code",
   "execution_count": 55,
   "metadata": {},
   "outputs": [],
   "source": [
    "# On enlève toutes les valeurs NaN\n",
    "\n",
    "accident = accident.dropna(how='any')"
   ]
  },
  {
   "cell_type": "code",
   "execution_count": 56,
   "metadata": {},
   "outputs": [],
   "source": [
    "# On conserve notre Dataset sans transformation\n",
    "\n",
    "accidentNoTransform = accident.copy()"
   ]
  },
  {
   "cell_type": "code",
   "execution_count": 57,
   "metadata": {
    "scrolled": true
   },
   "outputs": [],
   "source": [
    "# On convertie les colonnes dans le type qui nous interessent\n",
    "\n",
    "accident['Source'] = LabelEncoder().fit_transform(accident['Source'])\n",
    "\n",
    "accident.TMC = accident['TMC'].astype('category').cat.codes\n",
    "\n",
    "accident.City = accident['City'].astype('category').cat.codes\n",
    "\n",
    "accident.State = accident['State'].astype('category').cat.codes\n",
    "\n",
    "accident.County = accident['County'].astype('category').cat.codes\n",
    "\n",
    "accident.Airport_Code = accident['Airport_Code'].astype('category').cat.codes\n",
    "\n",
    "accident.Sunrise_Sunset =accident['Sunrise_Sunset'].astype('category').cat.codes \n",
    "\n",
    "accident.Weather_Condition = accident['Weather_Condition'].astype('category').cat.codes\n",
    "\n",
    "accident.Nautical_Twilight = accident['Nautical_Twilight'].astype('category').cat.codes\n",
    "\n",
    "accident.Astronomical_Twilight = accident['Astronomical_Twilight'].astype('category').cat.codes\n",
    "\n",
    "accident.Civil_Twilight = accident['Civil_Twilight'].astype('category').cat.codes\n",
    "\n",
    "accident['Amenity'] = LabelEncoder().fit_transform(accident['Amenity'])\n",
    "accident['Bump'] = LabelEncoder().fit_transform(accident['Bump'])\n",
    "accident['Crossing'] = LabelEncoder().fit_transform(accident['Crossing'])\n",
    "accident['Give_Way'] = LabelEncoder().fit_transform(accident['Give_Way'])\n",
    "accident['Junction'] = LabelEncoder().fit_transform(accident['Junction'])\n",
    "accident['No_Exit'] = LabelEncoder().fit_transform(accident['No_Exit'])\n",
    "accident['Railway'] = LabelEncoder().fit_transform(accident['Railway'])\n",
    "accident['Roundabout'] = LabelEncoder().fit_transform(accident['Roundabout'])\n",
    "accident['Station'] = LabelEncoder().fit_transform(accident['Station'])\n",
    "accident['Stop'] = LabelEncoder().fit_transform(accident['Stop'])\n",
    "accident['Traffic_Calming'] = LabelEncoder().fit_transform(accident['Traffic_Calming'])\n",
    "accident['Traffic_Signal'] = LabelEncoder().fit_transform(accident['Traffic_Signal'])\n",
    "accident['Turning_Loop'] = LabelEncoder().fit_transform(accident['Turning_Loop'])"
   ]
  },
  {
   "cell_type": "code",
   "execution_count": 58,
   "metadata": {},
   "outputs": [],
   "source": [
    "# On va séparer notre target de nos colonnes\n",
    "\n",
    "Y = accident['Severity'].astype('category').cat.codes # La target va être la gravité\n",
    "X = accident.drop('Severity', axis='columns') # En fonction des critère environnant, on va essayer de prédir le niveau de gravité"
   ]
  },
  {
   "cell_type": "code",
   "execution_count": 59,
   "metadata": {},
   "outputs": [
    {
     "name": "stdout",
     "output_type": "stream",
     "text": [
      "<class 'pandas.core.frame.DataFrame'>\n",
      "Int64Index: 25482 entries, 3 to 99994\n",
      "Data columns (total 34 columns):\n",
      " #   Column                 Non-Null Count  Dtype  \n",
      "---  ------                 --------------  -----  \n",
      " 0   Unnamed: 0             25482 non-null  int64  \n",
      " 1   Source                 25482 non-null  int32  \n",
      " 2   TMC                    25482 non-null  int8   \n",
      " 3   Start_Time             25482 non-null  object \n",
      " 4   End_Time               25482 non-null  object \n",
      " 5   Distance(mi)           25482 non-null  float64\n",
      " 6   City                   25482 non-null  int16  \n",
      " 7   County                 25482 non-null  int16  \n",
      " 8   State                  25482 non-null  int8   \n",
      " 9   Airport_Code           25482 non-null  int16  \n",
      " 10  Temperature(F)         25482 non-null  float64\n",
      " 11  Humidity(%)            25482 non-null  float64\n",
      " 12  Pressure(in)           25482 non-null  float64\n",
      " 13  Visibility(mi)         25482 non-null  float64\n",
      " 14  Wind_Speed(mph)        25482 non-null  float64\n",
      " 15  Precipitation(in)      25482 non-null  float64\n",
      " 16  Weather_Condition      25482 non-null  int8   \n",
      " 17  Amenity                25482 non-null  int64  \n",
      " 18  Bump                   25482 non-null  int64  \n",
      " 19  Crossing               25482 non-null  int64  \n",
      " 20  Give_Way               25482 non-null  int64  \n",
      " 21  Junction               25482 non-null  int64  \n",
      " 22  No_Exit                25482 non-null  int64  \n",
      " 23  Railway                25482 non-null  int64  \n",
      " 24  Roundabout             25482 non-null  int64  \n",
      " 25  Station                25482 non-null  int64  \n",
      " 26  Stop                   25482 non-null  int64  \n",
      " 27  Traffic_Calming        25482 non-null  int64  \n",
      " 28  Traffic_Signal         25482 non-null  int64  \n",
      " 29  Turning_Loop           25482 non-null  int64  \n",
      " 30  Sunrise_Sunset         25482 non-null  int8   \n",
      " 31  Civil_Twilight         25482 non-null  int8   \n",
      " 32  Nautical_Twilight      25482 non-null  int8   \n",
      " 33  Astronomical_Twilight  25482 non-null  int8   \n",
      "dtypes: float64(7), int16(3), int32(1), int64(14), int8(7), object(2)\n",
      "memory usage: 5.1+ MB\n"
     ]
    }
   ],
   "source": [
    "X.info()"
   ]
  },
  {
   "cell_type": "code",
   "execution_count": 60,
   "metadata": {},
   "outputs": [],
   "source": [
    "# On convertie nos column date de type object en type date\n",
    "\n",
    "X['Start_Time'] = pd.to_datetime(X['Start_Time'], \n",
    " format = '%Y-%m-%d %H:%M:%S', \n",
    " errors = 'coerce')\n",
    "X['End_Time'] = pd.to_datetime(X['End_Time'], \n",
    " format = '%Y-%m-%d %H:%M:%S', \n",
    " errors = 'coerce')"
   ]
  },
  {
   "cell_type": "code",
   "execution_count": 61,
   "metadata": {},
   "outputs": [],
   "source": [
    "# On créé une colonne pour chaque élément de nos dates de début d'accident\n",
    "\n",
    "X['Start_Time_year'] = X['Start_Time'].dt.year\n",
    "X['Start_Time_month'] = X['Start_Time'].dt.month\n",
    "X['Start_Time_week'] = X['Start_Time'].dt.week\n",
    "X['Start_Time_day'] = X['Start_Time'].dt.day\n",
    "X['Start_Time_hour'] = X['Start_Time'].dt.hour\n",
    "X['Start_Time_minute'] = X['Start_Time'].dt.minute\n",
    "X['Start_Time_dayofweek'] = X['Start_Time'].dt.dayofweek"
   ]
  },
  {
   "cell_type": "code",
   "execution_count": 62,
   "metadata": {},
   "outputs": [],
   "source": [
    "# On créé une colonne pour chaque élément de nos dates de fin d'accident\n",
    "\n",
    "X['End_Time_year'] = X['End_Time'].dt.year\n",
    "X['End_Time_month'] = X['End_Time'].dt.month\n",
    "X['End_Time_week'] = X['End_Time'].dt.week\n",
    "X['End_Time_day'] = X['End_Time'].dt.day\n",
    "X['End_Time_hour'] = X['End_Time'].dt.hour\n",
    "X['End_Time_minute'] = X['End_Time'].dt.minute\n",
    "X['End_Time_dayofweek'] = X['End_Time'].dt.dayofweek"
   ]
  },
  {
   "cell_type": "code",
   "execution_count": 63,
   "metadata": {},
   "outputs": [],
   "source": [
    "# Maintenant que l'on a créé nos colonnes, on supprime nos de base vue que l'on en a plus besoin\n",
    "\n",
    "X = X.drop(['Start_Time'],axis=1)\n",
    "X = X.drop(['End_Time'],axis=1)"
   ]
  },
  {
   "cell_type": "code",
   "execution_count": 64,
   "metadata": {},
   "outputs": [],
   "source": [
    "# On enlève toutes les valeurs NaN\n",
    "\n",
    "X = X.dropna(how='any')"
   ]
  },
  {
   "cell_type": "code",
   "execution_count": 65,
   "metadata": {
    "scrolled": true
   },
   "outputs": [
    {
     "data": {
      "text/plain": [
       "((25482, 46), (25482,))"
      ]
     },
     "execution_count": 65,
     "metadata": {},
     "output_type": "execute_result"
    }
   ],
   "source": [
    "X.shape, Y.shape"
   ]
  },
  {
   "cell_type": "markdown",
   "metadata": {},
   "source": [
    "## Affichage des accidents en fonction des états"
   ]
  },
  {
   "cell_type": "code",
   "execution_count": 66,
   "metadata": {},
   "outputs": [
    {
     "data": {
      "text/plain": [
       "<seaborn.axisgrid.FacetGrid at 0x29c77a28d00>"
      ]
     },
     "execution_count": 66,
     "metadata": {},
     "output_type": "execute_result"
    },
    {
     "data": {
      "image/png": "[encoded data removed]",
      "text/plain": [
       "<Figure size 1080x360 with 1 Axes>"
      ]
     },
     "metadata": {
      "needs_background": "light"
     },
     "output_type": "display_data"
    }
   ],
   "source": [
    "sns.catplot(x='State', kind='count',data=accidentNoTransform, height=5, aspect=3) "
   ]
  },
  {
   "cell_type": "markdown",
   "metadata": {},
   "source": [
    "Nous pouvons voir dans le diagramme ci-dessus que certains états on beaucoup plus d'accidents que d'autres. En l'occurence:\n",
    "<ul>\n",
    "    <li>La Californie (CA) avec 3458 accidents</li>\n",
    "    <li>Le Texas (TX) avec 2557 accidents</li>\n",
    "    <li>La Floride (FL) avec 2010 accidents</li>\n",
    "    <li>La Caroline du Sud (SC) avec 2006 accidents</li>\n",
    "    <li>La Caroline du Nord (NC) avec 1555 accidents</li>\n",
    "    <li>New York (NY) avec 1507 accidents</li>\n",
    "</ul>\n",
    "\n",
    "ont beaucoup plus d'accidents que la pluparts des autres pays. Nous allons essayer de savoir la raison de celà."
   ]
  },
  {
   "cell_type": "markdown",
   "metadata": {},
   "source": [
    "## Affichage des villes avec le plus d'accidents"
   ]
  },
  {
   "cell_type": "markdown",
   "metadata": {},
   "source": [
    "Voir les états les plus touchés par les accidents sont une bonne choses, mais nous voulons désormais voir si les villes les plus touchées par les accidents de voitures sont corrélé aux états les plus touchés."
   ]
  },
  {
   "cell_type": "code",
   "execution_count": 67,
   "metadata": {},
   "outputs": [
    {
     "data": {
      "text/html": [
       "<div>\n",
       "<style scoped>\n",
       "    .dataframe tbody tr th:only-of-type {\n",
       "        vertical-align: middle;\n",
       "    }\n",
       "\n",
       "    .dataframe tbody tr th {\n",
       "        vertical-align: top;\n",
       "    }\n",
       "\n",
       "    .dataframe thead th {\n",
       "        text-align: right;\n",
       "    }\n",
       "</style>\n",
       "<table border=\"1\" class=\"dataframe\">\n",
       "  <thead>\n",
       "    <tr style=\"text-align: right;\">\n",
       "      <th></th>\n",
       "      <th>City</th>\n",
       "      <th>Accident</th>\n",
       "    </tr>\n",
       "  </thead>\n",
       "  <tbody>\n",
       "    <tr>\n",
       "      <th>1309</th>\n",
       "      <td>Houston</td>\n",
       "      <td>755</td>\n",
       "    </tr>\n",
       "    <tr>\n",
       "      <th>484</th>\n",
       "      <td>Charlotte</td>\n",
       "      <td>724</td>\n",
       "    </tr>\n",
       "    <tr>\n",
       "      <th>119</th>\n",
       "      <td>Austin</td>\n",
       "      <td>581</td>\n",
       "    </tr>\n",
       "    <tr>\n",
       "      <th>669</th>\n",
       "      <td>Dallas</td>\n",
       "      <td>511</td>\n",
       "    </tr>\n",
       "    <tr>\n",
       "      <th>2332</th>\n",
       "      <td>Raleigh</td>\n",
       "      <td>508</td>\n",
       "    </tr>\n",
       "    <tr>\n",
       "      <th>2090</th>\n",
       "      <td>Oklahoma City</td>\n",
       "      <td>409</td>\n",
       "    </tr>\n",
       "    <tr>\n",
       "      <th>151</th>\n",
       "      <td>Baton Rouge</td>\n",
       "      <td>373</td>\n",
       "    </tr>\n",
       "    <tr>\n",
       "      <th>1929</th>\n",
       "      <td>Nashville</td>\n",
       "      <td>369</td>\n",
       "    </tr>\n",
       "    <tr>\n",
       "      <th>1624</th>\n",
       "      <td>Los Angeles</td>\n",
       "      <td>355</td>\n",
       "    </tr>\n",
       "    <tr>\n",
       "      <th>107</th>\n",
       "      <td>Atlanta</td>\n",
       "      <td>299</td>\n",
       "    </tr>\n",
       "  </tbody>\n",
       "</table>\n",
       "</div>"
      ],
      "text/plain": [
       "               City  Accident\n",
       "1309        Houston       755\n",
       "484       Charlotte       724\n",
       "119          Austin       581\n",
       "669          Dallas       511\n",
       "2332        Raleigh       508\n",
       "2090  Oklahoma City       409\n",
       "151     Baton Rouge       373\n",
       "1929      Nashville       369\n",
       "1624    Los Angeles       355\n",
       "107         Atlanta       299"
      ]
     },
     "execution_count": 67,
     "metadata": {},
     "output_type": "execute_result"
    }
   ],
   "source": [
    "# Notre objectif est de créer une colonne qui va nous permettre enssuite de faire un calcul afin d'avoir la somme \n",
    "#   des 10 villes les plus touchées.\n",
    "\n",
    "df = accidentNoTransform\n",
    "df['Accident'] = df['City'] # On créé notre nouvelle colonne\n",
    "df\n",
    "\n",
    "CityAccident = pd.DataFrame()            # On crée un nouveau dataframe\n",
    "CityAccident['City'] = df['City']        # On ajoute à notre dataset la colonne City\n",
    "CityAccident['Accident'] = 1             # On ajoute à notre dataset la valeur 1, cela nous permettra de faire la somme des city\n",
    "total = CityAccident.groupby(by=\"City\",as_index=False).sum().sort_values(by=\"Accident\", ascending=False) # On groupe tout nos country en en fonction de la somme de nos class par ordre décroissant\n",
    "\n",
    "total.head(10)                                            # On affiche le total"
   ]
  },
  {
   "cell_type": "code",
   "execution_count": 68,
   "metadata": {},
   "outputs": [
    {
     "data": {
      "image/png": "[encoded data removed]",
      "text/plain": [
       "<Figure size 432x288 with 1 Axes>"
      ]
     },
     "metadata": {
      "needs_background": "light"
     },
     "output_type": "display_data"
    }
   ],
   "source": [
    "df = total.head(20)\n",
    "\n",
    "sns.barplot(df['Accident'], df['City']).set_title(\"10 villes avec le plus d'accident\");"
   ]
  },
  {
   "cell_type": "markdown",
   "metadata": {},
   "source": [
    "Comme nous pouvons voir, les états avec le plus d'accidents ne possède pas forcemment les villes avec le plus d'accidents. Pour en citer quelques uns:\n",
    "<ul>\n",
    "    <li>Oklahoma City qui se situe dans l'Oklahoma (OK)</li>\n",
    "    <li>Baton Rouge en Louisiane (LA)</li>\n",
    "    <li>Nashville au Tennessee (TN)</li>\n",
    "    <li>ou encore Atlanta en Georgie (GA)</li>\n",
    "</ul>\n",
    "qui sont des villes situé dans des états avec beaucoup moins d'accidents que les autres états vu au-dessus. \n",
    "\n",
    "Il faudra donc faire attention à ne pas se concentrer uniquement sur les états avec le plus d'accidents car si on s'interesse de plus près, ce n'est pas un facteur sufisant dans le cas où l'on chercherai à diminuer le nombres d'accidents. Il faudra cibler plus précisément les zones à risques."
   ]
  },
  {
   "cell_type": "markdown",
   "metadata": {},
   "source": [
    "## Etude et corrélation\n",
    "\n",
    "Nous allons essayé de voir si certaines features ne sont pas corrélé avec notre target : \"Severity\"."
   ]
  },
  {
   "cell_type": "code",
   "execution_count": 69,
   "metadata": {
    "scrolled": true
   },
   "outputs": [
    {
     "data": {
      "image/png": "[encoded data removed]",
      "text/plain": [
       "<Figure size 1080x720 with 2 Axes>"
      ]
     },
     "metadata": {
      "needs_background": "light"
     },
     "output_type": "display_data"
    }
   ],
   "source": [
    "plt.figure(figsize=(15,10))\n",
    "corr = sns.heatmap(accident.corr())"
   ]
  },
  {
   "cell_type": "markdown",
   "metadata": {},
   "source": [
    "Nous pouvons voir que Severity est correlé avec 2 features:\n",
    "<ul>\n",
    "    <li>Traffic_Signal</li>\n",
    "    <li>Crossing</li>\n",
    "</ul>\n",
    "\n",
    "Notre objectif est désormais de voir si ces features une belles est bien une incidence sur la severity."
   ]
  },
  {
   "cell_type": "markdown",
   "metadata": {},
   "source": [
    "## Feature Importance"
   ]
  },
  {
   "cell_type": "markdown",
   "metadata": {},
   "source": [
    "Nous allons essayer de detecter les features l'importances la plus grandes afin de pouvoir déterminer quelles sont celles qui sont les plus utiles à l'obtention d'une bonne accuracy. Cette étape va nous permettre de connaitre les features qui auront un impact sur la précision."
   ]
  },
  {
   "cell_type": "code",
   "execution_count": 1145,
   "metadata": {},
   "outputs": [
    {
     "data": {
      "text/plain": [
       "array([2.99682904e-03, 4.43172726e-02, 2.82999285e-02, 5.11621753e-02,\n",
       "       5.29758542e-02, 4.87689775e-02, 4.99487364e-02, 4.52988621e-02,\n",
       "       4.36721401e-02, 5.01945735e-02, 1.74123366e-02, 3.52994940e-02,\n",
       "       1.33066940e-02, 2.53859776e-02, 5.15271154e-04, 1.85039047e-05,\n",
       "       1.15876209e-02, 1.25111820e-04, 8.67104033e-03, 1.13932426e-04,\n",
       "       7.13345083e-04, 0.00000000e+00, 1.26324209e-03, 3.20667086e-03,\n",
       "       2.88734618e-06, 4.38874243e-02, 0.00000000e+00, 4.80311105e-03,\n",
       "       4.27326080e-03, 3.59525358e-03, 3.14116602e-03, 1.08385657e-02,\n",
       "       1.91531881e-02, 3.13339613e-02, 3.42514517e-02, 3.41416912e-02,\n",
       "       4.48860900e-02, 2.55817720e-02, 1.12609677e-02, 1.89777501e-02,\n",
       "       3.15954753e-02, 3.40634028e-02, 3.53433140e-02, 4.41217589e-02,\n",
       "       2.94929182e-02])"
      ]
     },
     "execution_count": 1145,
     "metadata": {},
     "output_type": "execute_result"
    }
   ],
   "source": [
    "# La  features importances permet de connaitre l'importance d'une colonne\n",
    "# par rapport aux autres colonnes.\n",
    "\n",
    "X_tr_wo_index0 = X_tr.drop(['Unnamed: 0'],axis=1)\n",
    "X_wo_index0 = X.drop(['Unnamed: 0'],axis=1)\n",
    "clf.fit(X_tr_wo_index0, Y_tr)                       # On re-train nos valeurs\n",
    "importance = clf.feature_importances_   \n",
    "importance"
   ]
  },
  {
   "cell_type": "code",
   "execution_count": 1146,
   "metadata": {},
   "outputs": [],
   "source": [
    "# On renomme nos colonnes\n",
    "\n",
    "name = X_tr_wo_index0.columns.tolist()\n",
    "colNumberList = list(range(len(X_tr_wo_index0.columns)))"
   ]
  },
  {
   "cell_type": "code",
   "execution_count": 1147,
   "metadata": {},
   "outputs": [],
   "source": [
    "# On renomme nos colonnes\n",
    "\n",
    "name = X_tr_wo_index0.columns.tolist()\n",
    "colNumberList = list(range(len(X_tr_wo_index0.columns)))"
   ]
  },
  {
   "cell_type": "code",
   "execution_count": 1148,
   "metadata": {},
   "outputs": [
    {
     "name": "stdout",
     "output_type": "stream",
     "text": [
      "Features:\n",
      "\n",
      "0  Source: (5.297585)\n",
      "1  TMC: (5.116218)\n",
      "2  Distance(mi): (5.019457)\n",
      "3  City: (4.994874)\n",
      "4  County: (4.876898)\n",
      "5  State: (4.529886)\n",
      "6  Airport_Code: (4.488609)\n",
      "7  Temperature(F): (4.431727)\n",
      "8  Humidity(%): (4.412176)\n",
      "9  Pressure(in): (4.388742)\n",
      "10  Visibility(mi): (4.367214)\n",
      "11  Wind_Speed(mph): (3.534331)\n",
      "12  Precipitation(in): (3.529949)\n",
      "13  Weather_Condition: (3.425145)\n",
      "14  Amenity: (3.414169)\n",
      "15  Bump: (3.406340)\n",
      "16  Crossing: (3.159548)\n",
      "17  Give_Way: (3.133396)\n",
      "18  Junction: (2.949292)\n",
      "19  No_Exit: (2.829993)\n",
      "20  Railway: (2.558177)\n",
      "21  Roundabout: (2.538598)\n",
      "22  Station: (1.915319)\n",
      "23  Stop: (1.897775)\n",
      "24  Traffic_Calming: (1.741234)\n",
      "25  Traffic_Signal: (1.330669)\n",
      "26  Turning_Loop: (1.158762)\n",
      "27  Sunrise_Sunset: (1.126097)\n",
      "28  Civil_Twilight: (1.083857)\n",
      "29  Nautical_Twilight: (0.867104)\n",
      "30  Astronomical_Twilight: (0.480311)\n",
      "31  Start_Time_year: (0.427326)\n",
      "32  Start_Time_month: (0.359525)\n",
      "33  Start_Time_week: (0.320667)\n",
      "34  Start_Time_day: (0.314117)\n",
      "35  Start_Time_hour: (0.299683)\n",
      "36  Start_Time_minute: (0.126324)\n",
      "37  Start_Time_dayofweek: (0.071335)\n",
      "38  End_Time_year: (0.051527)\n",
      "39  End_Time_month: (0.012511)\n",
      "40  End_Time_week: (0.011393)\n",
      "41  End_Time_day: (0.001850)\n",
      "42  End_Time_hour: (0.000289)\n",
      "43  End_Time_minute: (0.000000)\n",
      "44  End_Time_dayofweek: (0.000000)\n"
     ]
    },
    {
     "data": {
      "text/plain": [
       "<Figure size 432x288 with 0 Axes>"
      ]
     },
     "metadata": {},
     "output_type": "display_data"
    },
    {
     "data": {
      "image/png": "[encoded data removed]",
      "text/plain": [
       "<Figure size 1656x360 with 1 Axes>"
      ]
     },
     "metadata": {
      "needs_background": "light"
     },
     "output_type": "display_data"
    }
   ],
   "source": [
    "# On souhaite Afficher dans un graphique notre importance\n",
    "\n",
    "std = np.std([tree.feature_importances_ for tree in clf.estimators_],\n",
    "             axis=0)\n",
    "indices = np.argsort(importance)[::-1]\n",
    "\n",
    "# Affichage de nos features avec leur pourcentage\n",
    "print(\"Features:\")\n",
    "print()\n",
    "\n",
    "for f in range(X_wo_index0.shape[1]):\n",
    "    print(\"%d  %s: (%f)\" % (f, X_tr_wo_index0.columns[f], importance[indices[f]]*100))\n",
    "\n",
    "# Affichage de notre Features importance\n",
    "plt.figure()\n",
    "plt.subplots(figsize=(23,5))                                              #Taille de la figure\n",
    "plt.title(\"Feature importances\")\n",
    "plt.xlabel('Features')\n",
    "plt.ylabel('Importance')\n",
    "plt.bar(colNumberList, importance[indices]*100, yerr=std[indices], align=\"center\") # Valeur en X, Hauteur, Largeur, alignement\n",
    "plt.xlim([-1, X_wo_index0.shape[1]])                                                # Limite de l'axe X\n",
    "plt.show()"
   ]
  },
  {
   "cell_type": "markdown",
   "metadata": {},
   "source": [
    "Le graphique ci-dessus nous montrent que certaines colonnes sont beaucoup plus importantes que d'autres. En l'occurence, les colonnes qui ont le pourcentage le plus grand sont beaucoup plus nécéssaire que celle qui on un pourcentage bas afin d'avoir un résultat une accuracy précise."
   ]
  },
  {
   "cell_type": "markdown",
   "metadata": {},
   "source": [
    "## Entrainer un model"
   ]
  },
  {
   "cell_type": "markdown",
   "metadata": {},
   "source": [
    "Nous souhaitons prédir la gravité d'un accident selon l'environnement qui entoure l'accident."
   ]
  },
  {
   "cell_type": "code",
   "execution_count": 1131,
   "metadata": {},
   "outputs": [],
   "source": [
    "clf = RandomForestClassifier(random_state=0)"
   ]
  },
  {
   "cell_type": "code",
   "execution_count": 1132,
   "metadata": {},
   "outputs": [],
   "source": [
    "X_tr, X_te, Y_tr, Y_te = TTS(X, Y,              # features, target\n",
    "                            stratify = Y,       # Va prendre une proportion aux hasard de valeurs différentes histoire de ne pas avoir des cas où l'on a que des même valeur\n",
    "                            random_state=777,   # Sert à fixer le harsard pour ne pas avoir des résultat différents à chaque tests.\n",
    "                            train_size=0.8)     # 80% de X_train et Y_train et 50% de Y_test et Y_test"
   ]
  },
  {
   "cell_type": "code",
   "execution_count": 1133,
   "metadata": {},
   "outputs": [
    {
     "data": {
      "text/plain": [
       "RandomForestClassifier(random_state=0)"
      ]
     },
     "execution_count": 1133,
     "metadata": {},
     "output_type": "execute_result"
    }
   ],
   "source": [
    "clf.fit(X_tr, Y_tr)"
   ]
  },
  {
   "cell_type": "code",
   "execution_count": 1134,
   "metadata": {},
   "outputs": [
    {
     "data": {
      "text/plain": [
       "array([2, 1, 1, ..., 1, 1, 1], dtype=int8)"
      ]
     },
     "execution_count": 1134,
     "metadata": {},
     "output_type": "execute_result"
    }
   ],
   "source": [
    "clf.predict(X_te)"
   ]
  },
  {
   "cell_type": "code",
   "execution_count": 1135,
   "metadata": {},
   "outputs": [
    {
     "data": {
      "text/plain": [
       "array([[0.  , 0.28, 0.6 , 0.12],\n",
       "       [0.  , 0.51, 0.48, 0.01],\n",
       "       [0.  , 0.75, 0.25, 0.  ],\n",
       "       ...,\n",
       "       [0.  , 0.51, 0.49, 0.  ],\n",
       "       [0.  , 0.9 , 0.1 , 0.  ],\n",
       "       [0.  , 0.86, 0.14, 0.  ]])"
      ]
     },
     "execution_count": 1135,
     "metadata": {},
     "output_type": "execute_result"
    }
   ],
   "source": [
    "clf.predict_proba(X_te)"
   ]
  },
  {
   "cell_type": "code",
   "execution_count": 1136,
   "metadata": {},
   "outputs": [],
   "source": [
    "predictions = clf.predict(X_te)"
   ]
  },
  {
   "cell_type": "code",
   "execution_count": 1137,
   "metadata": {},
   "outputs": [
    {
     "data": {
      "text/plain": [
       "('TEST ACCURACY: ', 0.7559348636452815)"
      ]
     },
     "execution_count": 1137,
     "metadata": {},
     "output_type": "execute_result"
    }
   ],
   "source": [
    "# On cherche à prédir X_tr par rapport à Y_tr\n",
    "\n",
    "knn = KNN(n_neighbors=5)\n",
    "knn.fit(X_tr, Y_tr)\n",
    "train_preds = knn.predict(X_te)\n",
    "\"TEST ACCURACY: \", accuracy(predictions, Y_te)"
   ]
  },
  {
   "cell_type": "code",
   "execution_count": 1138,
   "metadata": {},
   "outputs": [
    {
     "data": {
      "text/plain": [
       "('TRAIN ACCURACY: ', 0.7912680892813343)"
      ]
     },
     "execution_count": 1138,
     "metadata": {},
     "output_type": "execute_result"
    }
   ],
   "source": [
    "train_preds = knn.predict(X_tr)\n",
    "\"TRAIN ACCURACY: \", accuracy(train_preds, Y_tr)"
   ]
  },
  {
   "cell_type": "markdown",
   "metadata": {},
   "source": [
    "Nous pouvons voir que nous avons 78 en précision. Le résultat est intéressant mais pas satisfaisant car nous voulons pouvoir prédir avec un maximum de précision la gravité d'un accident afin de pouvoir, par la suite mieux cibler les zones qui seront touchées par des cas d'accidents avec une fortes \"gravités\" et donc, on plus fortes probabilités de décès."
   ]
  },
  {
   "cell_type": "markdown",
   "metadata": {},
   "source": [
    "## Confusion matrix"
   ]
  },
  {
   "cell_type": "code",
   "execution_count": 1072,
   "metadata": {},
   "outputs": [
    {
     "data": {
      "text/plain": [
       "((5097, 46), (5097,), (20385, 46), (20385,))"
      ]
     },
     "execution_count": 1072,
     "metadata": {},
     "output_type": "execute_result"
    }
   ],
   "source": [
    "X_te.shape, Y_te.shape, X_tr.shape, Y_tr.shape"
   ]
  },
  {
   "cell_type": "code",
   "execution_count": 1073,
   "metadata": {},
   "outputs": [],
   "source": [
    "# Matrice de confusion \n",
    "#\n",
    "# la matrice de confusion est une matrice qui mesure la qualité d'un système de classification. \n",
    "# Chaque ligne correspond à une classe réelle, chaque colonne correspond à une classe estimée. \n",
    "\n",
    "(train_preds, Y_tr)\n",
    "(predictions, Y_te)\n",
    "\n",
    "from sklearn.metrics import confusion_matrix\n",
    "\n",
    "labels = range(4)                                             # Equivaut aux valeurs que peut retourner la target\n",
    "cm_train = confusion_matrix(train_preds, Y_tr, labels=labels)\n",
    "cm_test = confusion_matrix(predictions, Y_te, labels=labels)"
   ]
  },
  {
   "cell_type": "code",
   "execution_count": 1074,
   "metadata": {},
   "outputs": [
    {
     "data": {
      "text/plain": [
       "array([1, 2, 0, 3], dtype=int8)"
      ]
     },
     "execution_count": 1074,
     "metadata": {},
     "output_type": "execute_result"
    }
   ],
   "source": [
    "Y.unique()"
   ]
  },
  {
   "cell_type": "code",
   "execution_count": 1075,
   "metadata": {},
   "outputs": [
    {
     "data": {
      "text/plain": [
       "range(0, 4)"
      ]
     },
     "execution_count": 1075,
     "metadata": {},
     "output_type": "execute_result"
    }
   ],
   "source": [
    "labels"
   ]
  },
  {
   "cell_type": "code",
   "execution_count": 1076,
   "metadata": {},
   "outputs": [
    {
     "data": {
      "image/png": "[encoded data removed]",
      "text/plain": [
       "<Figure size 432x288 with 2 Axes>"
      ]
     },
     "metadata": {
      "needs_background": "light"
     },
     "output_type": "display_data"
    }
   ],
   "source": [
    "show_cm(cm_train, labels)"
   ]
  },
  {
   "cell_type": "code",
   "execution_count": 1077,
   "metadata": {},
   "outputs": [
    {
     "data": {
      "text/plain": [
       "array([[    1,     2,     2,     0],\n",
       "       [    3, 12718,  2835,   117],\n",
       "       [    1,  1285,  3410,     6],\n",
       "       [    0,     3,     1,     1]], dtype=int64)"
      ]
     },
     "execution_count": 1077,
     "metadata": {},
     "output_type": "execute_result"
    }
   ],
   "source": [
    "cm_train"
   ]
  },
  {
   "cell_type": "code",
   "execution_count": 1078,
   "metadata": {},
   "outputs": [
    {
     "data": {
      "image/png": "[encoded data removed]",
      "text/plain": [
       "<Figure size 432x288 with 2 Axes>"
      ]
     },
     "metadata": {
      "needs_background": "light"
     },
     "output_type": "display_data"
    }
   ],
   "source": [
    "show_cm(cm_test, labels)"
   ]
  },
  {
   "cell_type": "code",
   "execution_count": 1079,
   "metadata": {},
   "outputs": [
    {
     "data": {
      "text/plain": [
       "array([[   0,    0,    0,    0],\n",
       "       [   1, 3185,  894,   10],\n",
       "       [   0,  318,  668,   21],\n",
       "       [   0,    0,    0,    0]], dtype=int64)"
      ]
     },
     "execution_count": 1079,
     "metadata": {},
     "output_type": "execute_result"
    }
   ],
   "source": [
    "cm_test"
   ]
  },
  {
   "cell_type": "markdown",
   "metadata": {},
   "source": [
    "Le graphique ci-dessus nous montrent que certaines colonnes sont beaucoup plus importantes que d'autres. En l'occurence, les colonnes qui ont le pourcentage le plus grand sont beaucoup plus nécéssaire que celle qui on un pourcentage bas afin d'avoir un résultat une accuracy précise."
   ]
  },
  {
   "cell_type": "markdown",
   "metadata": {},
   "source": [
    "## Affichage du nombre d'accident en fonction"
   ]
  },
  {
   "cell_type": "code",
   "execution_count": null,
   "metadata": {},
   "outputs": [],
   "source": [
    "# L'objectif est d'afficher le Nombre d'attaque en fonction des pays\n",
    "# On affichera uniquement les 10 pays les plus attaqué\n",
    "\n",
    "accident_wo_class0 = accident[accident['class'] == 1]              # On s'interessera qu'au fraude qui on eu lieu\n",
    "city_by_class = pd.DataFrame()                         # On crée un nouveau dataframe\n",
    "country_by_class['country'] = fd_ip['country']            # On ajoute à notre dataset la colonne country\n",
    "country_by_class['class'] = fd_ip['class']                # On ajoute à notre dataset la colonne classe\n",
    "total = country_by_class.groupby(by=\"country\",as_index=False).sum().sort_values(by='class', ascending=False) # On groupe tout nos country en en fonction de la somme de nos class par ordre décroissant\n",
    "\n",
    "total.head(10)                                            # On affiche le total\n"
   ]
  },
  {
   "cell_type": "code",
   "execution_count": null,
   "metadata": {},
   "outputs": [],
   "source": [
    "df = total.head(10)\n",
    "\n",
    "sns.barplot(df['class'], df['country']).set_title(\"Nombre de fraude en fonction des pays\");"
   ]
  },
  {
   "cell_type": "markdown",
   "metadata": {},
   "source": [
    "# Courbe de ROC"
   ]
  },
  {
   "cell_type": "code",
   "execution_count": 744,
   "metadata": {},
   "outputs": [],
   "source": [
    "# Binarize the output\n",
    "Y = label_binarize(Y, classes=[0, 1, 2])\n",
    "n_classes = Y.shape[1]"
   ]
  },
  {
   "cell_type": "code",
   "execution_count": 745,
   "metadata": {},
   "outputs": [],
   "source": [
    "# Binarize the output\n",
    "Y = label_binarize(Y, classes=[0, 1, 2])\n",
    "n_classes = Y.shape[1]"
   ]
  },
  {
   "cell_type": "code",
   "execution_count": 746,
   "metadata": {},
   "outputs": [],
   "source": [
    "splits = TTS(X, Y,           # features, target\n",
    "                         train_size=0.3,  # 50% de X_train et Y_train et 50% de Y_test et Y_test\n",
    "                         stratify=Y,      # Va prendre une proportion aux hasard de valeurs différentes histoire de ne pas avoir des cas où l'on a que des même valeur\n",
    "                         random_state=1203)  # Sert à fixer le harsard pour ne pas avoir des résultat différents à chaque tests."
   ]
  },
  {
   "cell_type": "code",
   "execution_count": 747,
   "metadata": {},
   "outputs": [],
   "source": [
    "# shuffle and split training and test sets\n",
    "X_train, X_test, Y_train, Y_test = splits #On associe chaque shape à une variable"
   ]
  },
  {
   "cell_type": "code",
   "execution_count": 748,
   "metadata": {},
   "outputs": [
    {
     "ename": "NameError",
     "evalue": "name 'Y_score' is not defined",
     "output_type": "error",
     "traceback": [
      "\u001b[1;31m---------------------------------------------------------------------------\u001b[0m",
      "\u001b[1;31mNameError\u001b[0m                                 Traceback (most recent call last)",
      "\u001b[1;32m<ipython-input-748-bf110a30cfbb>\u001b[0m in \u001b[0;36m<module>\u001b[1;34m\u001b[0m\n\u001b[0;32m      4\u001b[0m \u001b[0mroc_auc\u001b[0m \u001b[1;33m=\u001b[0m \u001b[0mdict\u001b[0m\u001b[1;33m(\u001b[0m\u001b[1;33m)\u001b[0m\u001b[1;33m\u001b[0m\u001b[1;33m\u001b[0m\u001b[0m\n\u001b[0;32m      5\u001b[0m \u001b[1;32mfor\u001b[0m \u001b[0mi\u001b[0m \u001b[1;32min\u001b[0m \u001b[0mrange\u001b[0m\u001b[1;33m(\u001b[0m\u001b[0mn_classes\u001b[0m\u001b[1;33m)\u001b[0m\u001b[1;33m:\u001b[0m\u001b[1;33m\u001b[0m\u001b[1;33m\u001b[0m\u001b[0m\n\u001b[1;32m----> 6\u001b[1;33m     \u001b[0mfpr\u001b[0m\u001b[1;33m[\u001b[0m\u001b[0mi\u001b[0m\u001b[1;33m]\u001b[0m\u001b[1;33m,\u001b[0m \u001b[0mtpr\u001b[0m\u001b[1;33m[\u001b[0m\u001b[0mi\u001b[0m\u001b[1;33m]\u001b[0m\u001b[1;33m,\u001b[0m \u001b[0m_\u001b[0m \u001b[1;33m=\u001b[0m \u001b[0mroc_curve\u001b[0m\u001b[1;33m(\u001b[0m\u001b[0mY_test\u001b[0m\u001b[1;33m[\u001b[0m\u001b[1;33m:\u001b[0m\u001b[1;33m,\u001b[0m \u001b[0mi\u001b[0m\u001b[1;33m]\u001b[0m\u001b[1;33m,\u001b[0m \u001b[0mY_score\u001b[0m\u001b[1;33m[\u001b[0m\u001b[1;33m:\u001b[0m\u001b[1;33m,\u001b[0m \u001b[0mi\u001b[0m\u001b[1;33m]\u001b[0m\u001b[1;33m)\u001b[0m\u001b[1;33m\u001b[0m\u001b[1;33m\u001b[0m\u001b[0m\n\u001b[0m\u001b[0;32m      7\u001b[0m     \u001b[0mroc_auc\u001b[0m\u001b[1;33m[\u001b[0m\u001b[0mi\u001b[0m\u001b[1;33m]\u001b[0m \u001b[1;33m=\u001b[0m \u001b[0mauc\u001b[0m\u001b[1;33m(\u001b[0m\u001b[0mfpr\u001b[0m\u001b[1;33m[\u001b[0m\u001b[0mi\u001b[0m\u001b[1;33m]\u001b[0m\u001b[1;33m,\u001b[0m \u001b[0mtpr\u001b[0m\u001b[1;33m[\u001b[0m\u001b[0mi\u001b[0m\u001b[1;33m]\u001b[0m\u001b[1;33m)\u001b[0m\u001b[1;33m\u001b[0m\u001b[1;33m\u001b[0m\u001b[0m\n",
      "\u001b[1;31mNameError\u001b[0m: name 'Y_score' is not defined"
     ]
    }
   ],
   "source": [
    "# Compute ROC curve and ROC area for each class\n",
    "fpr = dict()\n",
    "tpr = dict()\n",
    "roc_auc = dict()\n",
    "for i in range(n_classes):\n",
    "    fpr[i], tpr[i], _ = roc_curve(Y_test[:, i], Y_score[:, i])\n",
    "    roc_auc[i] = auc(fpr[i], tpr[i])\n"
   ]
  },
  {
   "cell_type": "code",
   "execution_count": null,
   "metadata": {},
   "outputs": [],
   "source": [
    "# Compute micro-average ROC curve and ROC area\n",
    "fpr[\"micro\"], tpr[\"micro\"], _ = roc_curve(Y_test.ravel(), Y_score.ravel())\n",
    "roc_auc[\"micro\"] = auc(fpr[\"micro\"], tpr[\"micro\"])"
   ]
  }
 ],
 "metadata": {
  "kernelspec": {
   "display_name": "Python 3",
   "language": "python",
   "name": "python3"
  },
  "language_info": {
   "codemirror_mode": {
    "name": "ipython",
    "version": 3
   },
   "file_extension": ".py",
   "mimetype": "text/x-python",
   "name": "python",
   "nbconvert_exporter": "python",
   "pygments_lexer": "ipython3",
   "version": "3.8.1"
  }
 },
 "nbformat": 4,
 "nbformat_minor": 4
}
