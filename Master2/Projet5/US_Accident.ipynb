{
 "cells": [
  {
   "cell_type": "markdown",
   "metadata": {},
   "source": [
    "# US Accident"
   ]
  },
  {
   "cell_type": "markdown",
   "metadata": {},
   "source": [
    "## Import"
   ]
  },
  {
   "cell_type": "code",
   "execution_count": 682,
   "metadata": {},
   "outputs": [],
   "source": [
    "import seaborn as sns;\n",
    "import pandas as pd;\n",
    "import numpy as np;\n",
    "import matplotlib.pyplot as plt\n",
    "from sklearn.model_selection import train_test_split as TTS\n",
    "from sklearn.model_selection import cross_val_score;\n",
    "from sklearn.preprocessing import LabelEncoder;\n",
    "from sklearn.ensemble import RandomForestClassifier\n",
    "\n",
    "# pipeline elements\n",
    "from sklearn.decomposition import PCA # PCA = Principal Component Analysis\n",
    "from sklearn.neighbors import KNeighborsClassifier as KNN \n",
    "\n",
    "# pipeline materiaux\n",
    "from sklearn.pipeline import Pipeline # PCA = Principal Component Analysis\n",
    "from sklearn.model_selection import GridSearchCV\n",
    "\n",
    "from sklearn import svm, datasets\n",
    "from sklearn.metrics import roc_curve, auc\n",
    "from sklearn.preprocessing import label_binarize\n",
    "from sklearn.multiclass import OneVsRestClassifier\n",
    "from scipy import interp\n",
    "from sklearn.metrics import roc_auc_score\n",
    "from itertools import cycle\n"
   ]
  },
  {
   "cell_type": "markdown",
   "metadata": {},
   "source": [
    "## Fonction"
   ]
  },
  {
   "cell_type": "code",
   "execution_count": 683,
   "metadata": {},
   "outputs": [],
   "source": [
    "# Créer une mesure de performance\n",
    "\n",
    "def accuracy(preds, target):\n",
    "    M = target.shape[0] # Nombre d'exemple\n",
    "    total_correctes = (preds == target).sum()\n",
    "    accuracy = total_correctes / M\n",
    "    return accuracy"
   ]
  },
  {
   "cell_type": "code",
   "execution_count": 684,
   "metadata": {},
   "outputs": [],
   "source": [
    "# Afficher la matrice de confusion\n",
    "\n",
    "def show_cm(cm, labels):\n",
    "    df_cm = pd.DataFrame(cm, labels, labels)\n",
    "    sns.heatmap(df_cm, annot=True)\n",
    "    plt.show()"
   ]
  },
  {
   "cell_type": "markdown",
   "metadata": {},
   "source": [
    "## Collecte de données"
   ]
  },
  {
   "cell_type": "markdown",
   "metadata": {},
   "source": [
    "Nous allons étudier un dataset qui regroupent un enssemble d'accidents de voitures ayant eu lieu aux états-unis, soit dans 49 états. Les données ont été récoltées entre 2016 et 2020. Initialement, le dataset faisait environ 3500000 lignes mais étant données sa taille, il a été décider de la réduire afin de ne pas réduire les performances de calculs de nos algorithmes. "
   ]
  },
  {
   "cell_type": "code",
   "execution_count": 685,
   "metadata": {},
   "outputs": [],
   "source": [
    "accident = pd.read_csv('data/US_Accidents_June20_mini.csv')"
   ]
  },
  {
   "cell_type": "code",
   "execution_count": 686,
   "metadata": {},
   "outputs": [
    {
     "name": "stdout",
     "output_type": "stream",
     "text": [
      "<class 'pandas.core.frame.DataFrame'>\n",
      "RangeIndex: 100000 entries, 0 to 99999\n",
      "Data columns (total 50 columns):\n",
      " #   Column                 Non-Null Count   Dtype  \n",
      "---  ------                 --------------   -----  \n",
      " 0   Unnamed: 0             100000 non-null  int64  \n",
      " 1   ID                     100000 non-null  object \n",
      " 2   Source                 100000 non-null  object \n",
      " 3   TMC                    70472 non-null   float64\n",
      " 4   Severity               100000 non-null  int64  \n",
      " 5   Start_Time             100000 non-null  object \n",
      " 6   End_Time               100000 non-null  object \n",
      " 7   Start_Lat              100000 non-null  float64\n",
      " 8   Start_Lng              100000 non-null  float64\n",
      " 9   End_Lat                29528 non-null   float64\n",
      " 10  End_Lng                29528 non-null   float64\n",
      " 11  Distance(mi)           100000 non-null  float64\n",
      " 12  Description            100000 non-null  object \n",
      " 13  Number                 35363 non-null   float64\n",
      " 14  Street                 100000 non-null  object \n",
      " 15  Side                   100000 non-null  object \n",
      " 16  City                   99997 non-null   object \n",
      " 17  County                 100000 non-null  object \n",
      " 18  State                  100000 non-null  object \n",
      " 19  Zipcode                99978 non-null   object \n",
      " 20  Country                100000 non-null  object \n",
      " 21  Timezone               99898 non-null   object \n",
      " 22  Airport_Code           99826 non-null   object \n",
      " 23  Weather_Timestamp      98782 non-null   object \n",
      " 24  Temperature(F)         98127 non-null   float64\n",
      " 25  Wind_Chill(F)          46751 non-null   float64\n",
      " 26  Humidity(%)            98024 non-null   float64\n",
      " 27  Pressure(in)           98400 non-null   float64\n",
      " 28  Visibility(mi)         97847 non-null   float64\n",
      " 29  Wind_Direction         98370 non-null   object \n",
      " 30  Wind_Speed(mph)        87046 non-null   float64\n",
      " 31  Precipitation(in)      42256 non-null   float64\n",
      " 32  Weather_Condition      97823 non-null   object \n",
      " 33  Amenity                100000 non-null  bool   \n",
      " 34  Bump                   100000 non-null  bool   \n",
      " 35  Crossing               100000 non-null  bool   \n",
      " 36  Give_Way               100000 non-null  bool   \n",
      " 37  Junction               100000 non-null  bool   \n",
      " 38  No_Exit                100000 non-null  bool   \n",
      " 39  Railway                100000 non-null  bool   \n",
      " 40  Roundabout             100000 non-null  bool   \n",
      " 41  Station                100000 non-null  bool   \n",
      " 42  Stop                   100000 non-null  bool   \n",
      " 43  Traffic_Calming        100000 non-null  bool   \n",
      " 44  Traffic_Signal         100000 non-null  bool   \n",
      " 45  Turning_Loop           100000 non-null  bool   \n",
      " 46  Sunrise_Sunset         99997 non-null   object \n",
      " 47  Civil_Twilight         99997 non-null   object \n",
      " 48  Nautical_Twilight      99997 non-null   object \n",
      " 49  Astronomical_Twilight  99997 non-null   object \n",
      "dtypes: bool(13), float64(14), int64(2), object(21)\n",
      "memory usage: 29.5+ MB\n"
     ]
    }
   ],
   "source": [
    "accident.info()"
   ]
  },
  {
   "cell_type": "code",
   "execution_count": 687,
   "metadata": {},
   "outputs": [
    {
     "data": {
      "text/html": [
       "<div>\n",
       "<style scoped>\n",
       "    .dataframe tbody tr th:only-of-type {\n",
       "        vertical-align: middle;\n",
       "    }\n",
       "\n",
       "    .dataframe tbody tr th {\n",
       "        vertical-align: top;\n",
       "    }\n",
       "\n",
       "    .dataframe thead th {\n",
       "        text-align: right;\n",
       "    }\n",
       "</style>\n",
       "<table border=\"1\" class=\"dataframe\">\n",
       "  <thead>\n",
       "    <tr style=\"text-align: right;\">\n",
       "      <th></th>\n",
       "      <th>Unnamed: 0</th>\n",
       "      <th>ID</th>\n",
       "      <th>Source</th>\n",
       "      <th>TMC</th>\n",
       "      <th>Severity</th>\n",
       "      <th>Start_Time</th>\n",
       "      <th>End_Time</th>\n",
       "      <th>Start_Lat</th>\n",
       "      <th>Start_Lng</th>\n",
       "      <th>End_Lat</th>\n",
       "      <th>...</th>\n",
       "      <th>Roundabout</th>\n",
       "      <th>Station</th>\n",
       "      <th>Stop</th>\n",
       "      <th>Traffic_Calming</th>\n",
       "      <th>Traffic_Signal</th>\n",
       "      <th>Turning_Loop</th>\n",
       "      <th>Sunrise_Sunset</th>\n",
       "      <th>Civil_Twilight</th>\n",
       "      <th>Nautical_Twilight</th>\n",
       "      <th>Astronomical_Twilight</th>\n",
       "    </tr>\n",
       "  </thead>\n",
       "  <tbody>\n",
       "    <tr>\n",
       "      <th>0</th>\n",
       "      <td>1901733</td>\n",
       "      <td>A-1901773</td>\n",
       "      <td>MapQuest</td>\n",
       "      <td>201.0</td>\n",
       "      <td>3</td>\n",
       "      <td>2018-05-20 12:33:29</td>\n",
       "      <td>2018-05-20 13:03:01</td>\n",
       "      <td>30.266512</td>\n",
       "      <td>-82.753860</td>\n",
       "      <td>NaN</td>\n",
       "      <td>...</td>\n",
       "      <td>False</td>\n",
       "      <td>False</td>\n",
       "      <td>False</td>\n",
       "      <td>False</td>\n",
       "      <td>False</td>\n",
       "      <td>False</td>\n",
       "      <td>Day</td>\n",
       "      <td>Day</td>\n",
       "      <td>Day</td>\n",
       "      <td>Day</td>\n",
       "    </tr>\n",
       "    <tr>\n",
       "      <th>1</th>\n",
       "      <td>2923127</td>\n",
       "      <td>A-2923261</td>\n",
       "      <td>Bing</td>\n",
       "      <td>NaN</td>\n",
       "      <td>3</td>\n",
       "      <td>2020-04-19 01:54:45</td>\n",
       "      <td>2020-04-19 02:24:45</td>\n",
       "      <td>38.367280</td>\n",
       "      <td>-90.384540</td>\n",
       "      <td>38.36728</td>\n",
       "      <td>...</td>\n",
       "      <td>False</td>\n",
       "      <td>False</td>\n",
       "      <td>False</td>\n",
       "      <td>False</td>\n",
       "      <td>False</td>\n",
       "      <td>False</td>\n",
       "      <td>Night</td>\n",
       "      <td>Night</td>\n",
       "      <td>Night</td>\n",
       "      <td>Night</td>\n",
       "    </tr>\n",
       "    <tr>\n",
       "      <th>2</th>\n",
       "      <td>323307</td>\n",
       "      <td>A-323310</td>\n",
       "      <td>MapQuest</td>\n",
       "      <td>201.0</td>\n",
       "      <td>2</td>\n",
       "      <td>2017-02-08 12:29:23</td>\n",
       "      <td>2017-02-08 12:59:01</td>\n",
       "      <td>34.000233</td>\n",
       "      <td>-84.067162</td>\n",
       "      <td>NaN</td>\n",
       "      <td>...</td>\n",
       "      <td>False</td>\n",
       "      <td>False</td>\n",
       "      <td>False</td>\n",
       "      <td>False</td>\n",
       "      <td>False</td>\n",
       "      <td>False</td>\n",
       "      <td>Day</td>\n",
       "      <td>Day</td>\n",
       "      <td>Day</td>\n",
       "      <td>Day</td>\n",
       "    </tr>\n",
       "    <tr>\n",
       "      <th>3</th>\n",
       "      <td>820712</td>\n",
       "      <td>A-820738</td>\n",
       "      <td>MapQuest</td>\n",
       "      <td>201.0</td>\n",
       "      <td>2</td>\n",
       "      <td>2019-10-15 09:28:51</td>\n",
       "      <td>2019-10-15 10:28:40</td>\n",
       "      <td>35.895634</td>\n",
       "      <td>-78.616295</td>\n",
       "      <td>NaN</td>\n",
       "      <td>...</td>\n",
       "      <td>False</td>\n",
       "      <td>False</td>\n",
       "      <td>False</td>\n",
       "      <td>False</td>\n",
       "      <td>False</td>\n",
       "      <td>False</td>\n",
       "      <td>Day</td>\n",
       "      <td>Day</td>\n",
       "      <td>Day</td>\n",
       "      <td>Day</td>\n",
       "    </tr>\n",
       "    <tr>\n",
       "      <th>4</th>\n",
       "      <td>2084795</td>\n",
       "      <td>A-2084835</td>\n",
       "      <td>MapQuest</td>\n",
       "      <td>201.0</td>\n",
       "      <td>2</td>\n",
       "      <td>2018-02-18 11:16:29</td>\n",
       "      <td>2018-02-18 11:45:23</td>\n",
       "      <td>36.679970</td>\n",
       "      <td>-78.176910</td>\n",
       "      <td>NaN</td>\n",
       "      <td>...</td>\n",
       "      <td>False</td>\n",
       "      <td>False</td>\n",
       "      <td>False</td>\n",
       "      <td>False</td>\n",
       "      <td>False</td>\n",
       "      <td>False</td>\n",
       "      <td>Day</td>\n",
       "      <td>Day</td>\n",
       "      <td>Day</td>\n",
       "      <td>Day</td>\n",
       "    </tr>\n",
       "  </tbody>\n",
       "</table>\n",
       "<p>5 rows × 50 columns</p>\n",
       "</div>"
      ],
      "text/plain": [
       "   Unnamed: 0         ID    Source    TMC  Severity           Start_Time  \\\n",
       "0     1901733  A-1901773  MapQuest  201.0         3  2018-05-20 12:33:29   \n",
       "1     2923127  A-2923261      Bing    NaN         3  2020-04-19 01:54:45   \n",
       "2      323307   A-323310  MapQuest  201.0         2  2017-02-08 12:29:23   \n",
       "3      820712   A-820738  MapQuest  201.0         2  2019-10-15 09:28:51   \n",
       "4     2084795  A-2084835  MapQuest  201.0         2  2018-02-18 11:16:29   \n",
       "\n",
       "              End_Time  Start_Lat  Start_Lng   End_Lat  ...  Roundabout  \\\n",
       "0  2018-05-20 13:03:01  30.266512 -82.753860       NaN  ...       False   \n",
       "1  2020-04-19 02:24:45  38.367280 -90.384540  38.36728  ...       False   \n",
       "2  2017-02-08 12:59:01  34.000233 -84.067162       NaN  ...       False   \n",
       "3  2019-10-15 10:28:40  35.895634 -78.616295       NaN  ...       False   \n",
       "4  2018-02-18 11:45:23  36.679970 -78.176910       NaN  ...       False   \n",
       "\n",
       "   Station   Stop  Traffic_Calming Traffic_Signal Turning_Loop Sunrise_Sunset  \\\n",
       "0    False  False            False          False        False            Day   \n",
       "1    False  False            False          False        False          Night   \n",
       "2    False  False            False          False        False            Day   \n",
       "3    False  False            False          False        False            Day   \n",
       "4    False  False            False          False        False            Day   \n",
       "\n",
       "  Civil_Twilight Nautical_Twilight Astronomical_Twilight  \n",
       "0            Day               Day                   Day  \n",
       "1          Night             Night                 Night  \n",
       "2            Day               Day                   Day  \n",
       "3            Day               Day                   Day  \n",
       "4            Day               Day                   Day  \n",
       "\n",
       "[5 rows x 50 columns]"
      ]
     },
     "execution_count": 687,
     "metadata": {},
     "output_type": "execute_result"
    }
   ],
   "source": [
    "accident.head()"
   ]
  },
  {
   "cell_type": "markdown",
   "metadata": {},
   "source": [
    "## Feature Engineering"
   ]
  },
  {
   "cell_type": "code",
   "execution_count": 688,
   "metadata": {},
   "outputs": [],
   "source": [
    "# On supprime les colonnes qui nous intéresse pas\n",
    "\n",
    "accident = accident.drop(['ID'],axis=1)\n",
    "accident = accident.drop(['Start_Lat'],axis=1)\n",
    "accident = accident.drop(['Start_Lng'],axis=1)\n",
    "accident = accident.drop(['End_Lat'],axis=1)\n",
    "accident = accident.drop(['End_Lng'],axis=1)\n",
    "accident = accident.drop(['Distance(mi)'],axis=1)\n",
    "accident = accident.drop(['Description'],axis=1)\n",
    "accident = accident.drop(['Number'],axis=1)\n",
    "accident = accident.drop(['Street'],axis=1)\n",
    "accident = accident.drop(['Side'],axis=1)\n",
    "accident = accident.drop(['Zipcode'],axis=1)\n",
    "accident = accident.drop(['Country'],axis=1)\n",
    "accident = accident.drop(['Timezone'],axis=1)\n",
    "accident = accident.drop(['Weather_Timestamp'],axis=1)\n",
    "accident = accident.drop(['Wind_Direction'],axis=1)\n",
    "accident = accident.drop(['Wind_Chill(F)'],axis=1)"
   ]
  },
  {
   "cell_type": "code",
   "execution_count": 689,
   "metadata": {
    "scrolled": true
   },
   "outputs": [
    {
     "name": "stdout",
     "output_type": "stream",
     "text": [
      "<class 'pandas.core.frame.DataFrame'>\n",
      "Int64Index: 25482 entries, 3 to 99994\n",
      "Data columns (total 34 columns):\n",
      " #   Column                 Non-Null Count  Dtype  \n",
      "---  ------                 --------------  -----  \n",
      " 0   Unnamed: 0             25482 non-null  int64  \n",
      " 1   Source                 25482 non-null  object \n",
      " 2   TMC                    25482 non-null  float64\n",
      " 3   Severity               25482 non-null  int64  \n",
      " 4   Start_Time             25482 non-null  object \n",
      " 5   End_Time               25482 non-null  object \n",
      " 6   City                   25482 non-null  object \n",
      " 7   County                 25482 non-null  object \n",
      " 8   State                  25482 non-null  object \n",
      " 9   Airport_Code           25482 non-null  object \n",
      " 10  Temperature(F)         25482 non-null  float64\n",
      " 11  Humidity(%)            25482 non-null  float64\n",
      " 12  Pressure(in)           25482 non-null  float64\n",
      " 13  Visibility(mi)         25482 non-null  float64\n",
      " 14  Wind_Speed(mph)        25482 non-null  float64\n",
      " 15  Precipitation(in)      25482 non-null  float64\n",
      " 16  Weather_Condition      25482 non-null  object \n",
      " 17  Amenity                25482 non-null  bool   \n",
      " 18  Bump                   25482 non-null  bool   \n",
      " 19  Crossing               25482 non-null  bool   \n",
      " 20  Give_Way               25482 non-null  bool   \n",
      " 21  Junction               25482 non-null  bool   \n",
      " 22  No_Exit                25482 non-null  bool   \n",
      " 23  Railway                25482 non-null  bool   \n",
      " 24  Roundabout             25482 non-null  bool   \n",
      " 25  Station                25482 non-null  bool   \n",
      " 26  Stop                   25482 non-null  bool   \n",
      " 27  Traffic_Calming        25482 non-null  bool   \n",
      " 28  Traffic_Signal         25482 non-null  bool   \n",
      " 29  Turning_Loop           25482 non-null  bool   \n",
      " 30  Sunrise_Sunset         25482 non-null  object \n",
      " 31  Civil_Twilight         25482 non-null  object \n",
      " 32  Nautical_Twilight      25482 non-null  object \n",
      " 33  Astronomical_Twilight  25482 non-null  object \n",
      "dtypes: bool(13), float64(7), int64(2), object(12)\n",
      "memory usage: 4.6+ MB\n"
     ]
    }
   ],
   "source": [
    "accident = accident.dropna(how='any')\n",
    "accident.info()"
   ]
  },
  {
   "cell_type": "code",
   "execution_count": 690,
   "metadata": {},
   "outputs": [],
   "source": [
    "Y = accident['Severity'].astype('category').cat.codes # La target va être la gravité\n",
    "X = accident.drop('Severity', axis='columns') # En fonction des critère environnant, on va essayer de prédir le niveau de gravité"
   ]
  },
  {
   "cell_type": "code",
   "execution_count": 691,
   "metadata": {},
   "outputs": [],
   "source": [
    "# X = X.drop(X[X.Sunrise_Sunset == -1].index)"
   ]
  },
  {
   "cell_type": "code",
   "execution_count": 692,
   "metadata": {},
   "outputs": [
    {
     "name": "stdout",
     "output_type": "stream",
     "text": [
      "<class 'pandas.core.frame.DataFrame'>\n",
      "Int64Index: 25482 entries, 3 to 99994\n",
      "Data columns (total 33 columns):\n",
      " #   Column                 Non-Null Count  Dtype  \n",
      "---  ------                 --------------  -----  \n",
      " 0   Unnamed: 0             25482 non-null  int64  \n",
      " 1   Source                 25482 non-null  object \n",
      " 2   TMC                    25482 non-null  float64\n",
      " 3   Start_Time             25482 non-null  object \n",
      " 4   End_Time               25482 non-null  object \n",
      " 5   City                   25482 non-null  object \n",
      " 6   County                 25482 non-null  object \n",
      " 7   State                  25482 non-null  object \n",
      " 8   Airport_Code           25482 non-null  object \n",
      " 9   Temperature(F)         25482 non-null  float64\n",
      " 10  Humidity(%)            25482 non-null  float64\n",
      " 11  Pressure(in)           25482 non-null  float64\n",
      " 12  Visibility(mi)         25482 non-null  float64\n",
      " 13  Wind_Speed(mph)        25482 non-null  float64\n",
      " 14  Precipitation(in)      25482 non-null  float64\n",
      " 15  Weather_Condition      25482 non-null  object \n",
      " 16  Amenity                25482 non-null  bool   \n",
      " 17  Bump                   25482 non-null  bool   \n",
      " 18  Crossing               25482 non-null  bool   \n",
      " 19  Give_Way               25482 non-null  bool   \n",
      " 20  Junction               25482 non-null  bool   \n",
      " 21  No_Exit                25482 non-null  bool   \n",
      " 22  Railway                25482 non-null  bool   \n",
      " 23  Roundabout             25482 non-null  bool   \n",
      " 24  Station                25482 non-null  bool   \n",
      " 25  Stop                   25482 non-null  bool   \n",
      " 26  Traffic_Calming        25482 non-null  bool   \n",
      " 27  Traffic_Signal         25482 non-null  bool   \n",
      " 28  Turning_Loop           25482 non-null  bool   \n",
      " 29  Sunrise_Sunset         25482 non-null  object \n",
      " 30  Civil_Twilight         25482 non-null  object \n",
      " 31  Nautical_Twilight      25482 non-null  object \n",
      " 32  Astronomical_Twilight  25482 non-null  object \n",
      "dtypes: bool(13), float64(7), int64(1), object(12)\n",
      "memory usage: 4.4+ MB\n"
     ]
    }
   ],
   "source": [
    "# X.Traffic_Calming.unique()\n",
    "X.info()"
   ]
  },
  {
   "cell_type": "code",
   "execution_count": 693,
   "metadata": {},
   "outputs": [],
   "source": [
    "# On convertie nos column date de type object en type date\n",
    "\n",
    "X['Start_Time'] = pd.to_datetime(X['Start_Time'], \n",
    " format = '%Y-%m-%d %H:%M:%S', \n",
    " errors = 'coerce')\n",
    "X['End_Time'] = pd.to_datetime(X['End_Time'], \n",
    " format = '%Y-%m-%d %H:%M:%S', \n",
    " errors = 'coerce')"
   ]
  },
  {
   "cell_type": "code",
   "execution_count": 694,
   "metadata": {},
   "outputs": [],
   "source": [
    "# On créé une colonne pour chaque élément de notre date\n",
    "\n",
    "X['Start_Time_year'] = X['Start_Time'].dt.year\n",
    "X['Start_Time_month'] = X['Start_Time'].dt.month\n",
    "X['Start_Time_week'] = X['Start_Time'].dt.week\n",
    "X['Start_Time_day'] = X['Start_Time'].dt.day\n",
    "X['Start_Time_hour'] = X['Start_Time'].dt.hour\n",
    "X['Start_Time_minute'] = X['Start_Time'].dt.minute\n",
    "X['Start_Time_dayofweek'] = X['Start_Time'].dt.dayofweek"
   ]
  },
  {
   "cell_type": "code",
   "execution_count": 695,
   "metadata": {},
   "outputs": [],
   "source": [
    "# On créé une colonne pour chaque élément de notre date\n",
    "\n",
    "X['End_Time_year'] = X['End_Time'].dt.year\n",
    "X['End_Time_month'] = X['End_Time'].dt.month\n",
    "X['End_Time_week'] = X['End_Time'].dt.week\n",
    "X['End_Time_day'] = X['End_Time'].dt.day\n",
    "X['End_Time_hour'] = X['End_Time'].dt.hour\n",
    "X['End_Time_minute'] = X['End_Time'].dt.minute\n",
    "X['End_Time_dayofweek'] = X['End_Time'].dt.dayofweek"
   ]
  },
  {
   "cell_type": "code",
   "execution_count": 696,
   "metadata": {},
   "outputs": [],
   "source": [
    "X = X.drop(['Start_Time'],axis=1)\n",
    "X = X.drop(['End_Time'],axis=1)"
   ]
  },
  {
   "cell_type": "code",
   "execution_count": 697,
   "metadata": {
    "scrolled": true
   },
   "outputs": [],
   "source": [
    "X['Source'] = LabelEncoder().fit_transform(X['Source'])\n",
    "\n",
    "X.TMC = X['TMC'].astype('category').cat.codes\n",
    "\n",
    "X.City = X['City'].astype('category').cat.codes\n",
    "\n",
    "X.Airport_Code = X['State'].astype('category').cat.codes\n",
    "\n",
    "X.Airport_Code = X['County'].astype('category').cat.codes\n",
    "\n",
    "X.Airport_Code = X['Airport_Code'].astype('category').cat.codes\n",
    "\n",
    "X.Sunrise_Sunset = X['Sunrise_Sunset'].astype('category').cat.codes \n",
    "\n",
    "X.Weather_Condition = X['Weather_Condition'].astype('category').cat.codes\n",
    "\n",
    "X.Nautical_Twilight = X['Nautical_Twilight'].astype('category').cat.codes\n",
    "\n",
    "X.Astronomical_Twilight = X['Astronomical_Twilight'].astype('category').cat.codes\n",
    "\n",
    "X.Civil_Twilight = X['Civil_Twilight'].astype('category').cat.codes\n",
    "\n",
    "X['Amenity'] = LabelEncoder().fit_transform(X['Amenity'])\n",
    "X['Bump'] = LabelEncoder().fit_transform(X['Bump'])\n",
    "X['Crossing'] = LabelEncoder().fit_transform(X['Crossing'])\n",
    "X['Give_Way'] = LabelEncoder().fit_transform(X['Give_Way'])\n",
    "X['Junction'] = LabelEncoder().fit_transform(X['Junction'])\n",
    "X['No_Exit'] = LabelEncoder().fit_transform(X['No_Exit'])\n",
    "X['Railway'] = LabelEncoder().fit_transform(X['Railway'])\n",
    "X['Roundabout'] = LabelEncoder().fit_transform(X['Roundabout'])\n",
    "X['Station'] = LabelEncoder().fit_transform(X['Station'])\n",
    "X['Stop'] = LabelEncoder().fit_transform(X['Stop'])\n",
    "X['Traffic_Calming'] = LabelEncoder().fit_transform(X['Traffic_Calming'])\n",
    "X['Traffic_Signal'] = LabelEncoder().fit_transform(X['Traffic_Signal'])\n",
    "X['Turning_Loop'] = LabelEncoder().fit_transform(X['Turning_Loop'])"
   ]
  },
  {
   "cell_type": "code",
   "execution_count": 698,
   "metadata": {},
   "outputs": [],
   "source": [
    "X = X.dropna(how='any')"
   ]
  },
  {
   "cell_type": "code",
   "execution_count": 699,
   "metadata": {
    "scrolled": true
   },
   "outputs": [
    {
     "data": {
      "text/plain": [
       "((25482, 45), (25482,))"
      ]
     },
     "execution_count": 699,
     "metadata": {},
     "output_type": "execute_result"
    }
   ],
   "source": [
    "X.shape, Y.shape"
   ]
  },
  {
   "cell_type": "markdown",
   "metadata": {},
   "source": [
    "## Entrainer un model"
   ]
  },
  {
   "cell_type": "code",
   "execution_count": 624,
   "metadata": {},
   "outputs": [],
   "source": [
    "clf = RandomForestClassifier(random_state=0)"
   ]
  },
  {
   "cell_type": "code",
   "execution_count": 625,
   "metadata": {},
   "outputs": [],
   "source": [
    "X_tr, X_te, Y_tr, Y_te = TTS(X, Y,              # features, target\n",
    "                            stratify = Y,       # Va prendre une proportion aux hasard de valeurs différentes histoire de ne pas avoir des cas où l'on a que des même valeur\n",
    "                            random_state=777,   # Sert à fixer le harsard pour ne pas avoir des résultat différents à chaque tests.\n",
    "                            train_size=0.8)     # 50% de X_train et Y_train et 50% de Y_test et Y_test"
   ]
  },
  {
   "cell_type": "code",
   "execution_count": 626,
   "metadata": {},
   "outputs": [
    {
     "data": {
      "text/plain": [
       "RandomForestClassifier(random_state=0)"
      ]
     },
     "execution_count": 626,
     "metadata": {},
     "output_type": "execute_result"
    }
   ],
   "source": [
    "clf.fit(X_tr, Y_tr)"
   ]
  },
  {
   "cell_type": "code",
   "execution_count": 627,
   "metadata": {},
   "outputs": [
    {
     "data": {
      "text/plain": [
       "array([2, 1, 1, ..., 1, 1, 1], dtype=int8)"
      ]
     },
     "execution_count": 627,
     "metadata": {},
     "output_type": "execute_result"
    }
   ],
   "source": [
    "clf.predict(X_te)"
   ]
  },
  {
   "cell_type": "code",
   "execution_count": 628,
   "metadata": {},
   "outputs": [
    {
     "data": {
      "text/plain": [
       "array([[0.  , 0.33, 0.66, 0.01],\n",
       "       [0.  , 0.59, 0.35, 0.06],\n",
       "       [0.  , 0.69, 0.31, 0.  ],\n",
       "       ...,\n",
       "       [0.  , 0.56, 0.43, 0.01],\n",
       "       [0.  , 0.91, 0.09, 0.  ],\n",
       "       [0.  , 0.93, 0.06, 0.01]])"
      ]
     },
     "execution_count": 628,
     "metadata": {},
     "output_type": "execute_result"
    }
   ],
   "source": [
    "clf.predict_proba(X_te)"
   ]
  },
  {
   "cell_type": "code",
   "execution_count": 629,
   "metadata": {},
   "outputs": [],
   "source": [
    "predictions = clf.predict(X_te)"
   ]
  },
  {
   "cell_type": "code",
   "execution_count": 631,
   "metadata": {},
   "outputs": [
    {
     "data": {
      "text/plain": [
       "('TEST ACCURACY: ', 0.7286639199529135)"
      ]
     },
     "execution_count": 631,
     "metadata": {},
     "output_type": "execute_result"
    }
   ],
   "source": [
    "# On cherche à prédir X_tr par rapport à Y_tr\n",
    "\n",
    "knn = KNN(n_neighbors=3)\n",
    "knn.fit(X_tr, Y_tr)\n",
    "train_preds = knn.predict(X_te)\n",
    "\"TEST ACCURACY: \", accuracy(predictions, Y_te)"
   ]
  },
  {
   "cell_type": "code",
   "execution_count": 632,
   "metadata": {},
   "outputs": [
    {
     "data": {
      "text/plain": [
       "('TRAIN ACCURACY: ', 0.789747363257297)"
      ]
     },
     "execution_count": 632,
     "metadata": {},
     "output_type": "execute_result"
    }
   ],
   "source": [
    "train_preds = knn.predict(X_tr)\n",
    "\"TRAIN ACCURACY: \", accuracy(train_preds, Y_tr)"
   ]
  },
  {
   "cell_type": "markdown",
   "metadata": {},
   "source": [
    "## Confusion matrix"
   ]
  },
  {
   "cell_type": "code",
   "execution_count": 633,
   "metadata": {},
   "outputs": [
    {
     "data": {
      "text/plain": [
       "((5097, 44), (5097,), (20385, 44), (20385,))"
      ]
     },
     "execution_count": 633,
     "metadata": {},
     "output_type": "execute_result"
    }
   ],
   "source": [
    "X_te.shape, Y_te.shape, X_tr.shape, Y_tr.shape"
   ]
  },
  {
   "cell_type": "code",
   "execution_count": 643,
   "metadata": {},
   "outputs": [],
   "source": [
    "# Matrice de confusion \n",
    "#\n",
    "# la matrice de confusion est une matrice qui mesure la qualité d'un système de classification. \n",
    "# Chaque ligne correspond à une classe réelle, chaque colonne correspond à une classe estimée. \n",
    "\n",
    "(train_preds, Y_tr)\n",
    "(predictions, Y_te)\n",
    "\n",
    "from sklearn.metrics import confusion_matrix\n",
    "\n",
    "labels = range(4)                                             # Equivaut aux valeurs que peut retourner la target\n",
    "cm_train = confusion_matrix(train_preds, Y_tr, labels=labels)\n",
    "cm_test = confusion_matrix(predictions, Y_te, labels=labels)"
   ]
  },
  {
   "cell_type": "code",
   "execution_count": 644,
   "metadata": {},
   "outputs": [
    {
     "data": {
      "text/plain": [
       "array([1, 2, 0, 3], dtype=int8)"
      ]
     },
     "execution_count": 644,
     "metadata": {},
     "output_type": "execute_result"
    }
   ],
   "source": [
    "Y.unique()"
   ]
  },
  {
   "cell_type": "code",
   "execution_count": 645,
   "metadata": {},
   "outputs": [
    {
     "data": {
      "text/plain": [
       "range(0, 4)"
      ]
     },
     "execution_count": 645,
     "metadata": {},
     "output_type": "execute_result"
    }
   ],
   "source": [
    "labels"
   ]
  },
  {
   "cell_type": "code",
   "execution_count": 646,
   "metadata": {},
   "outputs": [
    {
     "data": {
      "image/png": "[encoded data removed]",
      "text/plain": [
       "<Figure size 432x288 with 2 Axes>"
      ]
     },
     "metadata": {
      "needs_background": "light"
     },
     "output_type": "display_data"
    }
   ],
   "source": [
    "show_cm(cm_train, labels)"
   ]
  },
  {
   "cell_type": "code",
   "execution_count": 647,
   "metadata": {},
   "outputs": [
    {
     "data": {
      "text/plain": [
       "array([[    2,     3,     1,     0],\n",
       "       [    2, 12692,  2844,   118],\n",
       "       [    1,  1312,  3403,     4],\n",
       "       [    0,     1,     0,     2]], dtype=int64)"
      ]
     },
     "execution_count": 647,
     "metadata": {},
     "output_type": "execute_result"
    }
   ],
   "source": [
    "cm_train"
   ]
  },
  {
   "cell_type": "code",
   "execution_count": 648,
   "metadata": {},
   "outputs": [
    {
     "data": {
      "image/png": "[encoded data removed]",
      "text/plain": [
       "<Figure size 432x288 with 2 Axes>"
      ]
     },
     "metadata": {
      "needs_background": "light"
     },
     "output_type": "display_data"
    }
   ],
   "source": [
    "show_cm(cm_test, labels)"
   ]
  },
  {
   "cell_type": "code",
   "execution_count": 649,
   "metadata": {},
   "outputs": [
    {
     "data": {
      "text/plain": [
       "array([[   0,    0,    0,    0],\n",
       "       [   1, 3144,  992,   20],\n",
       "       [   0,  359,  570,   11],\n",
       "       [   0,    0,    0,    0]], dtype=int64)"
      ]
     },
     "execution_count": 649,
     "metadata": {},
     "output_type": "execute_result"
    }
   ],
   "source": [
    "cm_test"
   ]
  },
  {
   "cell_type": "markdown",
   "metadata": {},
   "source": [
    "## Feature Importance"
   ]
  },
  {
   "cell_type": "code",
   "execution_count": 650,
   "metadata": {},
   "outputs": [
    {
     "data": {
      "text/plain": [
       "array([5.57001874e-02, 4.08830936e-03, 4.84677370e-02, 6.00441632e-02,\n",
       "       0.00000000e+00, 5.82057494e-02, 5.05349390e-02, 4.81056565e-02,\n",
       "       5.82638291e-02, 1.89607077e-02, 3.97492769e-02, 1.42669911e-02,\n",
       "       2.74540772e-02, 9.69903485e-04, 8.88179747e-06, 1.37196512e-02,\n",
       "       1.72276154e-04, 9.25355786e-03, 1.76305998e-04, 6.64342664e-04,\n",
       "       0.00000000e+00, 1.60298825e-03, 3.64563548e-03, 1.90448805e-05,\n",
       "       4.46414535e-02, 0.00000000e+00, 5.04258957e-03, 4.16190792e-03,\n",
       "       3.58692842e-03, 3.42764851e-03, 8.70730593e-03, 1.82309885e-02,\n",
       "       3.16634508e-02, 3.66250350e-02, 3.70746646e-02, 5.06306734e-02,\n",
       "       2.85563066e-02, 8.56427651e-03, 1.83579297e-02, 3.17048445e-02,\n",
       "       3.67400346e-02, 3.90267699e-02, 4.99589284e-02, 2.92240522e-02])"
      ]
     },
     "execution_count": 650,
     "metadata": {},
     "output_type": "execute_result"
    }
   ],
   "source": [
    "# L'importance permet de connaitre l'importance d'une colonne\n",
    "# par rapport aux autres colonnes.\n",
    "\n",
    "clf.fit(X_tr, Y_tr)                       # On re-train nos valeurs\n",
    "importance = clf.feature_importances_   \n",
    "importance"
   ]
  },
  {
   "cell_type": "code",
   "execution_count": 667,
   "metadata": {},
   "outputs": [],
   "source": [
    "# On renomme nos colonnes\n",
    "\n",
    "name = X_tr.columns.tolist()\n",
    "colNumberList = list(range(len(X_tr.columns)))\n",
    "name = np.char.replace(name, 'lower_bound_ip_address', 'lower_bound_ip_addr')\n",
    "name = np.char.replace(name, 'upper_bound_ip_address', 'upper_bound_ip_addr')"
   ]
  },
  {
   "cell_type": "code",
   "execution_count": 669,
   "metadata": {},
   "outputs": [
    {
     "name": "stdout",
     "output_type": "stream",
     "text": [
      "Features:\n",
      "\n",
      "0  Unnamed: 0: (6.004416)\n",
      "1  Source: (5.826383)\n",
      "2  TMC: (5.820575)\n",
      "3  City: (5.570019)\n",
      "4  Country: (5.063067)\n",
      "5  Airport_Code: (5.053494)\n",
      "6  Temperature(F): (4.995893)\n",
      "7  Humidity(%): (4.846774)\n",
      "8  Pressure(in): (4.810566)\n",
      "9  Visibility(mi): (4.464145)\n",
      "10  Wind_Speed(mph): (3.974928)\n",
      "11  Precipitation(in): (3.902677)\n",
      "12  Weather_Condition: (3.707466)\n",
      "13  Amenity: (3.674003)\n",
      "14  Bump: (3.662503)\n",
      "15  Crossing: (3.170484)\n",
      "16  Give_Way: (3.166345)\n",
      "17  Junction: (2.922405)\n",
      "18  No_Exit: (2.855631)\n",
      "19  Railway: (2.745408)\n",
      "20  Roundabout: (1.896071)\n",
      "21  Station: (1.835793)\n",
      "22  Stop: (1.823099)\n",
      "23  Traffic_Calming: (1.426699)\n",
      "24  Traffic_Signal: (1.371965)\n",
      "25  Turning_Loop: (0.925356)\n",
      "26  Sunrise_Sunset: (0.870731)\n",
      "27  Civil_Twilight: (0.856428)\n",
      "28  Nautical_Twilight: (0.504259)\n",
      "29  Astronomical_Twilight: (0.416191)\n",
      "30  Start_Time_year: (0.408831)\n",
      "31  Start_Time_month: (0.364564)\n",
      "32  Start_Time_week: (0.358693)\n",
      "33  Start_Time_day: (0.342765)\n",
      "34  Start_Time_hour: (0.160299)\n",
      "35  Start_Time_minute: (0.096990)\n",
      "36  Start_Time_dayofweek: (0.066434)\n",
      "37  End_Time_year: (0.017631)\n",
      "38  End_Time_month: (0.017228)\n",
      "39  End_Time_week: (0.001904)\n",
      "40  End_Time_day: (0.000888)\n",
      "41  End_Time_hour: (0.000000)\n",
      "42  End_Time_minute: (0.000000)\n",
      "43  End_Time_dayofweek: (0.000000)\n"
     ]
    },
    {
     "data": {
      "text/plain": [
       "<Figure size 432x288 with 0 Axes>"
      ]
     },
     "metadata": {},
     "output_type": "display_data"
    },
    {
     "data": {
      "image/png": "[encoded data removed]",
      "text/plain": [
       "<Figure size 1656x360 with 1 Axes>"
      ]
     },
     "metadata": {
      "needs_background": "light"
     },
     "output_type": "display_data"
    }
   ],
   "source": [
    "# On souhaite Afficher dans un graphique notre importance\n",
    "\n",
    "std = np.std([tree.feature_importances_ for tree in clf.estimators_],\n",
    "             axis=0)\n",
    "indices = np.argsort(importance)[::-1]\n",
    "\n",
    "# Affichage de nos features avec leur pourcentage\n",
    "print(\"Features:\")\n",
    "print()\n",
    "\n",
    "for f in range(X.shape[1]):\n",
    "    print(\"%d  %s: (%f)\" % (f, X_tr.columns[f], importance[indices[f]]*100))\n",
    "\n",
    "# Affichage de notre Features importance\n",
    "plt.figure()\n",
    "plt.subplots(figsize=(23,5))                                              #Taille de la figure\n",
    "plt.title(\"Feature importances\")\n",
    "plt.xlabel('Features')\n",
    "plt.ylabel('Importance')\n",
    "plt.bar(colNumberList, importance[indices]*100, yerr=std[indices], align=\"center\") # Valeur en X, Hauteur, Largeur, alignement\n",
    "plt.xlim([-1, X.shape[1]])                                                # Limite de l'axe X\n",
    "plt.show()"
   ]
  },
  {
   "cell_type": "markdown",
   "metadata": {},
   "source": [
    "## Affichage du nombre d'accident en fonction"
   ]
  },
  {
   "cell_type": "code",
   "execution_count": null,
   "metadata": {},
   "outputs": [],
   "source": [
    "# L'objectif est d'afficher le Nombre d'attaque en fonction des pays\n",
    "# On affichera uniquement les 10 pays les plus attaqué\n",
    "\n",
    "accident_wo_class0 = accident[accident['class'] == 1]              # On s'interessera qu'au fraude qui on eu lieu\n",
    "city_by_class = pd.DataFrame()                         # On crée un nouveau dataframe\n",
    "country_by_class['country'] = fd_ip['country']            # On ajoute à notre dataset la colonne country\n",
    "country_by_class['class'] = fd_ip['class']                # On ajoute à notre dataset la colonne classe\n",
    "total = country_by_class.groupby(by=\"country\",as_index=False).sum().sort_values(by='class', ascending=False) # On groupe tout nos country en en fonction de la somme de nos class par ordre décroissant\n",
    "\n",
    "total.head(10)                                            # On affiche le total\n"
   ]
  },
  {
   "cell_type": "code",
   "execution_count": null,
   "metadata": {},
   "outputs": [],
   "source": [
    "df = total.head(10)\n",
    "\n",
    "sns.barplot(df['class'], df['country']).set_title(\"Nombre de fraude en fonction des pays\");"
   ]
  },
  {
   "cell_type": "markdown",
   "metadata": {},
   "source": [
    "## Affichage des accidents en fonction des états"
   ]
  },
  {
   "cell_type": "code",
   "execution_count": 701,
   "metadata": {},
   "outputs": [
    {
     "data": {
      "text/plain": [
       "<seaborn.axisgrid.FacetGrid at 0x1f77c755e50>"
      ]
     },
     "execution_count": 701,
     "metadata": {},
     "output_type": "execute_result"
    },
    {
     "data": {
      "image/png": "[encoded data removed]",
      "text/plain": [
       "<Figure size 1080x360 with 1 Axes>"
      ]
     },
     "metadata": {
      "needs_background": "light"
     },
     "output_type": "display_data"
    }
   ],
   "source": [
    "sns.catplot(x='State', kind='count',data=accident, height=5, aspect=3) "
   ]
  },
  {
   "cell_type": "markdown",
   "metadata": {},
   "source": [
    "Nous pouvons voir dans le diagramme ci-dessus que certains états on beaucoup plus d'accidents que d'autres. En l'occurence:\n",
    "<ul>\n",
    "    <li>La Californie (CA) avec 3458 accidents</li>\n",
    "    <li>Le Texas (TX) avec 2557 accidents</li>\n",
    "    <li>La Floride (FL) avec 2010 accidents</li>\n",
    "    <li>La Caroline du Sud (SC) avec 2006 accidents</li>\n",
    "    <li>La Caroline du Nord (NC) avec 1555 accidents</li>\n",
    "    <li>New York (NY) avec 1507 accidents</li>\n",
    "</ul>\n",
    "\n",
    "ont beaucoup plus d'accidents que la pluparts des autres pays. Nous allons alors essayer de nous intérésser aux raisons de cela."
   ]
  },
  {
   "cell_type": "code",
   "execution_count": 710,
   "metadata": {},
   "outputs": [
    {
     "data": {
      "text/plain": [
       "<bound method DataFrame.count of        Unnamed: 0    Source    TMC  Severity           Start_Time  \\\n",
       "3          820712  MapQuest  201.0         2  2019-10-15 09:28:51   \n",
       "71        1208755  MapQuest  201.0         2  2019-04-02 08:10:53   \n",
       "100        707546  MapQuest  201.0         2  2020-02-11 08:25:44   \n",
       "113       1611927  MapQuest  201.0         3  2018-10-26 14:11:46   \n",
       "149        862332  MapQuest  201.0         2  2019-11-04 07:34:55   \n",
       "...           ...       ...    ...       ...                  ...   \n",
       "99828     1197123  MapQuest  201.0         2  2019-05-30 11:50:29   \n",
       "99948      641876  MapQuest  201.0         2  2020-01-05 18:22:13   \n",
       "99952      949211  MapQuest  201.0         2  2019-09-27 10:40:45   \n",
       "99953      626013  MapQuest  201.0         3  2020-04-20 10:35:56   \n",
       "99967      898528  MapQuest  201.0         2  2019-11-20 07:48:55   \n",
       "\n",
       "                  End_Time           City       County State Airport_Code  \\\n",
       "3      2019-10-15 10:28:40        Raleigh         Wake    NC         KRDU   \n",
       "71     2019-04-02 09:26:00      Charlotte  Mecklenburg    NC         KCLT   \n",
       "100    2020-02-11 09:10:28      Charlotte  Mecklenburg    NC         KCLT   \n",
       "113    2018-10-26 14:41:28        Raleigh         Wake    NC         KRDU   \n",
       "149    2019-11-04 08:34:35        Raleigh         Wake    NC         KRDU   \n",
       "...                    ...            ...          ...   ...          ...   \n",
       "99828  2019-05-30 14:18:54      Charlotte  Mecklenburg    NC         KCLT   \n",
       "99948  2020-01-05 18:51:59      Charlotte  Mecklenburg    NC         KEQY   \n",
       "99952  2019-09-27 12:58:49  Holly Springs         Wake    NC         KTTA   \n",
       "99953  2020-04-20 12:20:09      Charlotte  Mecklenburg    NC         KCLT   \n",
       "99967  2019-11-20 09:20:34        Raleigh         Wake    NC         KRDU   \n",
       "\n",
       "       ...  Roundabout  Station   Stop  Traffic_Calming  Traffic_Signal  \\\n",
       "3      ...       False    False  False            False           False   \n",
       "71     ...       False    False  False            False            True   \n",
       "100    ...       False    False  False            False           False   \n",
       "113    ...       False    False  False            False           False   \n",
       "149    ...       False    False  False            False           False   \n",
       "...    ...         ...      ...    ...              ...             ...   \n",
       "99828  ...       False    False  False            False            True   \n",
       "99948  ...       False    False  False            False            True   \n",
       "99952  ...       False    False  False            False            True   \n",
       "99953  ...       False    False  False            False           False   \n",
       "99967  ...       False    False  False            False            True   \n",
       "\n",
       "       Turning_Loop Sunrise_Sunset  Civil_Twilight  Nautical_Twilight  \\\n",
       "3             False            Day             Day                Day   \n",
       "71            False            Day             Day                Day   \n",
       "100           False            Day             Day                Day   \n",
       "113           False            Day             Day                Day   \n",
       "149           False            Day             Day                Day   \n",
       "...             ...            ...             ...                ...   \n",
       "99828         False            Day             Day                Day   \n",
       "99948         False          Night           Night                Day   \n",
       "99952         False            Day             Day                Day   \n",
       "99953         False            Day             Day                Day   \n",
       "99967         False            Day             Day                Day   \n",
       "\n",
       "       Astronomical_Twilight  \n",
       "3                        Day  \n",
       "71                       Day  \n",
       "100                      Day  \n",
       "113                      Day  \n",
       "149                      Day  \n",
       "...                      ...  \n",
       "99828                    Day  \n",
       "99948                    Day  \n",
       "99952                    Day  \n",
       "99953                    Day  \n",
       "99967                    Day  \n",
       "\n",
       "[1555 rows x 34 columns]>"
      ]
     },
     "execution_count": 710,
     "metadata": {},
     "output_type": "execute_result"
    }
   ],
   "source": [
    "accident.query(\"(State == 'NC')\").count"
   ]
  },
  {
   "cell_type": "code",
   "execution_count": null,
   "metadata": {},
   "outputs": [],
   "source": []
  }
 ],
 "metadata": {
  "kernelspec": {
   "display_name": "Python 3",
   "language": "python",
   "name": "python3"
  },
  "language_info": {
   "codemirror_mode": {
    "name": "ipython",
    "version": 3
   },
   "file_extension": ".py",
   "mimetype": "text/x-python",
   "name": "python",
   "nbconvert_exporter": "python",
   "pygments_lexer": "ipython3",
   "version": "3.8.1"
  }
 },
 "nbformat": 4,
 "nbformat_minor": 4
}
