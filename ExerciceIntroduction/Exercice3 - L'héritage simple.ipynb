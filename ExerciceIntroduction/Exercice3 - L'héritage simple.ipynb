{
 "cells": [
  {
   "cell_type": "code",
   "execution_count": 76,
   "metadata": {},
   "outputs": [
    {
     "name": "stdout",
     "output_type": "stream",
     "text": [
      "\n",
      "\n",
      "Nom :Barry\n",
      "Prenom :Alpha\n",
      "Date de naissance: 8/11/1995\n",
      "Prenom :Alpha\n",
      "\n",
      "\n",
      "Nom :Barry\n",
      "Prenom :Alpha\n",
      "Date de naissance: 8/11/1995\n",
      "Prenom :Alpha\n",
      "None\n",
      "Salaire :1700 euros\n",
      "\n",
      "\n",
      "Nom :Barry\n",
      "Prenom :Alpha\n",
      "Date de naissance: 8/11/1995\n",
      "Prenom :Alpha\n",
      "None\n",
      "Salaire :1700 euros\n",
      "None\n",
      "Service :Ingenieur\n"
     ]
    }
   ],
   "source": [
    "class DateNaissance :\n",
    "    def __init__(self, jour, mois, annee) :\n",
    "        self.jour = jour\n",
    "        self.mois = mois\n",
    "        self.annee = annee\n",
    "    def ToString(self) :\n",
    "        return 'Date de naissance: ' + str(self.jour) + '/' + str(self.mois) + '/' + str(self.annee)\n",
    "        \n",
    "class Personne() :\n",
    "    def __init__(self, nom, prenom, dateNaissance) :\n",
    "        self.nom = nom\n",
    "        self.prenom = prenom\n",
    "        self.date = dateNaissance\n",
    "    def Afficher(self) :\n",
    "        print('Nom :' + self.nom)\n",
    "        print('Prenom :' + self.prenom)\n",
    "        print(self.date.ToString())\n",
    "        \n",
    "class Employe(Personne):\n",
    "    def __init__(self, personne, salaire) : \n",
    "        super().__init__(personne.nom, personne.prenom, personne.date)\n",
    "        self.salaire = salaire\n",
    "    def Afficher(self) :\n",
    "        print(super().Afficher())\n",
    "        print('Salaire :' + str(self.salaire) + ' euros')\n",
    "\n",
    "class Chef(Employe):\n",
    "    def __init__(self, employe, service) :\n",
    "        Employe.__init__(self, employe, employe.salaire)\n",
    "        self.service = service\n",
    "    def Afficher(self) :\n",
    "        print(Employe.Afficher())\n",
    "        print('Service :' + self.service)\n",
    "\n",
    "\n",
    "date = DateNaissance(8,11,1995)\n",
    "date.ToString()\n",
    "print(\"\\n\")\n",
    "personne = Personne('Barry', 'Alpha', date)\n",
    "personne.Afficher()\n",
    "print(\"\\n\")\n",
    "employe = Employe(personne, 1700)\n",
    "employe.Afficher()\n",
    "print(\"\\n\")\n",
    "employe = Chef(employe, 'Ingenieur')\n",
    "employe.Afficher()"
   ]
  },
  {
   "cell_type": "code",
   "execution_count": null,
   "metadata": {},
   "outputs": [],
   "source": []
  },
  {
   "cell_type": "code",
   "execution_count": null,
   "metadata": {},
   "outputs": [],
   "source": []
  },
  {
   "cell_type": "code",
   "execution_count": null,
   "metadata": {},
   "outputs": [],
   "source": []
  },
  {
   "cell_type": "code",
   "execution_count": 3,
   "metadata": {},
   "outputs": [
    {
     "ename": "NameError",
     "evalue": "name 'TEST' is not defined",
     "output_type": "error",
     "traceback": [
      "\u001b[1;31m---------------------------------------------------------------------------\u001b[0m",
      "\u001b[1;31mNameError\u001b[0m                                 Traceback (most recent call last)",
      "\u001b[1;32m<ipython-input-3-4c49b08e9b25>\u001b[0m in \u001b[0;36m<module>\u001b[1;34m\u001b[0m\n\u001b[1;32m----> 1\u001b[1;33m \u001b[0mTEST\u001b[0m\u001b[1;33m\u001b[0m\u001b[1;33m\u001b[0m\u001b[0m\n\u001b[0m",
      "\u001b[1;31mNameError\u001b[0m: name 'TEST' is not defined"
     ]
    }
   ],
   "source": []
  }
 ],
 "metadata": {
  "kernelspec": {
   "display_name": "Python 3",
   "language": "python",
   "name": "python3"
  },
  "language_info": {
   "codemirror_mode": {
    "name": "ipython",
    "version": 3
   },
   "file_extension": ".py",
   "mimetype": "text/x-python",
   "name": "python",
   "nbconvert_exporter": "python",
   "pygments_lexer": "ipython3",
   "version": "3.8.1"
  }
 },
 "nbformat": 4,
 "nbformat_minor": 4
}
