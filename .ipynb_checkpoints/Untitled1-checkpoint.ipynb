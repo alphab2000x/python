{
 "cells": [
  {
   "cell_type": "code",
   "execution_count": null,
   "metadata": {},
   "outputs": [
    {
     "name": "stdout",
     "output_type": "stream",
     "text": [
      " * Serving Flask app \"__main__\" (lazy loading)\n",
      " * Environment: production\n",
      "   WARNING: This is a development server. Do not use it in a production deployment.\n",
      "   Use a production WSGI server instead.\n",
      " * Debug mode: off\n"
     ]
    },
    {
     "name": "stderr",
     "output_type": "stream",
     "text": [
      " * Running on http://127.0.0.1:5000/ (Press CTRL+C to quit)\n",
      "127.0.0.1 - - [31/Mar/2020 16:09:33] \"\u001b[37mGET /books/1 HTTP/1.1\u001b[0m\" 200 -\n",
      "127.0.0.1 - - [31/Mar/2020 16:09:38] \"\u001b[37mGET /books/3 HTTP/1.1\u001b[0m\" 200 -\n"
     ]
    }
   ],
   "source": [
    "\"\"\"\n",
    "\tExample of mini API in Flask\n",
    "\"\"\"\n",
    "\n",
    "\n",
    "from flask import Flask,jsonify,json\n",
    "\n",
    "app = Flask(__name__)\n",
    "\n",
    "with open('books.json') as json_data:\n",
    "    books = json.load(json_data)\n",
    "\n",
    "@app.route('/')\n",
    "def home():\n",
    "\treturn \"This is Flask on your localhost  (: \"\n",
    "\n",
    "\n",
    "@app.route('/route')\n",
    "def ma_route():\n",
    "    return\"Test \"\n",
    "\n",
    "\n",
    "@app.route('/books', methods=[\"GET\"])\n",
    "def get_books():\n",
    "    return jsonify({'books':books})\n",
    "\n",
    "@app.route('/books/<int:id>', methods=[\"GET\"])\n",
    "def get_book(id):\n",
    "    book = books[id]\n",
    "    return jsonify({'books':book})\n",
    "\n",
    "if __name__ == '__main__':\n",
    "\tapp.run()\n",
    "\n"
   ]
  },
  {
   "cell_type": "code",
   "execution_count": null,
   "metadata": {},
   "outputs": [],
   "source": []
  },
  {
   "cell_type": "code",
   "execution_count": null,
   "metadata": {},
   "outputs": [],
   "source": []
  }
 ],
 "metadata": {
  "kernelspec": {
   "display_name": "Python 3",
   "language": "python",
   "name": "python3"
  },
  "language_info": {
   "codemirror_mode": {
    "name": "ipython",
    "version": 3
   },
   "file_extension": ".py",
   "mimetype": "text/x-python",
   "name": "python",
   "nbconvert_exporter": "python",
   "pygments_lexer": "ipython3",
   "version": "3.8.1"
  }
 },
 "nbformat": 4,
 "nbformat_minor": 4
}
